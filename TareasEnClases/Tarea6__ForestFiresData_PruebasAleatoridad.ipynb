{
  "nbformat": 4,
  "nbformat_minor": 0,
  "metadata": {
    "colab": {
      "name": "Tarea6_ ForestFiresData-PruebasAleatoridad.ipynb",
      "provenance": [],
      "collapsed_sections": [],
      "authorship_tag": "ABX9TyPCYwMgeeELZUHfxtg3ffRo",
      "include_colab_link": true
    },
    "kernelspec": {
      "name": "python3",
      "display_name": "Python 3"
    },
    "language_info": {
      "name": "python"
    }
  },
  "cells": [
    {
      "cell_type": "markdown",
      "metadata": {
        "id": "view-in-github",
        "colab_type": "text"
      },
      "source": [
        "<a href=\"https://colab.research.google.com/github/Juancarlos56/Repositorio-Simulacion-10/blob/main/TareasEnClases/Tarea6__ForestFiresData_PruebasAleatoridad.ipynb\" target=\"_parent\"><img src=\"https://colab.research.google.com/assets/colab-badge.svg\" alt=\"Open In Colab\"/></a>"
      ]
    },
    {
      "cell_type": "markdown",
      "source": [
        "## Trabajo realizado por: \n",
        "\n",
        "Juan Carlos Barrera Barrera "
      ],
      "metadata": {
        "id": "24c4iDjXm5-e"
      }
    },
    {
      "cell_type": "markdown",
      "source": [
        "### Descripción de Tarea 1"
      ],
      "metadata": {
        "id": "U398OJVLQtIw"
      }
    },
    {
      "cell_type": "markdown",
      "source": [
        "Dado el conjunto de datos Forest-Fires-Data\n",
        "(AVAC), realice el cálculo de la covarianza\n",
        "empleando Excel o Python. Deberá considerar las\n",
        "variables: viento (wind) y humedad relativa (rH).\n",
        "La descripción del archivo se encuentra en:\n",
        "Forest-Fires-Description"
      ],
      "metadata": {
        "id": "iaDivbtZQqkA"
      }
    },
    {
      "cell_type": "code",
      "source": [
        "from google.colab import drive\n",
        "drive.mount('/content/drive')"
      ],
      "metadata": {
        "colab": {
          "base_uri": "https://localhost:8080/"
        },
        "id": "8-ZdYYdBT21n",
        "outputId": "afcc0f0a-7200-4832-fcf7-7101262a6daf"
      },
      "execution_count": null,
      "outputs": [
        {
          "output_type": "stream",
          "name": "stdout",
          "text": [
            "Mounted at /content/drive\n"
          ]
        }
      ]
    },
    {
      "cell_type": "code",
      "source": [
        "%cd /content/drive/My Drive/Colab Notebooks/TrabajosSimulacion/Tarea6_ ForestFiresData-PruebasAleatoridad\n",
        "!ls"
      ],
      "metadata": {
        "colab": {
          "base_uri": "https://localhost:8080/"
        },
        "id": "-Cfy1iQdT4Vk",
        "outputId": "b8ee6d27-97e3-4d84-f581-6c71cf89f56c"
      },
      "execution_count": null,
      "outputs": [
        {
          "output_type": "stream",
          "name": "stdout",
          "text": [
            "/content/drive/My Drive/Colab Notebooks/TrabajosSimulacion/Tarea6_ ForestFiresData-PruebasAleatoridad\n",
            " forestfires.csv  'Tarea6_ ForestFiresData-PruebasAleatoridad.ipynb'\n"
          ]
        }
      ]
    },
    {
      "cell_type": "code",
      "source": [
        "import matplotlib.pyplot as plt\n",
        "import numpy as np\n",
        "import pandas as pd\n",
        "import io\n",
        "from google.colab import files\n",
        "import plotly.graph_objects as go"
      ],
      "metadata": {
        "id": "e7ZORRZyULf-"
      },
      "execution_count": null,
      "outputs": []
    },
    {
      "cell_type": "code",
      "execution_count": null,
      "metadata": {
        "colab": {
          "base_uri": "https://localhost:8080/",
          "height": 206
        },
        "id": "_EuRivTRQmkc",
        "outputId": "e43ff5ca-2962-49bc-8791-cb989c288fb2"
      },
      "outputs": [
        {
          "output_type": "execute_result",
          "data": {
            "text/plain": [
              "   X  Y month  day  FFMC   DMC     DC  ISI  temp  RH  wind  rain  area\n",
              "0  7  5   mar  fri  86.2  26.2   94.3  5.1   8.2  51   6.7   0.0   0.0\n",
              "1  7  4   oct  tue  90.6  35.4  669.1  6.7  18.0  33   0.9   0.0   0.0\n",
              "2  7  4   oct  sat  90.6  43.7  686.9  6.7  14.6  33   1.3   0.0   0.0\n",
              "3  8  6   mar  fri  91.7  33.3   77.5  9.0   8.3  97   4.0   0.2   0.0\n",
              "4  8  6   mar  sun  89.3  51.3  102.2  9.6  11.4  99   1.8   0.0   0.0"
            ],
            "text/html": [
              "\n",
              "  <div id=\"df-5aebcaf7-10db-4a87-835c-345205a0536b\">\n",
              "    <div class=\"colab-df-container\">\n",
              "      <div>\n",
              "<style scoped>\n",
              "    .dataframe tbody tr th:only-of-type {\n",
              "        vertical-align: middle;\n",
              "    }\n",
              "\n",
              "    .dataframe tbody tr th {\n",
              "        vertical-align: top;\n",
              "    }\n",
              "\n",
              "    .dataframe thead th {\n",
              "        text-align: right;\n",
              "    }\n",
              "</style>\n",
              "<table border=\"1\" class=\"dataframe\">\n",
              "  <thead>\n",
              "    <tr style=\"text-align: right;\">\n",
              "      <th></th>\n",
              "      <th>X</th>\n",
              "      <th>Y</th>\n",
              "      <th>month</th>\n",
              "      <th>day</th>\n",
              "      <th>FFMC</th>\n",
              "      <th>DMC</th>\n",
              "      <th>DC</th>\n",
              "      <th>ISI</th>\n",
              "      <th>temp</th>\n",
              "      <th>RH</th>\n",
              "      <th>wind</th>\n",
              "      <th>rain</th>\n",
              "      <th>area</th>\n",
              "    </tr>\n",
              "  </thead>\n",
              "  <tbody>\n",
              "    <tr>\n",
              "      <th>0</th>\n",
              "      <td>7</td>\n",
              "      <td>5</td>\n",
              "      <td>mar</td>\n",
              "      <td>fri</td>\n",
              "      <td>86.2</td>\n",
              "      <td>26.2</td>\n",
              "      <td>94.3</td>\n",
              "      <td>5.1</td>\n",
              "      <td>8.2</td>\n",
              "      <td>51</td>\n",
              "      <td>6.7</td>\n",
              "      <td>0.0</td>\n",
              "      <td>0.0</td>\n",
              "    </tr>\n",
              "    <tr>\n",
              "      <th>1</th>\n",
              "      <td>7</td>\n",
              "      <td>4</td>\n",
              "      <td>oct</td>\n",
              "      <td>tue</td>\n",
              "      <td>90.6</td>\n",
              "      <td>35.4</td>\n",
              "      <td>669.1</td>\n",
              "      <td>6.7</td>\n",
              "      <td>18.0</td>\n",
              "      <td>33</td>\n",
              "      <td>0.9</td>\n",
              "      <td>0.0</td>\n",
              "      <td>0.0</td>\n",
              "    </tr>\n",
              "    <tr>\n",
              "      <th>2</th>\n",
              "      <td>7</td>\n",
              "      <td>4</td>\n",
              "      <td>oct</td>\n",
              "      <td>sat</td>\n",
              "      <td>90.6</td>\n",
              "      <td>43.7</td>\n",
              "      <td>686.9</td>\n",
              "      <td>6.7</td>\n",
              "      <td>14.6</td>\n",
              "      <td>33</td>\n",
              "      <td>1.3</td>\n",
              "      <td>0.0</td>\n",
              "      <td>0.0</td>\n",
              "    </tr>\n",
              "    <tr>\n",
              "      <th>3</th>\n",
              "      <td>8</td>\n",
              "      <td>6</td>\n",
              "      <td>mar</td>\n",
              "      <td>fri</td>\n",
              "      <td>91.7</td>\n",
              "      <td>33.3</td>\n",
              "      <td>77.5</td>\n",
              "      <td>9.0</td>\n",
              "      <td>8.3</td>\n",
              "      <td>97</td>\n",
              "      <td>4.0</td>\n",
              "      <td>0.2</td>\n",
              "      <td>0.0</td>\n",
              "    </tr>\n",
              "    <tr>\n",
              "      <th>4</th>\n",
              "      <td>8</td>\n",
              "      <td>6</td>\n",
              "      <td>mar</td>\n",
              "      <td>sun</td>\n",
              "      <td>89.3</td>\n",
              "      <td>51.3</td>\n",
              "      <td>102.2</td>\n",
              "      <td>9.6</td>\n",
              "      <td>11.4</td>\n",
              "      <td>99</td>\n",
              "      <td>1.8</td>\n",
              "      <td>0.0</td>\n",
              "      <td>0.0</td>\n",
              "    </tr>\n",
              "  </tbody>\n",
              "</table>\n",
              "</div>\n",
              "      <button class=\"colab-df-convert\" onclick=\"convertToInteractive('df-5aebcaf7-10db-4a87-835c-345205a0536b')\"\n",
              "              title=\"Convert this dataframe to an interactive table.\"\n",
              "              style=\"display:none;\">\n",
              "        \n",
              "  <svg xmlns=\"http://www.w3.org/2000/svg\" height=\"24px\"viewBox=\"0 0 24 24\"\n",
              "       width=\"24px\">\n",
              "    <path d=\"M0 0h24v24H0V0z\" fill=\"none\"/>\n",
              "    <path d=\"M18.56 5.44l.94 2.06.94-2.06 2.06-.94-2.06-.94-.94-2.06-.94 2.06-2.06.94zm-11 1L8.5 8.5l.94-2.06 2.06-.94-2.06-.94L8.5 2.5l-.94 2.06-2.06.94zm10 10l.94 2.06.94-2.06 2.06-.94-2.06-.94-.94-2.06-.94 2.06-2.06.94z\"/><path d=\"M17.41 7.96l-1.37-1.37c-.4-.4-.92-.59-1.43-.59-.52 0-1.04.2-1.43.59L10.3 9.45l-7.72 7.72c-.78.78-.78 2.05 0 2.83L4 21.41c.39.39.9.59 1.41.59.51 0 1.02-.2 1.41-.59l7.78-7.78 2.81-2.81c.8-.78.8-2.07 0-2.86zM5.41 20L4 18.59l7.72-7.72 1.47 1.35L5.41 20z\"/>\n",
              "  </svg>\n",
              "      </button>\n",
              "      \n",
              "  <style>\n",
              "    .colab-df-container {\n",
              "      display:flex;\n",
              "      flex-wrap:wrap;\n",
              "      gap: 12px;\n",
              "    }\n",
              "\n",
              "    .colab-df-convert {\n",
              "      background-color: #E8F0FE;\n",
              "      border: none;\n",
              "      border-radius: 50%;\n",
              "      cursor: pointer;\n",
              "      display: none;\n",
              "      fill: #1967D2;\n",
              "      height: 32px;\n",
              "      padding: 0 0 0 0;\n",
              "      width: 32px;\n",
              "    }\n",
              "\n",
              "    .colab-df-convert:hover {\n",
              "      background-color: #E2EBFA;\n",
              "      box-shadow: 0px 1px 2px rgba(60, 64, 67, 0.3), 0px 1px 3px 1px rgba(60, 64, 67, 0.15);\n",
              "      fill: #174EA6;\n",
              "    }\n",
              "\n",
              "    [theme=dark] .colab-df-convert {\n",
              "      background-color: #3B4455;\n",
              "      fill: #D2E3FC;\n",
              "    }\n",
              "\n",
              "    [theme=dark] .colab-df-convert:hover {\n",
              "      background-color: #434B5C;\n",
              "      box-shadow: 0px 1px 3px 1px rgba(0, 0, 0, 0.15);\n",
              "      filter: drop-shadow(0px 1px 2px rgba(0, 0, 0, 0.3));\n",
              "      fill: #FFFFFF;\n",
              "    }\n",
              "  </style>\n",
              "\n",
              "      <script>\n",
              "        const buttonEl =\n",
              "          document.querySelector('#df-5aebcaf7-10db-4a87-835c-345205a0536b button.colab-df-convert');\n",
              "        buttonEl.style.display =\n",
              "          google.colab.kernel.accessAllowed ? 'block' : 'none';\n",
              "\n",
              "        async function convertToInteractive(key) {\n",
              "          const element = document.querySelector('#df-5aebcaf7-10db-4a87-835c-345205a0536b');\n",
              "          const dataTable =\n",
              "            await google.colab.kernel.invokeFunction('convertToInteractive',\n",
              "                                                     [key], {});\n",
              "          if (!dataTable) return;\n",
              "\n",
              "          const docLinkHtml = 'Like what you see? Visit the ' +\n",
              "            '<a target=\"_blank\" href=https://colab.research.google.com/notebooks/data_table.ipynb>data table notebook</a>'\n",
              "            + ' to learn more about interactive tables.';\n",
              "          element.innerHTML = '';\n",
              "          dataTable['output_type'] = 'display_data';\n",
              "          await google.colab.output.renderOutput(dataTable, element);\n",
              "          const docLink = document.createElement('div');\n",
              "          docLink.innerHTML = docLinkHtml;\n",
              "          element.appendChild(docLink);\n",
              "        }\n",
              "      </script>\n",
              "    </div>\n",
              "  </div>\n",
              "  "
            ]
          },
          "metadata": {},
          "execution_count": 4
        }
      ],
      "source": [
        "datasetCompleto = pd.read_csv('forestfires.csv', low_memory=False, sep=',')\n",
        "datasetCompleto.head(5)"
      ]
    },
    {
      "cell_type": "markdown",
      "source": [
        "#### Diagrama de dispersión\n",
        "\n",
        "Dada una muestra (x1,y1),(x2,y2),...,(xn,yn) en la que se miden las variables X e Y para cada elemento, podríamos graficar estos pares de puntos en un eje cartesiano.\n",
        "\n",
        "Y ahora vamos a graficar el diagrama de dispersión entre viento (wind) y humedad relativa (rH) utilizando la función geom_point de plotnine"
      ],
      "metadata": {
        "id": "V0pFOlj-VF2l"
      }
    },
    {
      "cell_type": "code",
      "source": [
        "from plotnine import *\n",
        "\n",
        "(ggplot(datasetCompleto, aes(x = \"RH\", y = \"wind\")) + \n",
        "geom_point())"
      ],
      "metadata": {
        "colab": {
          "base_uri": "https://localhost:8080/",
          "height": 464
        },
        "id": "k1gCUF25Ubha",
        "outputId": "8a69d7e7-4151-48af-ca0d-c3c414e980f2"
      },
      "execution_count": null,
      "outputs": [
        {
          "output_type": "display_data",
          "data": {
            "text/plain": [
              "<Figure size 640x480 with 1 Axes>"
            ],
            "image/png": "[encoded data removed]"
          },
          "metadata": {}
        },
        {
          "output_type": "execute_result",
          "data": {
            "text/plain": [
              "<ggplot: (8773684709565)>"
            ]
          },
          "metadata": {},
          "execution_count": 8
        }
      ]
    },
    {
      "cell_type": "markdown",
      "source": [
        "### Covarianza\n",
        "\n",
        "La estadística no sólo sirve para entender cada variable por separado, sino que también podemos entender las relaciones entre dos o más variables, gráficamente y a través de estadísticos. En este caso vamos a hablar acerca de las relaciones entre dos variables cuantitativas utilizando la Covarianza.\n",
        "\n",
        "Formula: \n",
        "\n",
        "$$ S_{XY} = \\frac{\\sum_{i=1}^{n}(x_i-\\bar{X})(y_i-\\bar{Y})}{n-1} $$\n",
        "\n",
        "Con este metodo estadístico medimos el signo de la relación lineal entre X e Y:\n",
        "\n",
        "- Si SXY=0 entonces no existe relación lineal entre X e Y\n",
        "- Si SXY>0 entonces existe una relación lineal directa o positiva entre X e Y. Esto es, a mayores valores de X, en promedio tenemos mayores valores de Y y viceversa.\n",
        "- Si SXY < 0 entonces existe una relación lineal inversa o negativa entre X e Y. Esto es, a mayores valores de X, en promedio tenemos menores valores de Y y viceversa."
      ],
      "metadata": {
        "id": "oepjJmXbU9T9"
      }
    },
    {
      "cell_type": "markdown",
      "source": [
        "#### Covarianza de todo el dataset con todas las variables"
      ],
      "metadata": {
        "id": "PO0ku2hhXM3t"
      }
    },
    {
      "cell_type": "code",
      "source": [
        "cov_mat = datasetCompleto.cov()\n",
        "cov_mat"
      ],
      "metadata": {
        "colab": {
          "base_uri": "https://localhost:8080/",
          "height": 394
        },
        "id": "O7zJ3saRW17W",
        "outputId": "071b14d6-5710-48f0-d8dc-cbe019d989a9"
      },
      "execution_count": null,
      "outputs": [
        {
          "output_type": "execute_result",
          "data": {
            "text/plain": [
              "              X          Y        FFMC           DMC            DC  \\\n",
              "X      5.353568   1.535401   -0.268720     -7.170019    -49.313282   \n",
              "Y      1.535401   1.512655   -0.314391      0.612960    -30.869004   \n",
              "FFMC  -0.268720  -0.314391   30.471624    135.272459    452.587277   \n",
              "DMC   -7.170019   0.612960  135.272459   4101.951889  10838.501342   \n",
              "DC   -49.313282 -30.869004  452.587277  10838.501342  61536.835467   \n",
              "ISI    0.065512  -0.137321   13.384902     89.102965    259.185313   \n",
              "temp  -0.688667  -0.172134   13.831997    174.639099    714.751694   \n",
              "RH     3.217602   1.248699  -27.111933     77.121359   -158.640438   \n",
              "wind   0.077926  -0.044822   -0.281718    -12.087923    -90.430008   \n",
              "rain   0.044776   0.012097    0.092635      1.417655      2.632813   \n",
              "area   9.335731   3.513139   14.098358    297.592727    779.803423   \n",
              "\n",
              "             ISI        temp          RH       wind      rain         area  \n",
              "X       0.065512   -0.688667    3.217602   0.077926  0.044776     9.335731  \n",
              "Y      -0.137321   -0.172134    1.248699  -0.044822  0.012097     3.513139  \n",
              "FFMC   13.384902   13.831997  -27.111933  -0.281718  0.092635    14.098358  \n",
              "DMC    89.102965  174.639099   77.121359 -12.087923  1.417655   297.592727  \n",
              "DC    259.185313  714.751694 -158.640438 -90.430008  2.632813   779.803423  \n",
              "ISI    20.788832   10.438820   -9.859163   0.872661  0.091313     2.396689  \n",
              "temp   10.438820   33.716898  -49.969934  -2.362793  0.119421    36.165676  \n",
              "RH     -9.859163  -49.969934  266.259802   2.029220  0.481729   -78.441272  \n",
              "wind    0.872661   -2.362793    2.029220   3.210019  0.032409     1.404775  \n",
              "rain    0.091313    0.119421    0.481729   0.032409  0.087592    -0.138767  \n",
              "area    2.396689   36.165676  -78.441272   1.404775 -0.138767  4052.063225  "
            ],
            "text/html": [
              "\n",
              "  <div id=\"df-dd641e41-2ff8-46f9-a6dc-923857d81e9e\">\n",
              "    <div class=\"colab-df-container\">\n",
              "      <div>\n",
              "<style scoped>\n",
              "    .dataframe tbody tr th:only-of-type {\n",
              "        vertical-align: middle;\n",
              "    }\n",
              "\n",
              "    .dataframe tbody tr th {\n",
              "        vertical-align: top;\n",
              "    }\n",
              "\n",
              "    .dataframe thead th {\n",
              "        text-align: right;\n",
              "    }\n",
              "</style>\n",
              "<table border=\"1\" class=\"dataframe\">\n",
              "  <thead>\n",
              "    <tr style=\"text-align: right;\">\n",
              "      <th></th>\n",
              "      <th>X</th>\n",
              "      <th>Y</th>\n",
              "      <th>FFMC</th>\n",
              "      <th>DMC</th>\n",
              "      <th>DC</th>\n",
              "      <th>ISI</th>\n",
              "      <th>temp</th>\n",
              "      <th>RH</th>\n",
              "      <th>wind</th>\n",
              "      <th>rain</th>\n",
              "      <th>area</th>\n",
              "    </tr>\n",
              "  </thead>\n",
              "  <tbody>\n",
              "    <tr>\n",
              "      <th>X</th>\n",
              "      <td>5.353568</td>\n",
              "      <td>1.535401</td>\n",
              "      <td>-0.268720</td>\n",
              "      <td>-7.170019</td>\n",
              "      <td>-49.313282</td>\n",
              "      <td>0.065512</td>\n",
              "      <td>-0.688667</td>\n",
              "      <td>3.217602</td>\n",
              "      <td>0.077926</td>\n",
              "      <td>0.044776</td>\n",
              "      <td>9.335731</td>\n",
              "    </tr>\n",
              "    <tr>\n",
              "      <th>Y</th>\n",
              "      <td>1.535401</td>\n",
              "      <td>1.512655</td>\n",
              "      <td>-0.314391</td>\n",
              "      <td>0.612960</td>\n",
              "      <td>-30.869004</td>\n",
              "      <td>-0.137321</td>\n",
              "      <td>-0.172134</td>\n",
              "      <td>1.248699</td>\n",
              "      <td>-0.044822</td>\n",
              "      <td>0.012097</td>\n",
              "      <td>3.513139</td>\n",
              "    </tr>\n",
              "    <tr>\n",
              "      <th>FFMC</th>\n",
              "      <td>-0.268720</td>\n",
              "      <td>-0.314391</td>\n",
              "      <td>30.471624</td>\n",
              "      <td>135.272459</td>\n",
              "      <td>452.587277</td>\n",
              "      <td>13.384902</td>\n",
              "      <td>13.831997</td>\n",
              "      <td>-27.111933</td>\n",
              "      <td>-0.281718</td>\n",
              "      <td>0.092635</td>\n",
              "      <td>14.098358</td>\n",
              "    </tr>\n",
              "    <tr>\n",
              "      <th>DMC</th>\n",
              "      <td>-7.170019</td>\n",
              "      <td>0.612960</td>\n",
              "      <td>135.272459</td>\n",
              "      <td>4101.951889</td>\n",
              "      <td>10838.501342</td>\n",
              "      <td>89.102965</td>\n",
              "      <td>174.639099</td>\n",
              "      <td>77.121359</td>\n",
              "      <td>-12.087923</td>\n",
              "      <td>1.417655</td>\n",
              "      <td>297.592727</td>\n",
              "    </tr>\n",
              "    <tr>\n",
              "      <th>DC</th>\n",
              "      <td>-49.313282</td>\n",
              "      <td>-30.869004</td>\n",
              "      <td>452.587277</td>\n",
              "      <td>10838.501342</td>\n",
              "      <td>61536.835467</td>\n",
              "      <td>259.185313</td>\n",
              "      <td>714.751694</td>\n",
              "      <td>-158.640438</td>\n",
              "      <td>-90.430008</td>\n",
              "      <td>2.632813</td>\n",
              "      <td>779.803423</td>\n",
              "    </tr>\n",
              "    <tr>\n",
              "      <th>ISI</th>\n",
              "      <td>0.065512</td>\n",
              "      <td>-0.137321</td>\n",
              "      <td>13.384902</td>\n",
              "      <td>89.102965</td>\n",
              "      <td>259.185313</td>\n",
              "      <td>20.788832</td>\n",
              "      <td>10.438820</td>\n",
              "      <td>-9.859163</td>\n",
              "      <td>0.872661</td>\n",
              "      <td>0.091313</td>\n",
              "      <td>2.396689</td>\n",
              "    </tr>\n",
              "    <tr>\n",
              "      <th>temp</th>\n",
              "      <td>-0.688667</td>\n",
              "      <td>-0.172134</td>\n",
              "      <td>13.831997</td>\n",
              "      <td>174.639099</td>\n",
              "      <td>714.751694</td>\n",
              "      <td>10.438820</td>\n",
              "      <td>33.716898</td>\n",
              "      <td>-49.969934</td>\n",
              "      <td>-2.362793</td>\n",
              "      <td>0.119421</td>\n",
              "      <td>36.165676</td>\n",
              "    </tr>\n",
              "    <tr>\n",
              "      <th>RH</th>\n",
              "      <td>3.217602</td>\n",
              "      <td>1.248699</td>\n",
              "      <td>-27.111933</td>\n",
              "      <td>77.121359</td>\n",
              "      <td>-158.640438</td>\n",
              "      <td>-9.859163</td>\n",
              "      <td>-49.969934</td>\n",
              "      <td>266.259802</td>\n",
              "      <td>2.029220</td>\n",
              "      <td>0.481729</td>\n",
              "      <td>-78.441272</td>\n",
              "    </tr>\n",
              "    <tr>\n",
              "      <th>wind</th>\n",
              "      <td>0.077926</td>\n",
              "      <td>-0.044822</td>\n",
              "      <td>-0.281718</td>\n",
              "      <td>-12.087923</td>\n",
              "      <td>-90.430008</td>\n",
              "      <td>0.872661</td>\n",
              "      <td>-2.362793</td>\n",
              "      <td>2.029220</td>\n",
              "      <td>3.210019</td>\n",
              "      <td>0.032409</td>\n",
              "      <td>1.404775</td>\n",
              "    </tr>\n",
              "    <tr>\n",
              "      <th>rain</th>\n",
              "      <td>0.044776</td>\n",
              "      <td>0.012097</td>\n",
              "      <td>0.092635</td>\n",
              "      <td>1.417655</td>\n",
              "      <td>2.632813</td>\n",
              "      <td>0.091313</td>\n",
              "      <td>0.119421</td>\n",
              "      <td>0.481729</td>\n",
              "      <td>0.032409</td>\n",
              "      <td>0.087592</td>\n",
              "      <td>-0.138767</td>\n",
              "    </tr>\n",
              "    <tr>\n",
              "      <th>area</th>\n",
              "      <td>9.335731</td>\n",
              "      <td>3.513139</td>\n",
              "      <td>14.098358</td>\n",
              "      <td>297.592727</td>\n",
              "      <td>779.803423</td>\n",
              "      <td>2.396689</td>\n",
              "      <td>36.165676</td>\n",
              "      <td>-78.441272</td>\n",
              "      <td>1.404775</td>\n",
              "      <td>-0.138767</td>\n",
              "      <td>4052.063225</td>\n",
              "    </tr>\n",
              "  </tbody>\n",
              "</table>\n",
              "</div>\n",
              "      <button class=\"colab-df-convert\" onclick=\"convertToInteractive('df-dd641e41-2ff8-46f9-a6dc-923857d81e9e')\"\n",
              "              title=\"Convert this dataframe to an interactive table.\"\n",
              "              style=\"display:none;\">\n",
              "        \n",
              "  <svg xmlns=\"http://www.w3.org/2000/svg\" height=\"24px\"viewBox=\"0 0 24 24\"\n",
              "       width=\"24px\">\n",
              "    <path d=\"M0 0h24v24H0V0z\" fill=\"none\"/>\n",
              "    <path d=\"M18.56 5.44l.94 2.06.94-2.06 2.06-.94-2.06-.94-.94-2.06-.94 2.06-2.06.94zm-11 1L8.5 8.5l.94-2.06 2.06-.94-2.06-.94L8.5 2.5l-.94 2.06-2.06.94zm10 10l.94 2.06.94-2.06 2.06-.94-2.06-.94-.94-2.06-.94 2.06-2.06.94z\"/><path d=\"M17.41 7.96l-1.37-1.37c-.4-.4-.92-.59-1.43-.59-.52 0-1.04.2-1.43.59L10.3 9.45l-7.72 7.72c-.78.78-.78 2.05 0 2.83L4 21.41c.39.39.9.59 1.41.59.51 0 1.02-.2 1.41-.59l7.78-7.78 2.81-2.81c.8-.78.8-2.07 0-2.86zM5.41 20L4 18.59l7.72-7.72 1.47 1.35L5.41 20z\"/>\n",
              "  </svg>\n",
              "      </button>\n",
              "      \n",
              "  <style>\n",
              "    .colab-df-container {\n",
              "      display:flex;\n",
              "      flex-wrap:wrap;\n",
              "      gap: 12px;\n",
              "    }\n",
              "\n",
              "    .colab-df-convert {\n",
              "      background-color: #E8F0FE;\n",
              "      border: none;\n",
              "      border-radius: 50%;\n",
              "      cursor: pointer;\n",
              "      display: none;\n",
              "      fill: #1967D2;\n",
              "      height: 32px;\n",
              "      padding: 0 0 0 0;\n",
              "      width: 32px;\n",
              "    }\n",
              "\n",
              "    .colab-df-convert:hover {\n",
              "      background-color: #E2EBFA;\n",
              "      box-shadow: 0px 1px 2px rgba(60, 64, 67, 0.3), 0px 1px 3px 1px rgba(60, 64, 67, 0.15);\n",
              "      fill: #174EA6;\n",
              "    }\n",
              "\n",
              "    [theme=dark] .colab-df-convert {\n",
              "      background-color: #3B4455;\n",
              "      fill: #D2E3FC;\n",
              "    }\n",
              "\n",
              "    [theme=dark] .colab-df-convert:hover {\n",
              "      background-color: #434B5C;\n",
              "      box-shadow: 0px 1px 3px 1px rgba(0, 0, 0, 0.15);\n",
              "      filter: drop-shadow(0px 1px 2px rgba(0, 0, 0, 0.3));\n",
              "      fill: #FFFFFF;\n",
              "    }\n",
              "  </style>\n",
              "\n",
              "      <script>\n",
              "        const buttonEl =\n",
              "          document.querySelector('#df-dd641e41-2ff8-46f9-a6dc-923857d81e9e button.colab-df-convert');\n",
              "        buttonEl.style.display =\n",
              "          google.colab.kernel.accessAllowed ? 'block' : 'none';\n",
              "\n",
              "        async function convertToInteractive(key) {\n",
              "          const element = document.querySelector('#df-dd641e41-2ff8-46f9-a6dc-923857d81e9e');\n",
              "          const dataTable =\n",
              "            await google.colab.kernel.invokeFunction('convertToInteractive',\n",
              "                                                     [key], {});\n",
              "          if (!dataTable) return;\n",
              "\n",
              "          const docLinkHtml = 'Like what you see? Visit the ' +\n",
              "            '<a target=\"_blank\" href=https://colab.research.google.com/notebooks/data_table.ipynb>data table notebook</a>'\n",
              "            + ' to learn more about interactive tables.';\n",
              "          element.innerHTML = '';\n",
              "          dataTable['output_type'] = 'display_data';\n",
              "          await google.colab.output.renderOutput(dataTable, element);\n",
              "          const docLink = document.createElement('div');\n",
              "          docLink.innerHTML = docLinkHtml;\n",
              "          element.appendChild(docLink);\n",
              "        }\n",
              "      </script>\n",
              "    </div>\n",
              "  </div>\n",
              "  "
            ]
          },
          "metadata": {},
          "execution_count": 12
        }
      ]
    },
    {
      "cell_type": "markdown",
      "source": [
        "#### Obtención de covarianza para nuestras variables de interes"
      ],
      "metadata": {
        "id": "K00qIB2sXFXN"
      }
    },
    {
      "cell_type": "code",
      "source": [
        "cov_mat.loc[\"RH\", \"wind\"]"
      ],
      "metadata": {
        "colab": {
          "base_uri": "https://localhost:8080/"
        },
        "id": "dseM9OXuW6p_",
        "outputId": "d962b56a-02ce-4a64-e35d-40ef1392bfdd"
      },
      "execution_count": null,
      "outputs": [
        {
          "output_type": "execute_result",
          "data": {
            "text/plain": [
              "2.0292197082152543"
            ]
          },
          "metadata": {},
          "execution_count": 10
        }
      ]
    },
    {
      "cell_type": "markdown",
      "source": [
        "Si SXY>0 entonces existe una relación lineal directa o positiva entre X e Y. Esto es, a mayores valores de X, en promedio tenemos mayores valores de Y y viceversa."
      ],
      "metadata": {
        "id": "4nK_FcTyXb8O"
      }
    },
    {
      "cell_type": "markdown",
      "source": [
        "### Conclusión \n",
        "\n",
        "Luego de haber obtenido el valor y graficar el\n",
        "diagrama de dispersión. Se concluye mediante el grafico de dispersión se tiene que existe una relacion debil/nula entre las variables de humedad relativa y viento, esto tambien se demuestra al momento que obtenemos la covariaza, tenemos que el valor es positivo por lo tanto tenemos una relacion positiva, pero el valor sigue siendo muy pequeño para decir que existe una relacion fuerte entre estas dos variables. \n",
        "\n"
      ],
      "metadata": {
        "id": "VVvT91csX-bA"
      }
    },
    {
      "cell_type": "markdown",
      "source": [
        "\n",
        "### Descripción tarea 2\n",
        "\n",
        "Dado el conjunto de datos Forest-Fires-Data\n",
        "(AVAC), realice el cálculo del coeficiente de\n",
        "correllación lineal de Pearson empleando Excel o\n",
        "Python. Deberá considerar las variables: viento\n",
        "(wind) y humedad relativa (rH). \n",
        "\n"
      ],
      "metadata": {
        "id": "hZPOPRbFWLzF"
      }
    },
    {
      "cell_type": "markdown",
      "source": [
        "Aunque la covarianza nos da el signo de la relación entre dos variables, al depender de las unidades de X y de Y, no sabemos si un valor es alto o bajo; sólo sabemos el signo. Para solucionar esto, estandarizamos los valores.\n",
        "\n",
        "$$r_{XY} = \\frac{S_{XY}}{S_X S_Y}$$"
      ],
      "metadata": {
        "id": "FXAI_Cngfaa4"
      }
    },
    {
      "cell_type": "code",
      "source": [
        "corr_mat = datasetCompleto.corr()\n",
        "corr_mat"
      ],
      "metadata": {
        "colab": {
          "base_uri": "https://localhost:8080/",
          "height": 394
        },
        "id": "csrtLFgjfP_E",
        "outputId": "67d746aa-bfbd-4b62-db6c-989bafa6ecf0"
      },
      "execution_count": null,
      "outputs": [
        {
          "output_type": "execute_result",
          "data": {
            "text/plain": [
              "             X         Y      FFMC       DMC        DC       ISI      temp  \\\n",
              "X     1.000000  0.539548 -0.021039 -0.048384 -0.085916  0.006210 -0.051258   \n",
              "Y     0.539548  1.000000 -0.046308  0.007782 -0.101178 -0.024488 -0.024103   \n",
              "FFMC -0.021039 -0.046308  1.000000  0.382619  0.330512  0.531805  0.431532   \n",
              "DMC  -0.048384  0.007782  0.382619  1.000000  0.682192  0.305128  0.469594   \n",
              "DC   -0.085916 -0.101178  0.330512  0.682192  1.000000  0.229154  0.496208   \n",
              "ISI   0.006210 -0.024488  0.531805  0.305128  0.229154  1.000000  0.394287   \n",
              "temp -0.051258 -0.024103  0.431532  0.469594  0.496208  0.394287  1.000000   \n",
              "RH    0.085223  0.062221 -0.300995  0.073795 -0.039192 -0.132517 -0.527390   \n",
              "wind  0.018798 -0.020341 -0.028485 -0.105342 -0.203466  0.106826 -0.227116   \n",
              "rain  0.065387  0.033234  0.056702  0.074790  0.035861  0.067668  0.069491   \n",
              "area  0.063385  0.044873  0.040122  0.072994  0.049383  0.008258  0.097844   \n",
              "\n",
              "            RH      wind      rain      area  \n",
              "X     0.085223  0.018798  0.065387  0.063385  \n",
              "Y     0.062221 -0.020341  0.033234  0.044873  \n",
              "FFMC -0.300995 -0.028485  0.056702  0.040122  \n",
              "DMC   0.073795 -0.105342  0.074790  0.072994  \n",
              "DC   -0.039192 -0.203466  0.035861  0.049383  \n",
              "ISI  -0.132517  0.106826  0.067668  0.008258  \n",
              "temp -0.527390 -0.227116  0.069491  0.097844  \n",
              "RH    1.000000  0.069410  0.099751 -0.075519  \n",
              "wind  0.069410  1.000000  0.061119  0.012317  \n",
              "rain  0.099751  0.061119  1.000000 -0.007366  \n",
              "area -0.075519  0.012317 -0.007366  1.000000  "
            ],
            "text/html": [
              "\n",
              "  <div id=\"df-d3cb55d9-01a3-46de-ad7e-5a2689be4f4d\">\n",
              "    <div class=\"colab-df-container\">\n",
              "      <div>\n",
              "<style scoped>\n",
              "    .dataframe tbody tr th:only-of-type {\n",
              "        vertical-align: middle;\n",
              "    }\n",
              "\n",
              "    .dataframe tbody tr th {\n",
              "        vertical-align: top;\n",
              "    }\n",
              "\n",
              "    .dataframe thead th {\n",
              "        text-align: right;\n",
              "    }\n",
              "</style>\n",
              "<table border=\"1\" class=\"dataframe\">\n",
              "  <thead>\n",
              "    <tr style=\"text-align: right;\">\n",
              "      <th></th>\n",
              "      <th>X</th>\n",
              "      <th>Y</th>\n",
              "      <th>FFMC</th>\n",
              "      <th>DMC</th>\n",
              "      <th>DC</th>\n",
              "      <th>ISI</th>\n",
              "      <th>temp</th>\n",
              "      <th>RH</th>\n",
              "      <th>wind</th>\n",
              "      <th>rain</th>\n",
              "      <th>area</th>\n",
              "    </tr>\n",
              "  </thead>\n",
              "  <tbody>\n",
              "    <tr>\n",
              "      <th>X</th>\n",
              "      <td>1.000000</td>\n",
              "      <td>0.539548</td>\n",
              "      <td>-0.021039</td>\n",
              "      <td>-0.048384</td>\n",
              "      <td>-0.085916</td>\n",
              "      <td>0.006210</td>\n",
              "      <td>-0.051258</td>\n",
              "      <td>0.085223</td>\n",
              "      <td>0.018798</td>\n",
              "      <td>0.065387</td>\n",
              "      <td>0.063385</td>\n",
              "    </tr>\n",
              "    <tr>\n",
              "      <th>Y</th>\n",
              "      <td>0.539548</td>\n",
              "      <td>1.000000</td>\n",
              "      <td>-0.046308</td>\n",
              "      <td>0.007782</td>\n",
              "      <td>-0.101178</td>\n",
              "      <td>-0.024488</td>\n",
              "      <td>-0.024103</td>\n",
              "      <td>0.062221</td>\n",
              "      <td>-0.020341</td>\n",
              "      <td>0.033234</td>\n",
              "      <td>0.044873</td>\n",
              "    </tr>\n",
              "    <tr>\n",
              "      <th>FFMC</th>\n",
              "      <td>-0.021039</td>\n",
              "      <td>-0.046308</td>\n",
              "      <td>1.000000</td>\n",
              "      <td>0.382619</td>\n",
              "      <td>0.330512</td>\n",
              "      <td>0.531805</td>\n",
              "      <td>0.431532</td>\n",
              "      <td>-0.300995</td>\n",
              "      <td>-0.028485</td>\n",
              "      <td>0.056702</td>\n",
              "      <td>0.040122</td>\n",
              "    </tr>\n",
              "    <tr>\n",
              "      <th>DMC</th>\n",
              "      <td>-0.048384</td>\n",
              "      <td>0.007782</td>\n",
              "      <td>0.382619</td>\n",
              "      <td>1.000000</td>\n",
              "      <td>0.682192</td>\n",
              "      <td>0.305128</td>\n",
              "      <td>0.469594</td>\n",
              "      <td>0.073795</td>\n",
              "      <td>-0.105342</td>\n",
              "      <td>0.074790</td>\n",
              "      <td>0.072994</td>\n",
              "    </tr>\n",
              "    <tr>\n",
              "      <th>DC</th>\n",
              "      <td>-0.085916</td>\n",
              "      <td>-0.101178</td>\n",
              "      <td>0.330512</td>\n",
              "      <td>0.682192</td>\n",
              "      <td>1.000000</td>\n",
              "      <td>0.229154</td>\n",
              "      <td>0.496208</td>\n",
              "      <td>-0.039192</td>\n",
              "      <td>-0.203466</td>\n",
              "      <td>0.035861</td>\n",
              "      <td>0.049383</td>\n",
              "    </tr>\n",
              "    <tr>\n",
              "      <th>ISI</th>\n",
              "      <td>0.006210</td>\n",
              "      <td>-0.024488</td>\n",
              "      <td>0.531805</td>\n",
              "      <td>0.305128</td>\n",
              "      <td>0.229154</td>\n",
              "      <td>1.000000</td>\n",
              "      <td>0.394287</td>\n",
              "      <td>-0.132517</td>\n",
              "      <td>0.106826</td>\n",
              "      <td>0.067668</td>\n",
              "      <td>0.008258</td>\n",
              "    </tr>\n",
              "    <tr>\n",
              "      <th>temp</th>\n",
              "      <td>-0.051258</td>\n",
              "      <td>-0.024103</td>\n",
              "      <td>0.431532</td>\n",
              "      <td>0.469594</td>\n",
              "      <td>0.496208</td>\n",
              "      <td>0.394287</td>\n",
              "      <td>1.000000</td>\n",
              "      <td>-0.527390</td>\n",
              "      <td>-0.227116</td>\n",
              "      <td>0.069491</td>\n",
              "      <td>0.097844</td>\n",
              "    </tr>\n",
              "    <tr>\n",
              "      <th>RH</th>\n",
              "      <td>0.085223</td>\n",
              "      <td>0.062221</td>\n",
              "      <td>-0.300995</td>\n",
              "      <td>0.073795</td>\n",
              "      <td>-0.039192</td>\n",
              "      <td>-0.132517</td>\n",
              "      <td>-0.527390</td>\n",
              "      <td>1.000000</td>\n",
              "      <td>0.069410</td>\n",
              "      <td>0.099751</td>\n",
              "      <td>-0.075519</td>\n",
              "    </tr>\n",
              "    <tr>\n",
              "      <th>wind</th>\n",
              "      <td>0.018798</td>\n",
              "      <td>-0.020341</td>\n",
              "      <td>-0.028485</td>\n",
              "      <td>-0.105342</td>\n",
              "      <td>-0.203466</td>\n",
              "      <td>0.106826</td>\n",
              "      <td>-0.227116</td>\n",
              "      <td>0.069410</td>\n",
              "      <td>1.000000</td>\n",
              "      <td>0.061119</td>\n",
              "      <td>0.012317</td>\n",
              "    </tr>\n",
              "    <tr>\n",
              "      <th>rain</th>\n",
              "      <td>0.065387</td>\n",
              "      <td>0.033234</td>\n",
              "      <td>0.056702</td>\n",
              "      <td>0.074790</td>\n",
              "      <td>0.035861</td>\n",
              "      <td>0.067668</td>\n",
              "      <td>0.069491</td>\n",
              "      <td>0.099751</td>\n",
              "      <td>0.061119</td>\n",
              "      <td>1.000000</td>\n",
              "      <td>-0.007366</td>\n",
              "    </tr>\n",
              "    <tr>\n",
              "      <th>area</th>\n",
              "      <td>0.063385</td>\n",
              "      <td>0.044873</td>\n",
              "      <td>0.040122</td>\n",
              "      <td>0.072994</td>\n",
              "      <td>0.049383</td>\n",
              "      <td>0.008258</td>\n",
              "      <td>0.097844</td>\n",
              "      <td>-0.075519</td>\n",
              "      <td>0.012317</td>\n",
              "      <td>-0.007366</td>\n",
              "      <td>1.000000</td>\n",
              "    </tr>\n",
              "  </tbody>\n",
              "</table>\n",
              "</div>\n",
              "      <button class=\"colab-df-convert\" onclick=\"convertToInteractive('df-d3cb55d9-01a3-46de-ad7e-5a2689be4f4d')\"\n",
              "              title=\"Convert this dataframe to an interactive table.\"\n",
              "              style=\"display:none;\">\n",
              "        \n",
              "  <svg xmlns=\"http://www.w3.org/2000/svg\" height=\"24px\"viewBox=\"0 0 24 24\"\n",
              "       width=\"24px\">\n",
              "    <path d=\"M0 0h24v24H0V0z\" fill=\"none\"/>\n",
              "    <path d=\"M18.56 5.44l.94 2.06.94-2.06 2.06-.94-2.06-.94-.94-2.06-.94 2.06-2.06.94zm-11 1L8.5 8.5l.94-2.06 2.06-.94-2.06-.94L8.5 2.5l-.94 2.06-2.06.94zm10 10l.94 2.06.94-2.06 2.06-.94-2.06-.94-.94-2.06-.94 2.06-2.06.94z\"/><path d=\"M17.41 7.96l-1.37-1.37c-.4-.4-.92-.59-1.43-.59-.52 0-1.04.2-1.43.59L10.3 9.45l-7.72 7.72c-.78.78-.78 2.05 0 2.83L4 21.41c.39.39.9.59 1.41.59.51 0 1.02-.2 1.41-.59l7.78-7.78 2.81-2.81c.8-.78.8-2.07 0-2.86zM5.41 20L4 18.59l7.72-7.72 1.47 1.35L5.41 20z\"/>\n",
              "  </svg>\n",
              "      </button>\n",
              "      \n",
              "  <style>\n",
              "    .colab-df-container {\n",
              "      display:flex;\n",
              "      flex-wrap:wrap;\n",
              "      gap: 12px;\n",
              "    }\n",
              "\n",
              "    .colab-df-convert {\n",
              "      background-color: #E8F0FE;\n",
              "      border: none;\n",
              "      border-radius: 50%;\n",
              "      cursor: pointer;\n",
              "      display: none;\n",
              "      fill: #1967D2;\n",
              "      height: 32px;\n",
              "      padding: 0 0 0 0;\n",
              "      width: 32px;\n",
              "    }\n",
              "\n",
              "    .colab-df-convert:hover {\n",
              "      background-color: #E2EBFA;\n",
              "      box-shadow: 0px 1px 2px rgba(60, 64, 67, 0.3), 0px 1px 3px 1px rgba(60, 64, 67, 0.15);\n",
              "      fill: #174EA6;\n",
              "    }\n",
              "\n",
              "    [theme=dark] .colab-df-convert {\n",
              "      background-color: #3B4455;\n",
              "      fill: #D2E3FC;\n",
              "    }\n",
              "\n",
              "    [theme=dark] .colab-df-convert:hover {\n",
              "      background-color: #434B5C;\n",
              "      box-shadow: 0px 1px 3px 1px rgba(0, 0, 0, 0.15);\n",
              "      filter: drop-shadow(0px 1px 2px rgba(0, 0, 0, 0.3));\n",
              "      fill: #FFFFFF;\n",
              "    }\n",
              "  </style>\n",
              "\n",
              "      <script>\n",
              "        const buttonEl =\n",
              "          document.querySelector('#df-d3cb55d9-01a3-46de-ad7e-5a2689be4f4d button.colab-df-convert');\n",
              "        buttonEl.style.display =\n",
              "          google.colab.kernel.accessAllowed ? 'block' : 'none';\n",
              "\n",
              "        async function convertToInteractive(key) {\n",
              "          const element = document.querySelector('#df-d3cb55d9-01a3-46de-ad7e-5a2689be4f4d');\n",
              "          const dataTable =\n",
              "            await google.colab.kernel.invokeFunction('convertToInteractive',\n",
              "                                                     [key], {});\n",
              "          if (!dataTable) return;\n",
              "\n",
              "          const docLinkHtml = 'Like what you see? Visit the ' +\n",
              "            '<a target=\"_blank\" href=https://colab.research.google.com/notebooks/data_table.ipynb>data table notebook</a>'\n",
              "            + ' to learn more about interactive tables.';\n",
              "          element.innerHTML = '';\n",
              "          dataTable['output_type'] = 'display_data';\n",
              "          await google.colab.output.renderOutput(dataTable, element);\n",
              "          const docLink = document.createElement('div');\n",
              "          docLink.innerHTML = docLinkHtml;\n",
              "          element.appendChild(docLink);\n",
              "        }\n",
              "      </script>\n",
              "    </div>\n",
              "  </div>\n",
              "  "
            ]
          },
          "metadata": {},
          "execution_count": 14
        }
      ]
    },
    {
      "cell_type": "markdown",
      "source": [
        "#### Obtención de correlación para nuestras variables de interes"
      ],
      "metadata": {
        "id": "rM-6il20fsho"
      }
    },
    {
      "cell_type": "code",
      "source": [
        "from scipy.stats import pearsonr\n",
        "corr_test = pearsonr(x = datasetCompleto['RH'], y =  datasetCompleto['wind'])\n",
        "print(\"Coeficiente de correlación de Pearson: \", corr_test[0])"
      ],
      "metadata": {
        "colab": {
          "base_uri": "https://localhost:8080/"
        },
        "id": "vcXpKEsgg8zE",
        "outputId": "fad34c83-31fa-4a26-e016-0bda631bdc1b"
      },
      "execution_count": null,
      "outputs": [
        {
          "output_type": "stream",
          "name": "stdout",
          "text": [
            "Coeficiente de correlación de Pearson:  0.06941006715607248\n"
          ]
        }
      ]
    },
    {
      "cell_type": "code",
      "source": [
        "print(\"Coeficiente de correlación de Person: \", corr_mat.loc[\"RH\", \"wind\"])"
      ],
      "metadata": {
        "colab": {
          "base_uri": "https://localhost:8080/"
        },
        "id": "LstQyzpqfoIJ",
        "outputId": "b9cf70f2-d4b3-474f-d854-cb5612c77895"
      },
      "execution_count": null,
      "outputs": [
        {
          "output_type": "stream",
          "name": "stdout",
          "text": [
            "Coeficiente de correlación de Person:  0.06941006715607258\n"
          ]
        }
      ]
    },
    {
      "cell_type": "markdown",
      "source": [
        "#### Regresión lineal "
      ],
      "metadata": {
        "id": "cL4cFKz2gSF0"
      }
    },
    {
      "cell_type": "markdown",
      "source": [
        "##### Sklearn"
      ],
      "metadata": {
        "id": "vA4ryV8Timli"
      }
    },
    {
      "cell_type": "code",
      "source": [
        "# Preprocesado y modelado\n",
        "# ==============================================================================\n",
        "from scipy.stats import pearsonr\n",
        "from sklearn.linear_model import LinearRegression\n",
        "from sklearn.model_selection import train_test_split\n",
        "from sklearn.metrics import r2_score\n",
        "from sklearn.metrics import mean_squared_error\n",
        "import statsmodels.api as sm\n",
        "import statsmodels.formula.api as smf"
      ],
      "metadata": {
        "id": "otwLJcDBhnRR"
      },
      "execution_count": null,
      "outputs": []
    },
    {
      "cell_type": "code",
      "source": [
        "# División de los datos en train y test\n",
        "# ==============================================================================\n",
        "X = datasetCompleto[['RH']]\n",
        "y = datasetCompleto['wind']\n",
        "\n",
        "X_train, X_test, y_train, y_test = train_test_split(\n",
        "                                        X.values.reshape(-1,1),\n",
        "                                        y.values.reshape(-1,1),\n",
        "                                        train_size   = 0.8,\n",
        "                                        random_state = 1234,\n",
        "                                        shuffle      = True\n",
        "                                    )\n",
        "\n",
        "# Creación del modelo\n",
        "# ==============================================================================\n",
        "modelo = LinearRegression()\n",
        "modelo.fit(X = X_train.reshape(-1, 1), y = y_train)"
      ],
      "metadata": {
        "colab": {
          "base_uri": "https://localhost:8080/"
        },
        "id": "mYcWNZ07gQdb",
        "outputId": "8baaea53-f1e7-47b2-f5c9-27a3a7954faa"
      },
      "execution_count": null,
      "outputs": [
        {
          "output_type": "execute_result",
          "data": {
            "text/plain": [
              "LinearRegression()"
            ]
          },
          "metadata": {},
          "execution_count": 22
        }
      ]
    },
    {
      "cell_type": "code",
      "source": [
        "# Información del modelo\n",
        "# ==============================================================================\n",
        "print(\"Intercept:\", modelo.intercept_)\n",
        "print(\"Coeficiente:\", list(zip(X.columns, modelo.coef_.flatten(), )))\n",
        "print(\"Coeficiente de determinación R^2:\", modelo.score(X, y))"
      ],
      "metadata": {
        "colab": {
          "base_uri": "https://localhost:8080/"
        },
        "id": "6x77bVgJhgi8",
        "outputId": "435aca37-b847-4894-aa74-1724dcf7c0d0"
      },
      "execution_count": null,
      "outputs": [
        {
          "output_type": "stream",
          "name": "stdout",
          "text": [
            "Intercept: [3.72232715]\n",
            "Coeficiente: [('RH', 0.00841230803484513)]\n",
            "Coeficiente de determinación R^2: 0.002901193536960389\n"
          ]
        },
        {
          "output_type": "stream",
          "name": "stderr",
          "text": [
            "/usr/local/lib/python3.7/dist-packages/sklearn/base.py:444: UserWarning: X has feature names, but LinearRegression was fitted without feature names\n",
            "  f\"X has feature names, but {self.__class__.__name__} was fitted without\"\n"
          ]
        }
      ]
    },
    {
      "cell_type": "code",
      "source": [
        "# Error de test del modelo \n",
        "# ==============================================================================\n",
        "predicciones = modelo.predict(X = X_test)\n",
        "print(predicciones[0:3,])\n",
        "\n",
        "rmse = mean_squared_error(\n",
        "        y_true  = y_test,\n",
        "        y_pred  = predicciones,\n",
        "        squared = False\n",
        "       )\n",
        "print(\"\")\n",
        "print(f\"El error (rmse) de test es: {rmse}\")"
      ],
      "metadata": {
        "colab": {
          "base_uri": "https://localhost:8080/"
        },
        "id": "gZVBR7aSh2Or",
        "outputId": "e83ed027-acde-4305-8214-ebbe2e1fb1d3"
      },
      "execution_count": null,
      "outputs": [
        {
          "output_type": "stream",
          "name": "stdout",
          "text": [
            "[[3.94104716]\n",
            " [4.05040717]\n",
            " [4.10929332]]\n",
            "\n",
            "El error (rmse) de test es: 1.6350160179123725\n"
          ]
        }
      ]
    },
    {
      "cell_type": "markdown",
      "source": [
        "##### Statsmodels"
      ],
      "metadata": {
        "id": "cNPINl0jiuAS"
      }
    },
    {
      "cell_type": "code",
      "source": [
        "# División de los datos en train y test\n",
        "# ==============================================================================\n",
        "X = datasetCompleto[['RH']]\n",
        "y = datasetCompleto['wind']\n",
        "X_train, X_test, y_train, y_test = train_test_split(\n",
        "                                        X.values.reshape(-1,1),\n",
        "                                        y.values.reshape(-1,1),\n",
        "                                        train_size   = 0.8,\n",
        "                                        random_state = 1234,\n",
        "                                        shuffle      = True\n",
        "                                    )"
      ],
      "metadata": {
        "id": "Y74gl4K_ivT7"
      },
      "execution_count": null,
      "outputs": []
    },
    {
      "cell_type": "code",
      "source": [
        "# Creación del modelo utilizando matrices como en scikitlearn\n",
        "# ==============================================================================\n",
        "# A la matriz de predictores se le tiene que añadir una columna de 1s para el intercept del modelo\n",
        "X_train = sm.add_constant(X_train, prepend=True)\n",
        "modelo = sm.OLS(endog=y_train, exog=X_train,)\n",
        "modelo = modelo.fit()\n",
        "print(modelo.summary())"
      ],
      "metadata": {
        "colab": {
          "base_uri": "https://localhost:8080/"
        },
        "id": "9hwFRhe2i5jb",
        "outputId": "6514f782-9d97-4f13-a098-c445bcfbfa7f"
      },
      "execution_count": null,
      "outputs": [
        {
          "output_type": "stream",
          "name": "stdout",
          "text": [
            "                            OLS Regression Results                            \n",
            "==============================================================================\n",
            "Dep. Variable:                      y   R-squared:                       0.006\n",
            "Model:                            OLS   Adj. R-squared:                  0.003\n",
            "Method:                 Least Squares   F-statistic:                     2.384\n",
            "Date:                Fri, 20 May 2022   Prob (F-statistic):              0.123\n",
            "Time:                        22:17:10   Log-Likelihood:                -834.17\n",
            "No. Observations:                 413   AIC:                             1672.\n",
            "Df Residuals:                     411   BIC:                             1680.\n",
            "Df Model:                           1                                         \n",
            "Covariance Type:            nonrobust                                         \n",
            "==============================================================================\n",
            "                 coef    std err          t      P>|t|      [0.025      0.975]\n",
            "------------------------------------------------------------------------------\n",
            "const          3.7223      0.258     14.445      0.000       3.216       4.229\n",
            "x1             0.0084      0.005      1.544      0.123      -0.002       0.019\n",
            "==============================================================================\n",
            "Omnibus:                       15.879   Durbin-Watson:                   2.184\n",
            "Prob(Omnibus):                  0.000   Jarque-Bera (JB):               17.078\n",
            "Skew:                           0.497   Prob(JB):                     0.000196\n",
            "Kurtosis:                       2.944   Cond. No.                         136.\n",
            "==============================================================================\n",
            "\n",
            "Warnings:\n",
            "[1] Standard Errors assume that the covariance matrix of the errors is correctly specified.\n"
          ]
        }
      ]
    },
    {
      "cell_type": "code",
      "source": [
        "# Intervalos de confianza para los coeficientes del modelo\n",
        "# ==============================================================================\n",
        "modelo.conf_int(alpha=0.05)"
      ],
      "metadata": {
        "colab": {
          "base_uri": "https://localhost:8080/"
        },
        "id": "c1mss2uyi9_K",
        "outputId": "2786566a-0d0c-46a4-adda-d2064c819ea3"
      },
      "execution_count": null,
      "outputs": [
        {
          "output_type": "execute_result",
          "data": {
            "text/plain": [
              "array([[ 3.21578257e+00,  4.22887173e+00],\n",
              "       [-2.29802016e-03,  1.91226362e-02]])"
            ]
          },
          "metadata": {},
          "execution_count": 27
        }
      ]
    },
    {
      "cell_type": "code",
      "source": [
        "# Predicciones con intervalo de confianza del 95%\n",
        "# ==============================================================================\n",
        "predicciones = modelo.get_prediction(exog = X_train).summary_frame(alpha=0.05)\n",
        "predicciones.head(4)"
      ],
      "metadata": {
        "colab": {
          "base_uri": "https://localhost:8080/",
          "height": 175
        },
        "id": "QhyAbPL6jCjS",
        "outputId": "6429fd7f-d197-4264-a547-c8539fa3c05e"
      },
      "execution_count": null,
      "outputs": [
        {
          "output_type": "execute_result",
          "data": {
            "text/plain": [
              "       mean   mean_se  mean_ci_lower  mean_ci_upper  obs_ci_lower  \\\n",
              "0  4.243890  0.131801       3.984802       4.502979      0.640967   \n",
              "1  3.991521  0.112238       3.770889       4.212153      0.391159   \n",
              "2  4.067232  0.091755       3.886864       4.247600      0.469113   \n",
              "3  4.185004  0.107136       3.974401       4.395607      0.585243   \n",
              "\n",
              "   obs_ci_upper  \n",
              "0      7.846813  \n",
              "1      7.591883  \n",
              "2      7.665351  \n",
              "3      7.784765  "
            ],
            "text/html": [
              "\n",
              "  <div id=\"df-a009f10c-2f83-4078-ba87-bfc96a591545\">\n",
              "    <div class=\"colab-df-container\">\n",
              "      <div>\n",
              "<style scoped>\n",
              "    .dataframe tbody tr th:only-of-type {\n",
              "        vertical-align: middle;\n",
              "    }\n",
              "\n",
              "    .dataframe tbody tr th {\n",
              "        vertical-align: top;\n",
              "    }\n",
              "\n",
              "    .dataframe thead th {\n",
              "        text-align: right;\n",
              "    }\n",
              "</style>\n",
              "<table border=\"1\" class=\"dataframe\">\n",
              "  <thead>\n",
              "    <tr style=\"text-align: right;\">\n",
              "      <th></th>\n",
              "      <th>mean</th>\n",
              "      <th>mean_se</th>\n",
              "      <th>mean_ci_lower</th>\n",
              "      <th>mean_ci_upper</th>\n",
              "      <th>obs_ci_lower</th>\n",
              "      <th>obs_ci_upper</th>\n",
              "    </tr>\n",
              "  </thead>\n",
              "  <tbody>\n",
              "    <tr>\n",
              "      <th>0</th>\n",
              "      <td>4.243890</td>\n",
              "      <td>0.131801</td>\n",
              "      <td>3.984802</td>\n",
              "      <td>4.502979</td>\n",
              "      <td>0.640967</td>\n",
              "      <td>7.846813</td>\n",
              "    </tr>\n",
              "    <tr>\n",
              "      <th>1</th>\n",
              "      <td>3.991521</td>\n",
              "      <td>0.112238</td>\n",
              "      <td>3.770889</td>\n",
              "      <td>4.212153</td>\n",
              "      <td>0.391159</td>\n",
              "      <td>7.591883</td>\n",
              "    </tr>\n",
              "    <tr>\n",
              "      <th>2</th>\n",
              "      <td>4.067232</td>\n",
              "      <td>0.091755</td>\n",
              "      <td>3.886864</td>\n",
              "      <td>4.247600</td>\n",
              "      <td>0.469113</td>\n",
              "      <td>7.665351</td>\n",
              "    </tr>\n",
              "    <tr>\n",
              "      <th>3</th>\n",
              "      <td>4.185004</td>\n",
              "      <td>0.107136</td>\n",
              "      <td>3.974401</td>\n",
              "      <td>4.395607</td>\n",
              "      <td>0.585243</td>\n",
              "      <td>7.784765</td>\n",
              "    </tr>\n",
              "  </tbody>\n",
              "</table>\n",
              "</div>\n",
              "      <button class=\"colab-df-convert\" onclick=\"convertToInteractive('df-a009f10c-2f83-4078-ba87-bfc96a591545')\"\n",
              "              title=\"Convert this dataframe to an interactive table.\"\n",
              "              style=\"display:none;\">\n",
              "        \n",
              "  <svg xmlns=\"http://www.w3.org/2000/svg\" height=\"24px\"viewBox=\"0 0 24 24\"\n",
              "       width=\"24px\">\n",
              "    <path d=\"M0 0h24v24H0V0z\" fill=\"none\"/>\n",
              "    <path d=\"M18.56 5.44l.94 2.06.94-2.06 2.06-.94-2.06-.94-.94-2.06-.94 2.06-2.06.94zm-11 1L8.5 8.5l.94-2.06 2.06-.94-2.06-.94L8.5 2.5l-.94 2.06-2.06.94zm10 10l.94 2.06.94-2.06 2.06-.94-2.06-.94-.94-2.06-.94 2.06-2.06.94z\"/><path d=\"M17.41 7.96l-1.37-1.37c-.4-.4-.92-.59-1.43-.59-.52 0-1.04.2-1.43.59L10.3 9.45l-7.72 7.72c-.78.78-.78 2.05 0 2.83L4 21.41c.39.39.9.59 1.41.59.51 0 1.02-.2 1.41-.59l7.78-7.78 2.81-2.81c.8-.78.8-2.07 0-2.86zM5.41 20L4 18.59l7.72-7.72 1.47 1.35L5.41 20z\"/>\n",
              "  </svg>\n",
              "      </button>\n",
              "      \n",
              "  <style>\n",
              "    .colab-df-container {\n",
              "      display:flex;\n",
              "      flex-wrap:wrap;\n",
              "      gap: 12px;\n",
              "    }\n",
              "\n",
              "    .colab-df-convert {\n",
              "      background-color: #E8F0FE;\n",
              "      border: none;\n",
              "      border-radius: 50%;\n",
              "      cursor: pointer;\n",
              "      display: none;\n",
              "      fill: #1967D2;\n",
              "      height: 32px;\n",
              "      padding: 0 0 0 0;\n",
              "      width: 32px;\n",
              "    }\n",
              "\n",
              "    .colab-df-convert:hover {\n",
              "      background-color: #E2EBFA;\n",
              "      box-shadow: 0px 1px 2px rgba(60, 64, 67, 0.3), 0px 1px 3px 1px rgba(60, 64, 67, 0.15);\n",
              "      fill: #174EA6;\n",
              "    }\n",
              "\n",
              "    [theme=dark] .colab-df-convert {\n",
              "      background-color: #3B4455;\n",
              "      fill: #D2E3FC;\n",
              "    }\n",
              "\n",
              "    [theme=dark] .colab-df-convert:hover {\n",
              "      background-color: #434B5C;\n",
              "      box-shadow: 0px 1px 3px 1px rgba(0, 0, 0, 0.15);\n",
              "      filter: drop-shadow(0px 1px 2px rgba(0, 0, 0, 0.3));\n",
              "      fill: #FFFFFF;\n",
              "    }\n",
              "  </style>\n",
              "\n",
              "      <script>\n",
              "        const buttonEl =\n",
              "          document.querySelector('#df-a009f10c-2f83-4078-ba87-bfc96a591545 button.colab-df-convert');\n",
              "        buttonEl.style.display =\n",
              "          google.colab.kernel.accessAllowed ? 'block' : 'none';\n",
              "\n",
              "        async function convertToInteractive(key) {\n",
              "          const element = document.querySelector('#df-a009f10c-2f83-4078-ba87-bfc96a591545');\n",
              "          const dataTable =\n",
              "            await google.colab.kernel.invokeFunction('convertToInteractive',\n",
              "                                                     [key], {});\n",
              "          if (!dataTable) return;\n",
              "\n",
              "          const docLinkHtml = 'Like what you see? Visit the ' +\n",
              "            '<a target=\"_blank\" href=https://colab.research.google.com/notebooks/data_table.ipynb>data table notebook</a>'\n",
              "            + ' to learn more about interactive tables.';\n",
              "          element.innerHTML = '';\n",
              "          dataTable['output_type'] = 'display_data';\n",
              "          await google.colab.output.renderOutput(dataTable, element);\n",
              "          const docLink = document.createElement('div');\n",
              "          docLink.innerHTML = docLinkHtml;\n",
              "          element.appendChild(docLink);\n",
              "        }\n",
              "      </script>\n",
              "    </div>\n",
              "  </div>\n",
              "  "
            ]
          },
          "metadata": {},
          "execution_count": 28
        }
      ]
    },
    {
      "cell_type": "markdown",
      "source": [
        "Además de la línea de mínimos cuadrados, es recomendable incluir los límites superior e inferior del intervalo de confianza. Esto permite identificar la región en la que, según el modelo generado y para un determinado nivel de confianza, se encuentra el valor promedio de la variable respuesta."
      ],
      "metadata": {
        "id": "7K28vkHQjcVa"
      }
    },
    {
      "cell_type": "code",
      "source": [
        "# Predicciones con intervalo de confianza del 95%\n",
        "# ==============================================================================\n",
        "predicciones = modelo.get_prediction(exog = X_train).summary_frame(alpha=0.05)\n",
        "predicciones['x'] = X_train[:, 1]\n",
        "predicciones['y'] = y_train\n",
        "predicciones = predicciones.sort_values('x')\n",
        "\n",
        "# Gráfico del modelo\n",
        "# ==============================================================================\n",
        "fig, ax = plt.subplots(figsize=(6, 3.84))\n",
        "\n",
        "ax.scatter(predicciones['x'], predicciones['y'], marker='o', color = \"gray\")\n",
        "ax.plot(predicciones['x'], predicciones[\"mean\"], linestyle='-', label=\"OLS\")\n",
        "ax.plot(predicciones['x'], predicciones[\"mean_ci_lower\"], linestyle='--', color='red', label=\"95% CI\")\n",
        "ax.plot(predicciones['x'], predicciones[\"mean_ci_upper\"], linestyle='--', color='red')\n",
        "ax.fill_between(predicciones['x'], predicciones[\"mean_ci_lower\"], predicciones[\"mean_ci_upper\"], alpha=0.1)\n",
        "ax.legend();"
      ],
      "metadata": {
        "colab": {
          "base_uri": "https://localhost:8080/",
          "height": 257
        },
        "id": "g03ZBzVgjEkb",
        "outputId": "21d5a52c-2e81-4048-aad7-27f93c5fffe7"
      },
      "execution_count": null,
      "outputs": [
        {
          "output_type": "display_data",
          "data": {
            "text/plain": [
              "<Figure size 432x276.48 with 1 Axes>"
            ],
            "image/png": "[encoded data removed]"
          },
          "metadata": {
            "needs_background": "light"
          }
        }
      ]
    },
    {
      "cell_type": "code",
      "source": [
        "# Error de test del modelo \n",
        "# ==============================================================================\n",
        "X_test = sm.add_constant(X_test, prepend=True)\n",
        "predicciones = modelo.predict(exog = X_test)\n",
        "rmse = mean_squared_error(\n",
        "        y_true  = y_test,\n",
        "        y_pred  = predicciones,\n",
        "        squared = False\n",
        "       )\n",
        "print(\"\")\n",
        "print(f\"El error (rmse) de test es: {rmse}\")"
      ],
      "metadata": {
        "colab": {
          "base_uri": "https://localhost:8080/"
        },
        "id": "ghVdnJo8jjVK",
        "outputId": "a9336631-9943-41f0-deba-e4bc0f82ea5e"
      },
      "execution_count": null,
      "outputs": [
        {
          "output_type": "stream",
          "name": "stdout",
          "text": [
            "\n",
            "El error (rmse) de test es: 1.6350160179123718\n"
          ]
        }
      ]
    },
    {
      "cell_type": "markdown",
      "source": [
        "### Conclusión\n",
        "\n",
        "Como conclusión tanto mediante la grafica y el valor de correlacion tenemos como resultado una correlacion positiva debil tendiendo mas a no tener ninguna correlacion esto debido a que tenemos un valor de 0.06 que es muy bajo entre las dos variables. \n",
        "\n",
        "Por lo que dentro de la regresión se puede ver tambien no se ajusta de la mejor manera a los datos. \n"
      ],
      "metadata": {
        "id": "upWlD8_9gaYS"
      }
    }
  ]
}