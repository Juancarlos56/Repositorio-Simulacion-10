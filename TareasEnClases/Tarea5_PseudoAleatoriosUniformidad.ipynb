{
  "nbformat": 4,
  "nbformat_minor": 0,
  "metadata": {
    "colab": {
      "name": "Tarea5_PseudoAleatoriosUniformidad.ipynb",
      "provenance": [],
      "collapsed_sections": [],
      "authorship_tag": "ABX9TyP9E0n3OkePLi86GBZ2GzRK",
      "include_colab_link": true
    },
    "kernelspec": {
      "name": "python3",
      "display_name": "Python 3"
    },
    "language_info": {
      "name": "python"
    }
  },
  "cells": [
    {
      "cell_type": "markdown",
      "metadata": {
        "id": "view-in-github",
        "colab_type": "text"
      },
      "source": [
        "<a href=\"https://colab.research.google.com/github/Juancarlos56/Repositorio-Simulacion-10/blob/main/TareasEnClases/Tarea5_PseudoAleatoriosUniformidad.ipynb\" target=\"_parent\"><img src=\"https://colab.research.google.com/assets/colab-badge.svg\" alt=\"Open In Colab\"/></a>"
      ]
    },
    {
      "cell_type": "markdown",
      "source": [
        "**Ejercicio en clases:**\n",
        "Calcular, graficar y obtener el valor de Chi Cuadrado para los siguientes generadores con las siguientes semillas:\n",
        "\n",
        "* Cuadrados medios: Xo=74731897457, D=7\n",
        "* Congruencia lineal: a=74731897457, b=37747318974, Xo=7, M=19\n",
        "* Tauswoth q=7, r=3, l=5\n",
        "* Random de Python semilla (11052022)\n",
        "\n"
      ],
      "metadata": {
        "id": "axYl8h9Y1uHC"
      }
    },
    {
      "cell_type": "code",
      "source": [
        "# Importanmos las librerias\n",
        "import random\n",
        "import matplotlib.pyplot as plt\n",
        "import numpy as np\n"
      ],
      "metadata": {
        "id": "edrx9Pvz2NZg"
      },
      "execution_count": 2,
      "outputs": []
    },
    {
      "cell_type": "code",
      "source": [
        "#Defino una funcion para generar los 100 numeros pseudoaletaroios, \n",
        "#en este caso estoy utilizando la libreria de Python random\n",
        "def random_python(semilla=11052022,N=100):\n",
        "  numeros = []\n",
        "  random.seed(semilla)\n",
        "  [numeros.append(random.random())for i in range(N)]\n",
        "  return numeros"
      ],
      "metadata": {
        "id": "wAepgCu73U55"
      },
      "execution_count": 21,
      "outputs": []
    },
    {
      "cell_type": "code",
      "source": [
        "def cuadrados_medios(semilla, num_digitos, N=100):\n",
        "  numeros = []\n",
        "  xo = semilla\n",
        "  digitos = num_digitos\n",
        "  iteraciones = N\n",
        "  xn = xo\n",
        "  for i in range(iteraciones):\n",
        "    xnn = xn**2\n",
        "    txnn = str(xnn).zfill(8)\n",
        "    tam = len(txnn)\n",
        "    ui = int(txnn[int(tam/2-digitos/2):int(tam/2+digitos/2)])\n",
        "    rn = ui / (int('9'*digitos)+1)\n",
        "    numeros.append(rn)\n",
        "    xn = ui\n",
        "  return numeros  "
      ],
      "metadata": {
        "id": "IpSC9qgQ3bHn"
      },
      "execution_count": 1,
      "outputs": []
    },
    {
      "cell_type": "code",
      "source": [
        "def congruencia_lineal(semilla=7, valor_a=74731897457, valor_b=37747318974, valor_m=19, N=100): \n",
        "  xo = semilla\n",
        "  a = valor_a\n",
        "  b = valor_b\n",
        "  m = valor_m\n",
        "  iteraciones = N\n",
        "  numeros = []\n",
        "  xn = xo\n",
        "  for i in range(iteraciones):\n",
        "    xnn = (a*xn+b) % m\n",
        "    ui = xnn/m\n",
        "    numeros.append(ui)\n",
        "    xn = xnn\n",
        "  return numeros"
      ],
      "metadata": {
        "id": "jy21Qcwz4cVx"
      },
      "execution_count": 8,
      "outputs": []
    },
    {
      "cell_type": "code",
      "source": [
        "def generador_tauswoth(r=3, q=7, l=5, N=100):\n",
        "\n",
        "  valor_r = r\n",
        "  valor_q = q\n",
        "\n",
        "  if (0 < valor_r) and (valor_r < valor_q) :\n",
        "    condicion = True\n",
        "  else:\n",
        "    print(\"\\n Condicion: r y q deben cumplir 0 < r < q. \\n\")  \n",
        "    return\n",
        "\n",
        "  valor_nm = N*l\n",
        "  listaNumerosBinarios = []\n",
        "\n",
        "  ##Creacion de valores binarios con formula bi = (bi-r + bi-q) mod 2\n",
        "  for i in range(0,valor_nm):\n",
        "    if(i<valor_q):\n",
        "      listaNumerosBinarios.append(1)\n",
        "    else: \n",
        "      listaNumerosBinarios.append((listaNumerosBinarios[i-valor_r]+listaNumerosBinarios[i-valor_q]) % 2)\n",
        "\n",
        "  ##Agrupar para conversion \n",
        "  valor_l = l\n",
        "  valor_agrupaciones = int(valor_nm/valor_l)\n",
        "  posicion = 0 \n",
        "  aux = valor_l\n",
        "  cont = 0\n",
        "  listaValoresNumericos = []\n",
        "\n",
        "  for j in range(0,valor_agrupaciones):\n",
        "    sublista =listaNumerosBinarios[cont:aux] \n",
        "    binario_To_Decimal = 0\n",
        "    cont2 = 0\n",
        "    for k in range(len(sublista)-1,-1,-1):\n",
        "      if(sublista[cont2]==1): \n",
        "        binario_To_Decimal = 2**(k) + binario_To_Decimal\n",
        "      cont2 = cont2 + 1\n",
        "    listaValoresNumericos.append(round((binario_To_Decimal / (2**valor_l)),2))\n",
        "    cont = cont + valor_l\n",
        "    aux = aux + valor_l\n",
        "    \n",
        "  return listaValoresNumericos"
      ],
      "metadata": {
        "id": "AFP3DhcT5zf-"
      },
      "execution_count": 14,
      "outputs": []
    },
    {
      "cell_type": "code",
      "source": [
        "#Defino una funcion para realizar un conteo de los numeros que caen dentro de cada intervalo\n",
        "def calcular_chi(numeros):\n",
        "  tablas = {}\n",
        "  for i in np.arange(0.1, 1.1, 0.1): # aqui separo en intervalos de 0.1\n",
        "    for j in numeros:\n",
        "      if j > i-0.1 and j <= i: # Compruebo si el valor esta dentro del intervalor\n",
        "        tablas[round(i-0.1,1)] = tablas[round(i-0.1,1)]+1 if round(i-0.1,1) in tablas else 1\n",
        "  return tablas"
      ],
      "metadata": {
        "id": "Y-8T9Fwx3eXO"
      },
      "execution_count": 23,
      "outputs": []
    },
    {
      "cell_type": "code",
      "source": [
        "#defino una funcion para aplicar la formula y obtener la desviacion estandar de cada intervalo  \n",
        "def sumatoria_chi(tabla, E):\n",
        "  return sum([(valor-E)**2/E for valor in tabla.values()])"
      ],
      "metadata": {
        "id": "XzqGD-AR3hiH"
      },
      "execution_count": 24,
      "outputs": []
    },
    {
      "cell_type": "code",
      "source": [
        "#Defino una funcion para graficar en un cuadro de barras los valores de cada intervalo\n",
        "def graficar(tabla):\n",
        "  plt.bar(range(len(tabla)), list(tabla.values()), tick_label=list(tabla.keys()))\n",
        "  plt.show()"
      ],
      "metadata": {
        "id": "KrXQaleg3jX3"
      },
      "execution_count": 25,
      "outputs": []
    },
    {
      "cell_type": "markdown",
      "source": [
        "### Calculo de Uniformidad de Cuadrados Medios"
      ],
      "metadata": {
        "id": "T07qMRh7-JMV"
      }
    },
    {
      "cell_type": "code",
      "source": [
        "numerosRandomCuadradosMedios = cuadrados_medios(74731897457, 4, 100)\n",
        "print(\"Numeros Aleatorios generados: \",numerosRandomCuadradosMedios)\n",
        "print(\"\\nTabla de intervalos y el conteo de numeros dentro de cada intervalo\")\n",
        "tablas = calcular_chi(numerosRandomCuadradosMedios)\n",
        "print(tablas)\n",
        "print(\"\\nCalculamos el valor de chi cuadrado\")\n",
        "print(sumatoria_chi(tablas, 10))\n",
        "print(\"\\nGrafica de barras\")\n",
        "graficar(tablas)  "
      ],
      "metadata": {
        "colab": {
          "base_uri": "https://localhost:8080/",
          "height": 441
        },
        "id": "2gEIj4Xr3u0j",
        "outputId": "51e73699-92fa-47e6-c6ab-bfa2ffc61801"
      },
      "execution_count": 37,
      "outputs": [
        {
          "output_type": "stream",
          "name": "stdout",
          "text": [
            "Numeros Aleatorios generados:  [0.7523, 0.5955, 0.462, 0.3444, 0.8611, 0.1493, 0.229, 0.2441, 0.9584, 0.853, 0.7609, 0.8968, 0.425, 0.0625, 0.3906, 0.2568, 0.5946, 0.3549, 0.5954, 0.4501, 0.259, 0.7081, 0.1405, 0.974, 0.8676, 0.2729, 0.4474, 0.0166, 0.0275, 0.0756, 0.5715, 0.6612, 0.7185, 0.6242, 0.9625, 0.6406, 0.0368, 0.1354, 0.8333, 0.4388, 0.2545, 0.477, 0.7529, 0.6858, 0.0321, 0.103, 0.0609, 0.3708, 0.7492, 0.13, 0.69, 0.61, 0.21, 0.41, 0.81, 0.61, 0.21, 0.41, 0.81, 0.61, 0.21, 0.41, 0.81, 0.61, 0.21, 0.41, 0.81, 0.61, 0.21, 0.41, 0.81, 0.61, 0.21, 0.41, 0.81, 0.61, 0.21, 0.41, 0.81, 0.61, 0.21, 0.41, 0.81, 0.61, 0.21, 0.41, 0.81, 0.61, 0.21, 0.41, 0.81, 0.61, 0.21, 0.41, 0.81, 0.61, 0.21, 0.41, 0.81, 0.61]\n",
            "\n",
            "Tabla de intervalos y el conteo de numeros dentro de cada intervalo\n",
            "{0.0: 7, 0.1: 5, 0.2: 18, 0.3: 4, 0.4: 18, 0.5: 4, 0.6: 18, 0.7: 6, 0.8: 17, 0.9: 3}\n",
            "\n",
            "Calculamos el valor de chi cuadrado\n",
            "41.2\n",
            "\n",
            "Grafica de barras\n"
          ]
        },
        {
          "output_type": "display_data",
          "data": {
            "text/plain": [
              "<Figure size 432x288 with 1 Axes>"
            ],
            "image/png": "[encoded data removed]"
          },
          "metadata": {
            "needs_background": "light"
          }
        }
      ]
    },
    {
      "cell_type": "markdown",
      "source": [
        "### Calculo de Uniformidad de Congruencia Lineal"
      ],
      "metadata": {
        "id": "ro_nmYbK-O0l"
      }
    },
    {
      "cell_type": "code",
      "source": [
        "numerosRandomCongruenciaLineal = congruencia_lineal(7, 74731897457, 37747318974, 19, 100)\n",
        "print(\"Numeros Aleatorios generados: \",numerosRandomCongruenciaLineal)\n",
        "\n",
        "print(\"\\nTabla de intervalos y el conteo de numeros dentro de cada intervalo\")\n",
        "tablas = calcular_chi(numerosRandomCongruenciaLineal)\n",
        "print(tablas)\n",
        "\n",
        "print(\"\\nCalculamos el valor de chi cuadrado\")\n",
        "print(sumatoria_chi(tablas, 10))\n",
        "\n",
        "print(\"\\nGrafica de barras\")\n",
        "graficar(tablas)  \n"
      ],
      "metadata": {
        "colab": {
          "base_uri": "https://localhost:8080/",
          "height": 441
        },
        "id": "lmjoly7-5SS7",
        "outputId": "0ee03449-d536-478c-a2a8-b64cebc5184c"
      },
      "execution_count": 38,
      "outputs": [
        {
          "output_type": "stream",
          "name": "stdout",
          "text": [
            "Numeros Aleatorios generados:  [0.8947368421052632, 0.8421052631578947, 0.9473684210526315, 0.7368421052631579, 0.15789473684210525, 0.3157894736842105, 0.0, 0.631578947368421, 0.3684210526315789, 0.8947368421052632, 0.8421052631578947, 0.9473684210526315, 0.7368421052631579, 0.15789473684210525, 0.3157894736842105, 0.0, 0.631578947368421, 0.3684210526315789, 0.8947368421052632, 0.8421052631578947, 0.9473684210526315, 0.7368421052631579, 0.15789473684210525, 0.3157894736842105, 0.0, 0.631578947368421, 0.3684210526315789, 0.8947368421052632, 0.8421052631578947, 0.9473684210526315, 0.7368421052631579, 0.15789473684210525, 0.3157894736842105, 0.0, 0.631578947368421, 0.3684210526315789, 0.8947368421052632, 0.8421052631578947, 0.9473684210526315, 0.7368421052631579, 0.15789473684210525, 0.3157894736842105, 0.0, 0.631578947368421, 0.3684210526315789, 0.8947368421052632, 0.8421052631578947, 0.9473684210526315, 0.7368421052631579, 0.15789473684210525, 0.3157894736842105, 0.0, 0.631578947368421, 0.3684210526315789, 0.8947368421052632, 0.8421052631578947, 0.9473684210526315, 0.7368421052631579, 0.15789473684210525, 0.3157894736842105, 0.0, 0.631578947368421, 0.3684210526315789, 0.8947368421052632, 0.8421052631578947, 0.9473684210526315, 0.7368421052631579, 0.15789473684210525, 0.3157894736842105, 0.0, 0.631578947368421, 0.3684210526315789, 0.8947368421052632, 0.8421052631578947, 0.9473684210526315, 0.7368421052631579, 0.15789473684210525, 0.3157894736842105, 0.0, 0.631578947368421, 0.3684210526315789, 0.8947368421052632, 0.8421052631578947, 0.9473684210526315, 0.7368421052631579, 0.15789473684210525, 0.3157894736842105, 0.0, 0.631578947368421, 0.3684210526315789, 0.8947368421052632, 0.8421052631578947, 0.9473684210526315, 0.7368421052631579, 0.15789473684210525, 0.3157894736842105, 0.0, 0.631578947368421, 0.3684210526315789, 0.8947368421052632]\n",
            "\n",
            "Tabla de intervalos y el conteo de numeros dentro de cada intervalo\n",
            "{0.1: 11, 0.3: 22, 0.6: 11, 0.7: 11, 0.8: 23, 0.9: 11}\n",
            "\n",
            "Calculamos el valor de chi cuadrado\n",
            "31.7\n",
            "\n",
            "Grafica de barras\n"
          ]
        },
        {
          "output_type": "display_data",
          "data": {
            "text/plain": [
              "<Figure size 432x288 with 1 Axes>"
            ],
            "image/png": "[encoded data removed]"
          },
          "metadata": {
            "needs_background": "light"
          }
        }
      ]
    },
    {
      "cell_type": "markdown",
      "source": [
        "### Calculo de Uniformidad de Generador de Tauswoth"
      ],
      "metadata": {
        "id": "-YrlEamZ-S7h"
      }
    },
    {
      "cell_type": "code",
      "source": [
        "numerosRandomtauswoth = generador_tauswoth(3, 7, 5, 100)\n",
        "print(\"Numeros Aleatorios generados: \",numerosRandomtauswoth)\n",
        "\n",
        "print(\"\\nTabla de intervalos y el conteo de numeros dentro de cada intervalo\")\n",
        "tablas = calcular_chi(numerosRandomtauswoth)\n",
        "print(tablas)\n",
        "\n",
        "print(\"\\nCalculamos el valor de chi cuadrado\")\n",
        "print(sumatoria_chi(tablas, 10))\n",
        "\n",
        "print(\"\\nGrafica de barras\")\n",
        "graficar(tablas) "
      ],
      "metadata": {
        "colab": {
          "base_uri": "https://localhost:8080/",
          "height": 441
        },
        "id": "kPg9cXSJ61LA",
        "outputId": "f61e2860-0541-471e-b008-aaa6ddf65796"
      },
      "execution_count": 42,
      "outputs": [
        {
          "output_type": "stream",
          "name": "stdout",
          "text": [
            "Numeros Aleatorios generados:  [0.97, 0.75, 0.91, 0.53, 0.28, 0.47, 0.66, 0.25, 0.34, 0.47, 0.22, 0.16, 0.38, 0.75, 0.19, 0.81, 0.91, 0.09, 0.12, 0.25, 0.06, 0.28, 0.62, 0.94, 0.88, 0.22, 0.94, 0.22, 0.38, 0.31, 0.34, 0.91, 0.31, 0.06, 0.84, 0.78, 0.78, 0.34, 0.19, 0.03, 0.69, 0.72, 0.25, 0.78, 0.06, 0.0, 0.56, 0.41, 0.22, 0.72, 0.03, 0.97, 0.53, 0.84, 0.06, 0.56, 0.97, 0.31, 0.5, 0.69, 0.94, 0.44, 0.31, 0.78, 0.5, 0.41, 0.66, 0.81, 0.19, 0.25, 0.5, 0.12, 0.59, 0.28, 0.91, 0.75, 0.47, 0.88, 0.44, 0.75, 0.62, 0.72, 0.81, 0.62, 0.16, 0.72, 0.59, 0.56, 0.69, 0.38, 0.09, 0.41, 0.44, 0.53, 0.56, 0.12, 0.03, 0.12, 0.81, 0.47]\n",
            "\n",
            "Tabla de intervalos y el conteo de numeros dentro de cada intervalo\n",
            "{0.0: 9, 0.1: 9, 0.2: 11, 0.3: 10, 0.4: 13, 0.5: 9, 0.6: 8, 0.7: 12, 0.8: 8, 0.9: 10}\n",
            "\n",
            "Calculamos el valor de chi cuadrado\n",
            "2.5\n",
            "\n",
            "Grafica de barras\n"
          ]
        },
        {
          "output_type": "display_data",
          "data": {
            "text/plain": [
              "<Figure size 432x288 with 1 Axes>"
            ],
            "image/png": "[encoded data removed]"
          },
          "metadata": {
            "needs_background": "light"
          }
        }
      ]
    },
    {
      "cell_type": "markdown",
      "source": [
        "### Calculo de Uniformidad de Libreria Random Python"
      ],
      "metadata": {
        "id": "HhqW5V31-a3-"
      }
    },
    {
      "cell_type": "code",
      "execution_count": 44,
      "metadata": {
        "colab": {
          "base_uri": "https://localhost:8080/",
          "height": 441
        },
        "id": "aMR-LyfE1ptD",
        "outputId": "177aa48e-149f-4a63-e1e5-17ca2589ef28"
      },
      "outputs": [
        {
          "output_type": "stream",
          "name": "stdout",
          "text": [
            "Numeros Aleatorios generados:  [0.39122091339712006, 0.08673940245642964, 0.9233776991044218, 0.5643281259214213, 0.5018754578724773, 0.6092906311578306, 0.7944410154604006, 0.4745506456495402, 0.3496767363331855, 0.08044631797968471, 0.6263578731542199, 0.2036014039706825, 0.32266209276724567, 0.1789720571675194, 0.51299029248829, 0.7770010208223913, 0.5449750015006763, 0.6965377945580097, 0.17325150202955186, 0.9000269906696816, 0.7996854776854797, 0.35322968565101953, 0.6711727475466924, 0.28345737390743064, 0.37350518006964006, 0.37916716408773543, 0.17048123118844705, 0.823379948568777, 0.22300266321497408, 0.051569135814649614, 0.1922950198508785, 0.8634191905130083, 0.5439027360115081, 0.12556216958312505, 0.34124337838965746, 0.6811002910449016, 0.07304203459633685, 0.12499764479557629, 0.2036691179102461, 0.5579574657844889, 0.7421399105045708, 0.5911979676257648, 0.985890474077214, 0.36352070742615483, 0.8983386409438613, 0.045274687387145685, 0.010854410020205485, 0.10747868006965788, 0.7310662267223154, 0.6789110128701332, 0.4681284220423234, 0.7487069922157717, 0.04797854000306567, 0.24710709969259748, 0.04930411236665988, 0.0020391251798350662, 0.07593976703716421, 0.28676974817745593, 0.0046998045473188865, 0.994987409240566, 0.9826228155176063, 0.6053241326585376, 0.5849806144858605, 0.22958414513776948, 0.10777536071052607, 0.5808351957143609, 0.572388670521242, 0.008221646874923993, 0.6896864689831648, 0.12846169495459336, 0.2535791939191787, 0.5478308529147088, 0.27120576132569874, 0.7256050877837473, 0.010751622315348097, 0.9426507923902242, 0.715282633312101, 0.5199730077235968, 0.17428944191844298, 0.8915547498465177, 0.24393711031568588, 0.018682015068336, 0.8427798991994951, 0.015499748889723719, 0.7895388047965864, 0.5450205028827372, 0.2964689443835594, 0.577139092833342, 0.3904078855024612, 0.8461885527273011, 0.2598106883020571, 0.3421468366012045, 0.8909448186747102, 0.16447232820424518, 0.20528958200149916, 0.9877596907709568, 0.27006525861806896, 0.5219510602287093, 0.5592011764902934, 0.5556146311555469]\n",
            "\n",
            "Tabla de intervalos y el conteo de numeros dentro de cada intervalo\n",
            "{0.0: 15, 0.1: 11, 0.2: 14, 0.3: 10, 0.4: 2, 0.5: 17, 0.6: 8, 0.7: 9, 0.8: 7, 0.9: 7}\n",
            "\n",
            "Calculamos el valor de chi cuadrado\n",
            "17.8\n",
            "\n",
            "Grafica de barras\n"
          ]
        },
        {
          "output_type": "display_data",
          "data": {
            "text/plain": [
              "<Figure size 432x288 with 1 Axes>"
            ],
            "image/png": "[encoded data removed]"
          },
          "metadata": {
            "needs_background": "light"
          }
        }
      ],
      "source": [
        "import random\n",
        "numerosRandomLibreary = random_python(11052022, 100)\n",
        "print(\"Numeros Aleatorios generados: \",numerosRandomLibreary)\n",
        "\n",
        "print(\"\\nTabla de intervalos y el conteo de numeros dentro de cada intervalo\")\n",
        "tablas = calcular_chi(numerosRandomLibreary)\n",
        "print(tablas)\n",
        "\n",
        "print(\"\\nCalculamos el valor de chi cuadrado\")\n",
        "print(sumatoria_chi(tablas, 10))\n",
        "\n",
        "print(\"\\nGrafica de barras\")\n",
        "graficar(tablas) "
      ]
    },
    {
      "cell_type": "markdown",
      "source": [
        "### Conclusiones \n",
        "\n",
        "1. Metodo Cuadrados Lineales: 41.2\n",
        "2. Metodo Congruencia Lineal: 31.7\n",
        "2. Metodo Generador de Tausworthe: 2.5\n",
        "2. Metodo Random Libreria Python: 17.8\n",
        "\n",
        "Se obtiene que el metodos de Tausworthe pasa la prueba de distribucion de uniformidad, ya que segun la tabla de distribucion de chi-cuadrada, el valor de chi no deberia ser superior a 16.919, tomando 10 grados de libertad. \n",
        "\n",
        "```χ_obtenida^2 ⩽ χ_0.05,9^2 = 2.5 ⩽ 16.9```\n",
        "\n",
        "\n",
        "\n",
        "**Nota:** Estos datos hay que tener en cuenta siempre y cuando con las semillas y parametros solicitados, ya que la modificación de estos, pueden llegar a cambiar drasticamente el resultado. \n"
      ],
      "metadata": {
        "id": "wqfU28XJ9948"
      }
    }
  ]
}