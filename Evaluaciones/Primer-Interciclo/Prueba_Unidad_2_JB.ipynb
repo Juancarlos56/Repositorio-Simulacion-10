{
  "nbformat": 4,
  "nbformat_minor": 0,
  "metadata": {
    "colab": {
      "name": "Prueba-Unidad-2-JB.ipynb",
      "provenance": [],
      "collapsed_sections": [],
      "authorship_tag": "ABX9TyNBoiVW2CG2ShPK9wEYG9Vm",
      "include_colab_link": true
    },
    "kernelspec": {
      "name": "python3",
      "display_name": "Python 3"
    },
    "language_info": {
      "name": "python"
    }
  },
  "cells": [
    {
      "cell_type": "markdown",
      "metadata": {
        "id": "view-in-github",
        "colab_type": "text"
      },
      "source": [
        "<a href=\"https://colab.research.google.com/github/Juancarlos56/Repositorio-Simulacion-10/blob/main/Evaluaciones/Primer-Interciclo/Prueba_Unidad_2_JB.ipynb\" target=\"_parent\"><img src=\"https://colab.research.google.com/assets/colab-badge.svg\" alt=\"Open In Colab\"/></a>"
      ]
    },
    {
      "cell_type": "markdown",
      "source": [
        "**Ejercicio en clases:**\n",
        "Calcular, graficar y obtener el valor de Chi Cuadrado para los siguientes generadores con las siguientes semillas:\n",
        "\n",
        "- Cuadrados medios: Xo=74731897457, D=7\n",
        "- Congruencia lineal: a=74731897457, b=37747318974, Xo=7, M=19\n",
        "- Random de Python semilla (01032022)\n",
        "- Tauswoth q=15, r=7, l=7"
      ],
      "metadata": {
        "id": "5n_Bja9qtTt6"
      }
    },
    {
      "cell_type": "code",
      "execution_count": 1,
      "metadata": {
        "id": "Q9p16tbZtAzB"
      },
      "outputs": [],
      "source": [
        "# Importanmos las librerias\n",
        "import random\n",
        "import matplotlib.pyplot as plt\n",
        "import numpy as np"
      ]
    },
    {
      "cell_type": "code",
      "source": [
        "#Defino una funcion para generar los 100 numeros pseudoaletaroios, \n",
        "#en este caso estoy utilizando la libreria de Python random\n",
        "def random_python(semilla=\"01032022\",N=100):\n",
        "  numeros = []\n",
        "  random.seed(semilla)\n",
        "  [numeros.append(random.random())for i in range(N)]\n",
        "  return numeros"
      ],
      "metadata": {
        "id": "PhphcBY5tXml"
      },
      "execution_count": 12,
      "outputs": []
    },
    {
      "cell_type": "code",
      "source": [
        "def cuadrados_medios(semilla=74731897457, num_digitos=7, N=100):\n",
        "  numeros = []\n",
        "  xo = semilla\n",
        "  digitos = num_digitos\n",
        "  iteraciones = N\n",
        "  xn = xo\n",
        "  for i in range(iteraciones):\n",
        "    xnn = xn**2\n",
        "    txnn = str(xnn).zfill(8)\n",
        "    tam = len(txnn)\n",
        "    ui = int(txnn[int(tam/2-digitos/2):int(tam/2+digitos/2)])\n",
        "    rn = ui / (int('9'*digitos)+1)\n",
        "    numeros.append(rn)\n",
        "    xn = ui\n",
        "  return numeros "
      ],
      "metadata": {
        "id": "XQ_QF7oytaKJ"
      },
      "execution_count": 3,
      "outputs": []
    },
    {
      "cell_type": "code",
      "source": [
        "def congruencia_lineal(semilla=7, valor_a=74731897457, valor_b=37747318974, valor_m=19, N=100): \n",
        "  xo = semilla\n",
        "  a = valor_a\n",
        "  b = valor_b\n",
        "  m = valor_m\n",
        "  iteraciones = N\n",
        "  numeros = []\n",
        "  xn = xo\n",
        "  for i in range(iteraciones):\n",
        "    xnn = (a*xn+b) % m\n",
        "    ui = xnn/m\n",
        "    numeros.append(ui)\n",
        "    xn = xnn\n",
        "  return numeros"
      ],
      "metadata": {
        "id": "DAWJruo0tb1Y"
      },
      "execution_count": 4,
      "outputs": []
    },
    {
      "cell_type": "code",
      "source": [
        "def generador_tauswoth(r=7, q=15, l=7, N=100):\n",
        "\n",
        "  valor_r = r\n",
        "  valor_q = q\n",
        "\n",
        "  if (0 < valor_r) and (valor_r < valor_q) :\n",
        "    condicion = True\n",
        "  else:\n",
        "    print(\"\\n Condicion: r y q deben cumplir 0 < r < q. \\n\")  \n",
        "    return\n",
        "\n",
        "  valor_nm = N*l\n",
        "  listaNumerosBinarios = []\n",
        "\n",
        "  ##Creacion de valores binarios con formula bi = (bi-r + bi-q) mod 2\n",
        "  for i in range(0,valor_nm):\n",
        "    if(i<valor_q):\n",
        "      listaNumerosBinarios.append(1)\n",
        "    else: \n",
        "      listaNumerosBinarios.append((listaNumerosBinarios[i-valor_r]+listaNumerosBinarios[i-valor_q]) % 2)\n",
        "\n",
        "  ##Agrupar para conversion \n",
        "  valor_l = l\n",
        "  valor_agrupaciones = int(valor_nm/valor_l)\n",
        "  posicion = 0 \n",
        "  aux = valor_l\n",
        "  cont = 0\n",
        "  listaValoresNumericos = []\n",
        "\n",
        "  for j in range(0,valor_agrupaciones):\n",
        "    sublista =listaNumerosBinarios[cont:aux] \n",
        "    binario_To_Decimal = 0\n",
        "    cont2 = 0\n",
        "    for k in range(len(sublista)-1,-1,-1):\n",
        "      if(sublista[cont2]==1): \n",
        "        binario_To_Decimal = 2**(k) + binario_To_Decimal\n",
        "      cont2 = cont2 + 1\n",
        "    listaValoresNumericos.append(binario_To_Decimal / (2**valor_l))\n",
        "    cont = cont + valor_l\n",
        "    aux = aux + valor_l\n",
        "    \n",
        "  return listaValoresNumericos"
      ],
      "metadata": {
        "id": "MTn4Syt6te3J"
      },
      "execution_count": 5,
      "outputs": []
    },
    {
      "cell_type": "code",
      "source": [
        "import math\n",
        "\n",
        "def pruebasdeCorridas(listaNumeros):\n",
        "\n",
        "  ##Creacion de valores 0 - 1 \n",
        "  valoresCeroUnoArreglo = []\n",
        "  for i in listaNumeros:\n",
        "    if(i>=0.5):\n",
        "      valoresCeroUnoArreglo.append(1)\n",
        "    else:\n",
        "      valoresCeroUnoArreglo.append(0)\n",
        "  #print(valoresCeroUnoArreglo)\n",
        "  #print(valoresCeroUnoArreglo.count(0))\n",
        "  #print(valoresCeroUnoArreglo.count(1))\n",
        "  ###Contar cuentos cambios de valores existen \n",
        "  aux = 0\n",
        "  cont = 0\n",
        "  contadorDiferencia = 0\n",
        "  for i in valoresCeroUnoArreglo:\n",
        "    if (cont == 0):\n",
        "      contadorDiferencia = contadorDiferencia + 1\n",
        "      aux = i\n",
        "      cont = 1\n",
        "    else: \n",
        "      if(aux != i):\n",
        "        contadorDiferencia = contadorDiferencia + 1\n",
        "        aux = i\n",
        "    #print(\"i: \",i, \" aux: \",aux, \" contador: \",contadorDiferencia)\n",
        "  cantidadNumero = valoresCeroUnoArreglo.count(0)+valoresCeroUnoArreglo.count(1)\n",
        "  return int(contadorDiferencia), int(valoresCeroUnoArreglo.count(0)), int(valoresCeroUnoArreglo.count(1)), int(cantidadNumero)"
      ],
      "metadata": {
        "id": "DUBTszCWtqjp"
      },
      "execution_count": 80,
      "outputs": []
    },
    {
      "cell_type": "code",
      "source": [
        "def graficoPieCerosUnos(valoresCero, valoresUno):\n",
        "  etiquetas = ['Valores de Cero', 'Valores de Uno']\n",
        "  colores = ['#abcdef', '#aabbcc']\n",
        "  plt.pie([valoresCero, valoresUno], labels=etiquetas, colors=colores, autopct='%.2f %%')\n",
        "  plt.title('Valores de Ceros y Unos')\n",
        "  plt.show()"
      ],
      "metadata": {
        "id": "-70u6FYh1tf7"
      },
      "execution_count": 48,
      "outputs": []
    },
    {
      "cell_type": "code",
      "source": [
        "def calculoFormulasPruebasCorrida(listaNumeros):\n",
        "  contadorDiferencia, valoresCero, valoresUno, cantidadNumero = pruebasdeCorridas(listaNumeros)\n",
        "  graficoPieCerosUnos(valoresCero, valoresUno)\n",
        "  valor_esperado = ((2*(valoresCero)*(valoresUno))/(cantidadNumero)) + (1/2)\n",
        "  varianza = ((2*(valoresCero)*(valoresUno))*(2*(valoresCero)*(valoresUno)-(cantidadNumero)))/((pow(cantidadNumero, 2))*(cantidadNumero-1))\n",
        "  estadistico = ((contadorDiferencia)- (valor_esperado))/(math.sqrt(varianza))\n",
        "  print(\"contadorDiferencia, valoresCero, valoresUno, cantidadNumero\")\n",
        "  print(contadorDiferencia, valoresCero, valoresUno, cantidadNumero)\n",
        "  return estadistico"
      ],
      "metadata": {
        "id": "XimPfn_PyhAz"
      },
      "execution_count": 70,
      "outputs": []
    },
    {
      "cell_type": "code",
      "source": [
        "def graficoPieCorridas(cuadradosMedios, congruenciaLineal, random, Tauswoth):\n",
        "  etiquetas = [\"Cuadrados Medios\", \"Congruencia Lineal\", \"Random\", \"Tauswoth\"]\n",
        "  colores = ['#abcdef', '#aabbcc', '#CDCAFA', '#FAF4D7']\n",
        "  plt.bar(etiquetas, [round(cuadradosMedios,2), round(congruenciaLineal,2), round(random,2), round(Tauswoth,2)])\n",
        "  plt.title('Numero de corridas generados')\n",
        "  plt.show()"
      ],
      "metadata": {
        "id": "V0MNKI0I2shz"
      },
      "execution_count": 67,
      "outputs": []
    },
    {
      "cell_type": "markdown",
      "source": [
        "### Calculo de Independencia de Random Semilla"
      ],
      "metadata": {
        "id": "_deYtLzCtnHI"
      }
    },
    {
      "cell_type": "code",
      "source": [
        "import random\n",
        "numerosRandomLibreary = random_python(\"01032022\", 100)\n",
        "print(\"Numeros Aleatorios generados: \",numerosRandomLibreary)\n",
        "estadisticoRandom = calculoFormulasPruebasCorrida(numerosRandomLibreary)\n",
        "\n",
        "numerosRandomLibreary = random_python(1032022, 100)\n",
        "print(\"Numeros Aleatorios generados: \",numerosRandomLibreary)\n",
        "estadisticoRandom = calculoFormulasPruebasCorrida(numerosRandomLibreary)\n"
      ],
      "metadata": {
        "colab": {
          "base_uri": "https://localhost:8080/",
          "height": 635
        },
        "id": "tZqJ0hI9tkzQ",
        "outputId": "2327e04e-e3ef-4943-931c-8345de543c86"
      },
      "execution_count": 88,
      "outputs": [
        {
          "output_type": "stream",
          "name": "stdout",
          "text": [
            "Numeros Aleatorios generados:  [0.19395794358505347, 0.8798102130595057, 0.828391755031305, 0.6960795814654994, 0.28953733267802284, 0.16210707615008113, 0.4874030549561268, 0.1013601600494044, 0.6990173393377035, 0.47240776336088275, 0.5690347574783666, 0.6681331836366342, 0.7144157095278144, 0.5908572286191758, 0.7134724716341273, 0.9164202775094519, 0.5027457994684825, 0.24342781330179908, 0.9461893391271378, 0.874756779449594, 0.49359770322386387, 0.07522660327563235, 0.825850319280524, 0.8687754781916857, 0.468719962871446, 0.32928869329528343, 0.4997031266879405, 0.06706219161454041, 0.20350932748266737, 0.08777164283061178, 0.44128508602274275, 0.92571487683696, 0.28394811723560587, 0.4865979882220858, 0.946528900117173, 0.8991210946653714, 0.08885316192405845, 0.8753595703431967, 0.4205275861840111, 0.10990947615274949, 0.9340698262550936, 0.6202272995976544, 0.6281118604393244, 0.8393192709201069, 0.3138051115072329, 0.9405601249505268, 0.5663924181896958, 0.8735835152198743, 0.7131785945564804, 0.04545134127603856, 0.9677363158180837, 0.7578826181633915, 0.678334444620418, 0.8210953008837386, 0.3682005392070439, 0.7426846350986774, 0.6084362859580675, 0.6427826680274801, 0.4506329598521991, 0.9657134624812111, 0.6329523842158108, 0.9383024148075461, 0.29528767059293237, 0.7943277851188041, 0.5832717563427501, 0.36782359665432296, 0.8405879507595772, 0.3651061935917248, 0.6931123178039881, 0.13017105930025463, 0.255616731427339, 0.8205974323556132, 0.5142676160602612, 0.5945374353382968, 0.9360659327438193, 0.15324699829802169, 0.2603490006055911, 0.7750570404287457, 0.3138077312205201, 0.0900266398037044, 0.19639934362382983, 0.49711637820217447, 0.8693539795741658, 0.902854791011138, 0.5765177677545633, 0.5277123584170554, 0.40394152362465174, 0.47496220246001, 0.5076465213010491, 0.1846542511593463, 0.8216777399704882, 0.6462025994892343, 0.4900509850616811, 0.03713406848540046, 0.9071746635839717, 0.7518881195449006, 0.7689737637557275, 0.12266895752283824, 0.35864759123290246, 0.48190480191112184]\n"
          ]
        },
        {
          "output_type": "display_data",
          "data": {
            "text/plain": [
              "<Figure size 432x288 with 1 Axes>"
            ],
            "image/png": "[encoded data removed]"
          },
          "metadata": {}
        },
        {
          "output_type": "stream",
          "name": "stdout",
          "text": [
            "contadorDiferencia, valoresCero, valoresUno, cantidadNumero\n",
            "45 44 56 100\n",
            "Numeros Aleatorios generados:  [0.6009619083013497, 0.7544824379607146, 0.12043532987383554, 0.2238116361922322, 0.3554416664685648, 0.3649338752279483, 0.17405451171268804, 0.32250705110103095, 0.07365121514270778, 0.22328536228547846, 0.5657683456996286, 0.47192384810364474, 0.4202981677611177, 0.37108436054595506, 0.10650450605448003, 0.3833193199640059, 0.7049825780489426, 0.13690172112654952, 0.5716984080534419, 0.9789396569474001, 0.236780550670054, 0.006725889464470058, 0.5139046449054391, 0.6438650174292219, 0.6777000434949092, 0.18065102285418133, 0.2600319514322885, 0.9990112973850298, 0.7819230179134201, 0.6528163281009259, 0.41158028245500233, 0.3503230957715354, 0.6321520503728941, 0.24128644445389802, 0.15876526910544175, 0.06886725630014012, 0.2203104909550485, 0.0635925351918386, 0.6359586015601617, 0.5954035256577749, 0.6798685267659752, 0.24934012141223982, 0.9701534277917231, 0.5175900365934477, 0.01464956149171004, 0.6278570013514053, 0.6043945007908113, 0.5734521355309034, 0.09193215386527398, 0.3885752568025084, 0.3909804104914554, 0.945658627305166, 0.13011539995676968, 0.6506256093446959, 0.7454756950859892, 0.8342918835115891, 0.2892542969224021, 0.9904729062525761, 0.5220267020050497, 0.4584973094952861, 0.09767653440846813, 0.37267806023837, 0.71644289685708, 0.159200695065717, 0.09577358702053396, 0.549918018722397, 0.9041868896200025, 0.6850750382431942, 0.2001955274458772, 0.8083919048404493, 0.3161948255419441, 0.42123653439319697, 0.5731389441360007, 0.6776554503641572, 0.25347312055783877, 0.04977951434635797, 0.06577601866758842, 0.13836261636902591, 0.5730827129072832, 0.12501985614704625, 0.24218510917433356, 0.3666791329622998, 0.7377455218774518, 0.20541870468384327, 0.2645631680052909, 0.14637340534332044, 0.49109053574685047, 0.5183049190475788, 0.3345750171977261, 0.7485856186324178, 0.7954750084066264, 0.29900407630811343, 0.4972484295923325, 0.8204541836374504, 0.4178880927495301, 0.02400819373489338, 0.628752571840199, 0.8370232490830278, 0.6546392165183474, 0.04217411313955488]\n"
          ]
        },
        {
          "output_type": "display_data",
          "data": {
            "text/plain": [
              "<Figure size 432x288 with 1 Axes>"
            ],
            "image/png": "[encoded data removed]"
          },
          "metadata": {}
        },
        {
          "output_type": "stream",
          "name": "stdout",
          "text": [
            "contadorDiferencia, valoresCero, valoresUno, cantidadNumero\n",
            "46 57 43 100\n"
          ]
        }
      ]
    },
    {
      "cell_type": "markdown",
      "source": [
        "### Calculo de Uniformidad de Cuadrados Medios"
      ],
      "metadata": {
        "id": "mou2N0wJ3dA7"
      }
    },
    {
      "cell_type": "code",
      "source": [
        "numerosRandomCuadradosMedios = cuadrados_medios(74731897457, 7, 100)\n",
        "print(\"Numeros Aleatorios generados: \",numerosRandomCuadradosMedios)\n",
        "estadisticoCuadradosMedios = calculoFormulasPruebasCorrida(numerosRandomCuadradosMedios)"
      ],
      "metadata": {
        "colab": {
          "base_uri": "https://localhost:8080/",
          "height": 336
        },
        "id": "4PRrD1dP3jAL",
        "outputId": "060f91a4-d18d-4734-94de-03a6e71704e6"
      },
      "execution_count": 82,
      "outputs": [
        {
          "output_type": "stream",
          "name": "stdout",
          "text": [
            "Numeros Aleatorios generados:  [0.4975235, 0.529633, 0.5111146, 0.2381343, 0.0794483, 0.1203237, 0.7779278, 0.171662, 0.6784224, 0.2569528, 0.2474142, 0.1378636, 0.063722, 0.6049328, 0.9436925, 0.5555345, 0.6185806, 0.6419586, 0.1108441, 0.864145, 0.746581, 0.3831895, 0.8341929, 0.8777944, 0.5230086, 0.5379956, 0.4392656, 0.9542673, 0.6260798, 0.9759159, 0.4118438, 0.6153155, 0.6131645, 0.970704, 0.2662556, 0.9204453, 0.2195502, 0.0229032, 0.455657, 0.6233016, 0.5048845, 0.9083583, 0.1148011, 0.7929256, 0.7310071, 0.3713802, 0.9232529, 0.3959173, 0.7505084, 0.2628584, 0.9453845, 0.7518528, 0.2826328, 0.8129963, 0.9629838, 0.337799, 0.1081644, 0.9953742, 0.769798, 0.5889608, 0.8748239, 0.316856, 0.3977247, 0.1849369, 0.0165698, 0.4558272, 0.7784362, 0.9629174, 0.2099192, 0.6607052, 0.5313613, 0.3448311, 0.9084875, 0.3495376, 0.1765338, 0.6418254, 0.939844, 0.3067443, 0.9206558, 0.607102, 0.5728384, 0.1438325, 0.8778805, 0.6741722, 0.5081552, 0.2217072, 0.5408253, 0.4920051, 0.0690184, 0.6353953, 0.7271872, 0.8012238, 0.9595776, 0.7891704, 0.7899202, 0.9739223, 0.5246464, 0.253845, 0.3728402, 0.0098147]\n"
          ]
        },
        {
          "output_type": "display_data",
          "data": {
            "text/plain": [
              "<Figure size 432x288 with 1 Axes>"
            ],
            "image/png": "[encoded data removed]"
          },
          "metadata": {}
        },
        {
          "output_type": "stream",
          "name": "stdout",
          "text": [
            "contadorDiferencia, valoresCero, valoresUno, cantidadNumero\n",
            "49 41 59 100\n"
          ]
        }
      ]
    },
    {
      "cell_type": "markdown",
      "source": [
        "### Calculo de Uniformidad de Congruencia Lineal"
      ],
      "metadata": {
        "id": "EpVTMPK03ieS"
      }
    },
    {
      "cell_type": "code",
      "source": [
        "numerosRandomCongruenciaLineal = congruencia_lineal(7, 74731897457, 37747318974, 19, 100)\n",
        "print(\"Numeros Aleatorios generados: \",numerosRandomCongruenciaLineal)\n",
        "estadisticoCongruencia = calculoFormulasPruebasCorrida(numerosRandomCongruenciaLineal)\n"
      ],
      "metadata": {
        "colab": {
          "base_uri": "https://localhost:8080/",
          "height": 336
        },
        "id": "K-5tiJ7P3uei",
        "outputId": "32a24c25-7304-4edc-f214-b8001f6569fd"
      },
      "execution_count": 83,
      "outputs": [
        {
          "output_type": "stream",
          "name": "stdout",
          "text": [
            "Numeros Aleatorios generados:  [0.8947368421052632, 0.8421052631578947, 0.9473684210526315, 0.7368421052631579, 0.15789473684210525, 0.3157894736842105, 0.0, 0.631578947368421, 0.3684210526315789, 0.8947368421052632, 0.8421052631578947, 0.9473684210526315, 0.7368421052631579, 0.15789473684210525, 0.3157894736842105, 0.0, 0.631578947368421, 0.3684210526315789, 0.8947368421052632, 0.8421052631578947, 0.9473684210526315, 0.7368421052631579, 0.15789473684210525, 0.3157894736842105, 0.0, 0.631578947368421, 0.3684210526315789, 0.8947368421052632, 0.8421052631578947, 0.9473684210526315, 0.7368421052631579, 0.15789473684210525, 0.3157894736842105, 0.0, 0.631578947368421, 0.3684210526315789, 0.8947368421052632, 0.8421052631578947, 0.9473684210526315, 0.7368421052631579, 0.15789473684210525, 0.3157894736842105, 0.0, 0.631578947368421, 0.3684210526315789, 0.8947368421052632, 0.8421052631578947, 0.9473684210526315, 0.7368421052631579, 0.15789473684210525, 0.3157894736842105, 0.0, 0.631578947368421, 0.3684210526315789, 0.8947368421052632, 0.8421052631578947, 0.9473684210526315, 0.7368421052631579, 0.15789473684210525, 0.3157894736842105, 0.0, 0.631578947368421, 0.3684210526315789, 0.8947368421052632, 0.8421052631578947, 0.9473684210526315, 0.7368421052631579, 0.15789473684210525, 0.3157894736842105, 0.0, 0.631578947368421, 0.3684210526315789, 0.8947368421052632, 0.8421052631578947, 0.9473684210526315, 0.7368421052631579, 0.15789473684210525, 0.3157894736842105, 0.0, 0.631578947368421, 0.3684210526315789, 0.8947368421052632, 0.8421052631578947, 0.9473684210526315, 0.7368421052631579, 0.15789473684210525, 0.3157894736842105, 0.0, 0.631578947368421, 0.3684210526315789, 0.8947368421052632, 0.8421052631578947, 0.9473684210526315, 0.7368421052631579, 0.15789473684210525, 0.3157894736842105, 0.0, 0.631578947368421, 0.3684210526315789, 0.8947368421052632]\n"
          ]
        },
        {
          "output_type": "display_data",
          "data": {
            "text/plain": [
              "<Figure size 432x288 with 1 Axes>"
            ],
            "image/png": "[encoded data removed]"
          },
          "metadata": {}
        },
        {
          "output_type": "stream",
          "name": "stdout",
          "text": [
            "contadorDiferencia, valoresCero, valoresUno, cantidadNumero\n",
            "45 44 56 100\n"
          ]
        }
      ]
    },
    {
      "cell_type": "markdown",
      "source": [
        "### Calculo de Independencia de Generador de Tauswoth"
      ],
      "metadata": {
        "id": "V9nOgdop35Li"
      }
    },
    {
      "cell_type": "code",
      "source": [
        "numerosRandomtauswoth = generador_tauswoth(7, 15, 7, 100)\n",
        "print(\"Numeros Aleatorios generados: \",numerosRandomtauswoth)\n",
        "estadisticotauswoth = calculoFormulasPruebasCorrida(numerosRandomtauswoth)"
      ],
      "metadata": {
        "colab": {
          "base_uri": "https://localhost:8080/",
          "height": 336
        },
        "id": "pYqv48Iq34u6",
        "outputId": "9b495019-3687-453c-f4c7-8e0097bebd57"
      },
      "execution_count": 84,
      "outputs": [
        {
          "output_type": "stream",
          "name": "stdout",
          "text": [
            "Numeros Aleatorios generados:  [0.9921875, 0.9921875, 0.5, 0.4921875, 0.7421875, 0.5, 0.3671875, 0.6171875, 0.6875, 0.4921875, 0.6484375, 0.59375, 0.2890625, 0.5234375, 0.6328125, 0.375, 0.6875, 0.0, 0.34375, 0.34375, 0.453125, 0.34375, 0.3828125, 0.3046875, 0.4921875, 0.84375, 0.3984375, 0.5390625, 0.71875, 0.484375, 0.625, 0.6171875, 0.8046875, 0.5, 0.3984375, 0.6484375, 0.578125, 0.2734375, 0.546875, 0.6796875, 0.40625, 0.2421875, 0.5390625, 0.578125, 0.3125, 0.6015625, 0.6953125, 0.9921875, 0.1484375, 0.84375, 0.2890625, 0.6484375, 0.5078125, 0.3125, 0.5625, 0.21875, 0.4375, 0.421875, 0.328125, 0.3828125, 0.28125, 0.46875, 0.859375, 0.875, 0.5546875, 0.9921875, 0.71875, 0.2734375, 0.6015625, 0.71875, 0.453125, 0.65625, 0.5703125, 0.7734375, 0.5546875, 0.421875, 0.6640625, 0.109375, 0.28125, 0.7734375, 0.8828125, 0.5, 0.4375, 0.6875, 0.53125, 0.8125, 0.578125, 0.984375, 0.7109375, 0.78125, 0.5703125, 0.4609375, 0.2421875, 0.515625, 0.1015625, 0.84375, 0.828125, 0.21875, 0.3203125, 0.3046875]\n"
          ]
        },
        {
          "output_type": "display_data",
          "data": {
            "text/plain": [
              "<Figure size 432x288 with 1 Axes>"
            ],
            "image/png": "[encoded data removed]"
          },
          "metadata": {}
        },
        {
          "output_type": "stream",
          "name": "stdout",
          "text": [
            "contadorDiferencia, valoresCero, valoresUno, cantidadNumero\n",
            "48 42 58 100\n"
          ]
        }
      ]
    },
    {
      "cell_type": "markdown",
      "source": [
        "## Grafica de resultados de cada uno de los metodos"
      ],
      "metadata": {
        "id": "X5twluiw4irr"
      }
    },
    {
      "cell_type": "code",
      "source": [
        "print(\"estadisticoCuadradosMedios, estadisticoCongruencia, estadisticoRandom, estadisticotauswoth\")\n",
        "print(estadisticoCuadradosMedios, estadisticoCongruencia, estadisticoRandom, estadisticotauswoth)\n",
        "\n",
        "graficoPieCorridas((-1)*estadisticoCuadradosMedios, (-1)*estadisticoCongruencia, (-1)*estadisticoRandom, (-1)*estadisticotauswoth)"
      ],
      "metadata": {
        "colab": {
          "base_uri": "https://localhost:8080/",
          "height": 316
        },
        "id": "N1aoe6zb4rDT",
        "outputId": "0b96ca92-01da-4ddb-f8bc-5e94415f1b1e"
      },
      "execution_count": 85,
      "outputs": [
        {
          "output_type": "stream",
          "name": "stdout",
          "text": [
            "estadisticoCuadradosMedios, estadisticoCongruencia, estadisticoRandom, estadisticotauswoth\n",
            "0.02493838832056819 -0.9750491625213825 -0.9750491625213825 -0.25175237171777376\n"
          ]
        },
        {
          "output_type": "display_data",
          "data": {
            "text/plain": [
              "<Figure size 432x288 with 1 Axes>"
            ],
            "image/png": "[encoded data removed]"
          },
          "metadata": {
            "needs_background": "light"
          }
        }
      ]
    },
    {
      "cell_type": "markdown",
      "source": [
        "### Conclusiones \n",
        "\n",
        "**Comprobaciòn**: \n",
        "$$ -1.96 < Zo < 1.96 $$\n",
        "\n",
        "Cuadrados Medios: $$ -1.96 < -0.18 < 1.96 $$\n",
        "Cuadrados Congruencia: $$ -1.96 < -1.17 < 1.96 $$\n",
        "Cuadrados Random: $$ -1.96 < -1.17 < 1.96 $$\n",
        "Cuadrados tauswoth: $$ -1.96 < -0.45 < 1.96 $$\n",
        "\n"
      ],
      "metadata": {
        "id": "ZjLE8jjs6Adc"
      }
    }
  ]
}