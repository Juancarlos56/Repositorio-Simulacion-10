{
  "nbformat": 4,
  "nbformat_minor": 0,
  "metadata": {
    "colab": {
      "name": "PrimeraClaseSimuladores.ipynb",
      "provenance": [],
      "collapsed_sections": [],
      "authorship_tag": "ABX9TyMq/8BICY23kG6GGHcqVEDU",
      "include_colab_link": true
    },
    "kernelspec": {
      "name": "python3",
      "display_name": "Python 3"
    },
    "language_info": {
      "name": "python"
    }
  },
  "cells": [
    {
      "cell_type": "markdown",
      "metadata": {
        "id": "view-in-github",
        "colab_type": "text"
      },
      "source": [
        "<a href=\"https://colab.research.google.com/github/Juancarlos56/Repositorio-Simulacion-10/blob/main/PrimeraClaseSimuladores.ipynb\" target=\"_parent\"><img src=\"https://colab.research.google.com/assets/colab-badge.svg\" alt=\"Open In Colab\"/></a>"
      ]
    },
    {
      "cell_type": "markdown",
      "source": [
        "\n",
        "# Primera Clase\n"
      ],
      "metadata": {
        "id": "Xd4ygQNmEcJQ"
      }
    },
    {
      "cell_type": "markdown",
      "source": [
        "## Introduccion a Materia"
      ],
      "metadata": {
        "id": "wZC2kgPZEv2O"
      }
    },
    {
      "cell_type": "markdown",
      "source": [
        "**Introduccion**: Aplicaciones de la simulacion son muy extensas: Economia, Finanzas, sistemas de inversiones, sistemas de colas etc. \n",
        "\n",
        "Carrera trasdiciplinaria: carrea de marketong, economia conjunto con computacion. \n",
        "\n",
        "Predecir con datos historicos, simular es tomado como crear modelos para luego poder planificar. \n",
        "\n",
        "Distribucion de probabilidad de una variable aleatoria es una funcion que asigna a cada suceso definido sobre la varaible aleatoria de probabilidad de que dicho suceso ocurra. \n",
        "\n",
        "Sistemas formal: artificio matematico compuesto de simbolos que se unen entre si formando cadenas. \n",
        "\n",
        "**Definicion de Simulacion:**  \"X simula Y\", si y solo si\n",
        "- X y Y son sistemas formales \n",
        "- Y se concidera como sistema real\n",
        "- X se toma como una aproximacion del sistema real\n",
        "- las reglas de validez en x no estan extantas del error\n",
        "\n",
        "Coger un sistema real, modelardo y abstraerlo y llevarlo al software. \n",
        "\n"
      ],
      "metadata": {
        "id": "0zT16awO_bOl"
      }
    },
    {
      "cell_type": "markdown",
      "source": [
        "## Introduccion a Python"
      ],
      "metadata": {
        "id": "mXNlOVx1Epjv"
      }
    },
    {
      "cell_type": "code",
      "execution_count": 1,
      "metadata": {
        "colab": {
          "base_uri": "https://localhost:8080/"
        },
        "id": "oCOEY4137Sx9",
        "outputId": "57977730-00e3-4e57-f121-19b1661cb56a"
      },
      "outputs": [
        {
          "output_type": "stream",
          "name": "stdout",
          "text": [
            "hello world..!!\n"
          ]
        }
      ],
      "source": [
        "print(\"hello world...!!\")"
      ]
    },
    {
      "cell_type": "code",
      "source": [
        "x = 5\n",
        "y = \"el valor es\"\n",
        "z = y +\" \"+ str(x)\n",
        "print(z) "
      ],
      "metadata": {
        "colab": {
          "base_uri": "https://localhost:8080/"
        },
        "id": "ouGD0pBOE1v8",
        "outputId": "5d43d19c-95e8-4339-c962-151fd05f0c96"
      },
      "execution_count": 4,
      "outputs": [
        {
          "output_type": "stream",
          "name": "stdout",
          "text": [
            "el valor es 5\n"
          ]
        }
      ]
    },
    {
      "cell_type": "code",
      "source": [
        "# Modificacion de x\n",
        "# sumar uno a la varibale \n",
        "x = 0\n",
        "x += 1\n",
        "print(x)"
      ],
      "metadata": {
        "colab": {
          "base_uri": "https://localhost:8080/"
        },
        "id": "G7xIeQJFIofs",
        "outputId": "b5db66fc-d0fc-4d82-eade-c0c37ca4effe"
      },
      "execution_count": 7,
      "outputs": [
        {
          "output_type": "stream",
          "name": "stdout",
          "text": [
            "1\n"
          ]
        }
      ]
    },
    {
      "cell_type": "code",
      "source": [
        "## Boolean\n",
        "## and, not, or \n",
        "\n",
        "## comparacion\n",
        "## <,>, ==, >= , <=, !=\n",
        "\n",
        "## Listas \n",
        "## entre [] separados con ,\n",
        "\n",
        "lista = [\"hola\", \"mundo\", 1, 2]\n",
        "print(lista)\n",
        "print(len(lista))"
      ],
      "metadata": {
        "colab": {
          "base_uri": "https://localhost:8080/"
        },
        "id": "xnEjtcaGJcdp",
        "outputId": "409627f0-d2d6-4a8e-e368-4e6ad3b04c68"
      },
      "execution_count": 8,
      "outputs": [
        {
          "output_type": "stream",
          "name": "stdout",
          "text": [
            "['hola', 'mundo', 1, 2]\n",
            "4\n"
          ]
        }
      ]
    },
    {
      "cell_type": "code",
      "source": [
        "# Acceder elementos de la lista\n",
        "\n",
        "print(lista[-1])\n",
        "print(lista[-2])\n",
        "print(lista[1])"
      ],
      "metadata": {
        "colab": {
          "base_uri": "https://localhost:8080/"
        },
        "id": "D_cJc3gGKgHy",
        "outputId": "9d6a016f-1092-4760-af7f-2f239f95d38e"
      },
      "execution_count": 11,
      "outputs": [
        {
          "output_type": "stream",
          "name": "stdout",
          "text": [
            "2\n",
            "1\n",
            "mundo\n"
          ]
        }
      ]
    },
    {
      "cell_type": "code",
      "source": [
        "## Rangos dentro de la lista \n",
        "\n",
        "print(lista[0:2]) ## desde 0 al 1\n",
        "print(lista[1:3]) ## desde 0 al 1\n",
        "print(lista[:2]) ## desde 0 al 1\n",
        "print(lista[1:]) ## desde 0 al 1\n",
        "print(lista[:]) ## desde 0 al 1\n",
        "print(lista[-3:-1]) ## desde 0 al 1\n",
        "print(lista[-3:]) ## desde 0 al 1\n",
        "print(lista[2:2]) ## desde 0 al 1\n"
      ],
      "metadata": {
        "colab": {
          "base_uri": "https://localhost:8080/"
        },
        "id": "MP1nviXFKvzO",
        "outputId": "ed820a3d-cc2e-42c2-8ee4-aa8313a4d7e1"
      },
      "execution_count": 15,
      "outputs": [
        {
          "output_type": "stream",
          "name": "stdout",
          "text": [
            "['hola', 'mundo']\n",
            "['mundo', 1]\n",
            "['hola', 'mundo']\n",
            "['mundo', 1, 2]\n",
            "['hola', 'mundo', 1, 2]\n",
            "['mundo', 1]\n",
            "['mundo', 1, 2]\n",
            "[]\n"
          ]
        }
      ]
    },
    {
      "cell_type": "code",
      "source": [
        "## metodos dentro de la lista \n",
        "## append\n",
        "lista.append(\"55\")\n",
        "\n",
        "## sum \n",
        "lista2 = [1,2,3,4]\n",
        "print(sum(lista2))\n"
      ],
      "metadata": {
        "colab": {
          "base_uri": "https://localhost:8080/"
        },
        "id": "Vrfc9x1HLc8_",
        "outputId": "2b4cd0f4-8ae7-45d1-8f86-29a7201d45a2"
      },
      "execution_count": 17,
      "outputs": [
        {
          "output_type": "stream",
          "name": "stdout",
          "text": [
            "10\n"
          ]
        }
      ]
    },
    {
      "cell_type": "code",
      "source": [
        "## Listas solo de lectura solo para definir parametros con () en vez de []\n",
        "\n",
        "a = (1,2,3,4)\n",
        "print(a)"
      ],
      "metadata": {
        "colab": {
          "base_uri": "https://localhost:8080/"
        },
        "id": "BDWsqJVqLrMD",
        "outputId": "07859eef-56fd-4b4b-8b2e-8eb1f3eb2f87"
      },
      "execution_count": 19,
      "outputs": [
        {
          "output_type": "stream",
          "name": "stdout",
          "text": [
            "(1, 2, 3, 4)\n"
          ]
        }
      ]
    },
    {
      "cell_type": "code",
      "source": [
        "## set, solo manejamos claves, elementos unicos dentro de la lista\n",
        "conjunto = {1,2,3,4,4,5}\n",
        "print(conjunto)\n",
        "for c in conjunto: \n",
        "  print(c)"
      ],
      "metadata": {
        "colab": {
          "base_uri": "https://localhost:8080/"
        },
        "id": "ubEr7XpiMEtG",
        "outputId": "2ac88392-2e85-4e34-bf41-a16fe87f722e"
      },
      "execution_count": 24,
      "outputs": [
        {
          "output_type": "stream",
          "name": "stdout",
          "text": [
            "{1, 2, 3, 4, 5}\n",
            "1\n",
            "2\n",
            "3\n",
            "4\n",
            "5\n"
          ]
        }
      ]
    },
    {
      "cell_type": "code",
      "source": [
        "## Diccionarios \n",
        "## Formato tipo Json, clave y valor, clave no se puede repetir\n",
        "\n",
        "diccionario = {\"1\": \"Juan\", \"2\":\"Carlos\", 3:\"0106113301\", 4:[\"Barrera\", \"Barrera\"]}\n",
        "print(diccionario)"
      ],
      "metadata": {
        "colab": {
          "base_uri": "https://localhost:8080/"
        },
        "id": "yYr4HqU8MaKZ",
        "outputId": "33fd8e86-171a-424b-e0d5-fad6e5c1874d"
      },
      "execution_count": 26,
      "outputs": [
        {
          "output_type": "stream",
          "name": "stdout",
          "text": [
            "{'1': 'Juan', '2': 'Carlos', 3: '0106113301', 4: ['Barrera', 'Barrera']}\n"
          ]
        }
      ]
    }
  ]
}