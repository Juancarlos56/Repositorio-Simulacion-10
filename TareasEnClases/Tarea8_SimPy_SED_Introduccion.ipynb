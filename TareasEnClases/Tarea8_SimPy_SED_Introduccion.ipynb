{
  "nbformat": 4,
  "nbformat_minor": 0,
  "metadata": {
    "colab": {
      "name": "Tarea8_SimPy-SED-Introduccion.ipynb",
      "provenance": [],
      "collapsed_sections": [],
      "authorship_tag": "ABX9TyORVZg+ODMIwZd/NsnclGAH",
      "include_colab_link": true
    },
    "kernelspec": {
      "name": "python3",
      "display_name": "Python 3"
    },
    "language_info": {
      "name": "python"
    }
  },
  "cells": [
    {
      "cell_type": "markdown",
      "metadata": {
        "id": "view-in-github",
        "colab_type": "text"
      },
      "source": [
        "<a href=\"https://colab.research.google.com/github/Juancarlos56/Repositorio-Simulacion-10/blob/main/TareasEnClases/Tarea8_SimPy_SED_Introduccion.ipynb\" target=\"_parent\"><img src=\"https://colab.research.google.com/assets/colab-badge.svg\" alt=\"Open In Colab\"/></a>"
      ]
    },
    {
      "cell_type": "markdown",
      "source": [
        "## Práctica Propuesta- SimPy SED\n",
        "\n",
        "Modifique el código anterior a fin de incorporar los siguientes cambios:\n",
        "\n",
        "* Considerar 3 tipos de vehículos con 3 diferentes tiempos de lavado:\n",
        "    * Bus: 15- 20 minutos\n",
        "    * Automóvil: 7-10 minutos\n",
        "    * Furgoneta: 12-15 minutos\n",
        "* Considere que a partir de la entrada del vehículo para ser lavado, deberán tomarse en cuenta los siguientes tiempos correspondientes al proceso de traslado desde la recepción a la máquina de lavado:\n",
        "    * Bus: 4 minutos\n",
        "    * Automóvil: 1 minuto\n",
        "    * Furgoneta: 2 minutos\n",
        "* Identificar el recurso maquina dentro de la simulación\n",
        "* Realice una gráfica comparativa de la simulación con 3 y con 4 máquinas de lavado\n",
        "* Generar llegada de vehiculos de 1 - 2 minutos, por 60 minutos de lavado, el tipo de vehiculo es generado aleatorialmente.\n",
        "\n"
      ],
      "metadata": {
        "id": "NRMgnt17pDlK"
      }
    },
    {
      "cell_type": "markdown",
      "source": [
        "### Instalacion de Libreria"
      ],
      "metadata": {
        "id": "yv1sUXnppLV-"
      }
    },
    {
      "cell_type": "code",
      "execution_count": null,
      "metadata": {
        "colab": {
          "base_uri": "https://localhost:8080/"
        },
        "id": "3AeCBWTTpAwz",
        "outputId": "9edddeb2-67d4-4204-cc68-c2332cd2755f"
      },
      "outputs": [
        {
          "output_type": "stream",
          "name": "stdout",
          "text": [
            "Looking in indexes: https://pypi.org/simple, https://us-python.pkg.dev/colab-wheels/public/simple/\n",
            "Requirement already satisfied: simpy in /usr/local/lib/python3.7/dist-packages (4.0.1)\n"
          ]
        }
      ],
      "source": [
        "!pip install simpy"
      ]
    },
    {
      "cell_type": "markdown",
      "source": [
        "#### Quitar el tiempo compartido y definir cada uno para ellos"
      ],
      "metadata": {
        "id": "82JaI5IiXgcq"
      }
    },
    {
      "cell_type": "code",
      "source": [
        "import simpy\n",
        "import random\n",
        "import matplotlib.pyplot as plt\n",
        "\n",
        "# Maximo de vehiculos que puede recibir el negocio\n",
        "MAX_VEHICULOS = 57 \n",
        "# Total de maquinas de lavado con que cuenta el negocio\n",
        "NUM_MAQUINAS = 4\n",
        "# Tiempo que tarda en lavarse un vehiculo (minutos)\n",
        "TIEMPO_LAVADO = 7 \n",
        "# Intervalo de tiempo en que llegan vehiculos (minutos)\n",
        "INTERVALO_LLEGADA = 2\n",
        "# Tiempo de simulación\n",
        "TIEMPO_SIMULACION = 60\n",
        "#Tipos de Vehiculos\n",
        "TIPOS_VEHICULOS = {'Bus':[15, 20, 4], 'Automóvil':[7,10,1], 'Furgoneta':[12, 15, 2]}\n",
        "\n",
        "# Creamos un diccionario para almacenar las horas en que se lavan los vehiculos\n",
        "# Esto permite graficar o generar los resultados\n",
        "tiempo={}\n",
        "\n",
        "class Lavanderia(object):\n",
        "    \n",
        "    def __init__(self, environment, num_maquinas):\n",
        "        # Guardamos como variable el entorno de ejecucion\n",
        "        self.env=environment\n",
        "        # Creamos el recurso que representa las maquinas\n",
        "        self.maquinas = simpy.Resource(environment, num_maquinas)\n",
        "        \n",
        "        \n",
        "    def lavar_vehiculo(self, vehiculo, tipoVehiculo):\n",
        "        # Este metodo representa el proceso de lavado del vehículo.\n",
        "        # Se ingresa el vehículo y se lava\n",
        "        \n",
        "        # Simulamos el tiempo que tarda en lavarse el vehiculo\n",
        "        # Es importante notar que la instruccion \"yield\" es distinta de \"sleep\"\n",
        "        # ya que esta ultima bloquea el hilo de ejecucion durante 't' unidades de tiempo,\n",
        "        # mientras que 'yield' no bloquea el hilo de ejecucion, solo lo suspende mientras\n",
        "        # el evento de 'lavado' se realice\n",
        "        # ---> Modificamos el tiempo de lavado 5-11\n",
        "        yield self.env.timeout(random.randint(tipoVehiculo[1][0],tipoVehiculo[1][1]))\n",
        "        # Simulamos que se ha limpiado parte (%) de la suciedad del vehiculo\n",
        "        # Para el % generamos un entero entre 30 y 90\n",
        "        print('Removido  {%d%%} suciedad vehiculo => %s ' % (random.randint(30,90), vehiculo))\n",
        "\n",
        "    def entrada_Vehiculo(self, nombre, tipoVehiculo):\n",
        "        print('Llega vehiculo: %s de tipo: %s,a la recepcion a la hora %.2f.' % (nombre, tipoVehiculo, env.now))\n",
        "        # Procesamos la operacion de traslado\n",
        "        yield env.timeout(tipoVehiculo[1][2])\n",
        "        # Indicamos que vehiculo ya se ha trasladado\n",
        "        print('Termina vehiculo: %s de trasladarse en la hora %.2f.' % (nombre, env.now))\n",
        "    \n",
        "def llegada_vehiculo(env, nombre, lavanderia, tipoVehiculo):\n",
        "    # Especificamos que vamos a usar un recurso (Resource) que representa\n",
        "    # la maquina de lavado\n",
        "    \n",
        "    with lavanderia.maquinas.request() as maquina:\n",
        "        # Ocupamos la maquina de lavado\n",
        "        yield maquina\n",
        "        lavanderia.entrada_Vehiculo(nombre,tipoVehiculo)\n",
        "        # Indicamos que vehiculo entra a la lavanderia\n",
        "        print('Entra vehiculo a lavarse: %s a la hora %.2f.' % (nombre, env.now))\n",
        "        # Procesamos la operacion de lavado\n",
        "        yield env.process(lavanderia.lavar_vehiculo(nombre, tipoVehiculo))\n",
        "        # Una vez que termina la llamada con 'yield', se indica que se ha lavado el vehiculo\n",
        "        print('Vehiculo [%s] lavado a las %.2f.' % (nombre, env.now))\n",
        "        # --> Agegamos al diccionario para obtener los tiempos de lavado\n",
        "        k=env.now # Permite obtener el tiempo actual de la simulación para generar la clave del diccionario\n",
        "\n",
        "    if k in tiempo:\n",
        "        tiempo[k]=tiempo[k]+1 # Aumento el numero de autos en el tiempo de salida\n",
        "    else:\n",
        "        tiempo[k]=1 # Por defecto empezamos con el primer vehiculo\n",
        "\n",
        "def ejecutar_simulacion(env, num_maquinas, tiempo_lavado, intervalo):\n",
        "    lavanderia=Lavanderia(env, num_maquinas)\n",
        "    # Creamos 5 llegadas de vehiculos iniciales\n",
        "    for i in range(5):\n",
        "        \n",
        "        vehiculo = random.choice(list(TIPOS_VEHICULOS.items())) \n",
        "        env.process(llegada_vehiculo(env, 'Vehiculo-%d'%(i+1),lavanderia, vehiculo))\n",
        "    \n",
        "    # Ejecutamos la simulacion\n",
        "    while True:\n",
        "        yield env.timeout(random.randint(intervalo-1, intervalo))\n",
        "        i+=1\n",
        "        # Mientras se lavan los vehiculos generamos mas vehiculos\n",
        "        vehiculo = random.choice(list(TIPOS_VEHICULOS.items())) \n",
        "        env.process(llegada_vehiculo(env,'Vehiculo-%d'%(i+1),lavanderia, vehiculo))\n",
        "\n"
      ],
      "metadata": {
        "id": "BPGjmZWwpRAd"
      },
      "execution_count": null,
      "outputs": []
    },
    {
      "cell_type": "markdown",
      "source": [
        "### Resultado "
      ],
      "metadata": {
        "id": "CSWLUYMQDavq"
      }
    },
    {
      "cell_type": "code",
      "source": [
        "# Maximo de vehiculos que puede recibir el negocio\n",
        "MAX_VEHICULOS = 57 \n",
        "# Total de maquinas de lavado con que cuenta el negocio\n",
        "NUM_MAQUINAS = 3\n",
        "# Tiempo que tarda en lavarse un vehiculo (minutos)\n",
        "TIEMPO_LAVADO = 7 \n",
        "# Intervalo de tiempo en que llegan vehiculos (minutos)\n",
        "INTERVALO_LLEGADA = 2\n",
        "# Tiempo de simulación\n",
        "TIEMPO_SIMULACION = 60\n",
        "#Tipos de Vehiculos\n",
        "TIPOS_VEHICULOS = {'Bus':[15, 20, 4], 'Automóvil':[7,10,1], 'Furgoneta':[12, 15, 2]}\n",
        "\n",
        "# Creamos un diccionario para almacenar las horas en que se lavan los vehiculos\n",
        "# Esto permite graficar o generar los resultados\n",
        "tiempo={}\n",
        "\n",
        "print('Lavanderia UPS')\n",
        "# Inicializamos la semilla aleatoria\n",
        "random.seed(77)\n",
        "\n",
        "# Creamos el entorno de simulacion\n",
        "env=simpy.Environment()\n",
        "env.process(ejecutar_simulacion(env, NUM_MAQUINAS, TIEMPO_LAVADO, INTERVALO_LLEGADA))\n",
        "\n",
        "# Ejecutamos el proceso durante el tiempo de simulacion\n",
        "env.run(until = TIEMPO_SIMULACION)\n",
        "\n",
        "tiempoCon3Maquinas = tiempo"
      ],
      "metadata": {
        "colab": {
          "base_uri": "https://localhost:8080/"
        },
        "id": "B4fVbZvSqTXK",
        "outputId": "1bfb838e-b76e-4ed4-d231-88ddc57e4330"
      },
      "execution_count": null,
      "outputs": [
        {
          "output_type": "stream",
          "name": "stdout",
          "text": [
            "Lavanderia UPS\n",
            "Entra vehiculo a lavarse: Vehiculo-1 a la hora 0.00.\n",
            "Entra vehiculo a lavarse: Vehiculo-2 a la hora 0.00.\n",
            "Entra vehiculo a lavarse: Vehiculo-3 a la hora 0.00.\n",
            "Removido  {50%} suciedad vehiculo => Vehiculo-1 \n",
            "Vehiculo [Vehiculo-1] lavado a las 9.00.\n",
            "Entra vehiculo a lavarse: Vehiculo-4 a la hora 9.00.\n",
            "Removido  {79%} suciedad vehiculo => Vehiculo-2 \n",
            "Vehiculo [Vehiculo-2] lavado a las 10.00.\n",
            "Entra vehiculo a lavarse: Vehiculo-5 a la hora 10.00.\n",
            "Removido  {84%} suciedad vehiculo => Vehiculo-3 \n",
            "Vehiculo [Vehiculo-3] lavado a las 19.00.\n",
            "Entra vehiculo a lavarse: Vehiculo-6 a la hora 19.00.\n",
            "Removido  {52%} suciedad vehiculo => Vehiculo-5 \n",
            "Vehiculo [Vehiculo-5] lavado a las 26.00.\n",
            "Entra vehiculo a lavarse: Vehiculo-7 a la hora 26.00.\n",
            "Removido  {44%} suciedad vehiculo => Vehiculo-4 \n",
            "Vehiculo [Vehiculo-4] lavado a las 28.00.\n",
            "Entra vehiculo a lavarse: Vehiculo-8 a la hora 28.00.\n",
            "Removido  {79%} suciedad vehiculo => Vehiculo-6 \n",
            "Vehiculo [Vehiculo-6] lavado a las 31.00.\n",
            "Entra vehiculo a lavarse: Vehiculo-9 a la hora 31.00.\n",
            "Removido  {46%} suciedad vehiculo => Vehiculo-8 \n",
            "Removido  {62%} suciedad vehiculo => Vehiculo-9 \n",
            "Vehiculo [Vehiculo-8] lavado a las 38.00.\n",
            "Vehiculo [Vehiculo-9] lavado a las 38.00.\n",
            "Entra vehiculo a lavarse: Vehiculo-10 a la hora 38.00.\n",
            "Entra vehiculo a lavarse: Vehiculo-11 a la hora 38.00.\n",
            "Removido  {31%} suciedad vehiculo => Vehiculo-7 \n",
            "Vehiculo [Vehiculo-7] lavado a las 44.00.\n",
            "Entra vehiculo a lavarse: Vehiculo-12 a la hora 44.00.\n",
            "Removido  {37%} suciedad vehiculo => Vehiculo-10 \n",
            "Vehiculo [Vehiculo-10] lavado a las 53.00.\n",
            "Entra vehiculo a lavarse: Vehiculo-13 a la hora 53.00.\n",
            "Removido  {40%} suciedad vehiculo => Vehiculo-11 \n",
            "Vehiculo [Vehiculo-11] lavado a las 58.00.\n",
            "Entra vehiculo a lavarse: Vehiculo-14 a la hora 58.00.\n"
          ]
        }
      ]
    },
    {
      "cell_type": "code",
      "source": [
        "# Maximo de vehiculos que puede recibir el negocio\n",
        "MAX_VEHICULOS = 57 \n",
        "# Total de maquinas de lavado con que cuenta el negocio\n",
        "NUM_MAQUINAS = 4\n",
        "# Tiempo que tarda en lavarse un vehiculo (minutos)\n",
        "TIEMPO_LAVADO = 7 \n",
        "# Intervalo de tiempo en que llegan vehiculos (minutos)\n",
        "INTERVALO_LLEGADA = 2\n",
        "# Tiempo de simulación\n",
        "TIEMPO_SIMULACION = 60\n",
        "#Tipos de Vehiculos\n",
        "TIPOS_VEHICULOS = {'Bus':[15, 20, 4], 'Automóvil':[7,10,1], 'Furgoneta':[12, 15, 2]}\n",
        "\n",
        "# Creamos un diccionario para almacenar las horas en que se lavan los vehiculos\n",
        "# Esto permite graficar o generar los resultados\n",
        "tiempo={}\n",
        "\n",
        "print('Lavanderia UPS')\n",
        "# Inicializamos la semilla aleatoria\n",
        "random.seed(77)\n",
        "\n",
        "# Creamos el entorno de simulacion\n",
        "env=simpy.Environment()\n",
        "env.process(ejecutar_simulacion(env, NUM_MAQUINAS, TIEMPO_LAVADO, INTERVALO_LLEGADA))\n",
        "\n",
        "# Ejecutamos el proceso durante el tiempo de simulacion\n",
        "env.run(until = TIEMPO_SIMULACION)\n",
        "\n",
        "tiempoCon4Maquina = tiempo"
      ],
      "metadata": {
        "colab": {
          "base_uri": "https://localhost:8080/"
        },
        "id": "4XWEy-DjDzmZ",
        "outputId": "84ddefef-df6b-432b-8845-4e28d12159f6"
      },
      "execution_count": null,
      "outputs": [
        {
          "output_type": "stream",
          "name": "stdout",
          "text": [
            "Lavanderia UPS\n",
            "Entra vehiculo a lavarse: Vehiculo-1 a la hora 0.00.\n",
            "Entra vehiculo a lavarse: Vehiculo-2 a la hora 0.00.\n",
            "Entra vehiculo a lavarse: Vehiculo-3 a la hora 0.00.\n",
            "Entra vehiculo a lavarse: Vehiculo-4 a la hora 0.00.\n",
            "Removido  {50%} suciedad vehiculo => Vehiculo-1 \n",
            "Vehiculo [Vehiculo-1] lavado a las 9.00.\n",
            "Entra vehiculo a lavarse: Vehiculo-5 a la hora 9.00.\n",
            "Removido  {79%} suciedad vehiculo => Vehiculo-2 \n",
            "Vehiculo [Vehiculo-2] lavado a las 10.00.\n",
            "Entra vehiculo a lavarse: Vehiculo-6 a la hora 10.00.\n",
            "Removido  {84%} suciedad vehiculo => Vehiculo-3 \n",
            "Removido  {35%} suciedad vehiculo => Vehiculo-4 \n",
            "Vehiculo [Vehiculo-3] lavado a las 19.00.\n",
            "Vehiculo [Vehiculo-4] lavado a las 19.00.\n",
            "Entra vehiculo a lavarse: Vehiculo-7 a la hora 19.00.\n",
            "Entra vehiculo a lavarse: Vehiculo-8 a la hora 19.00.\n",
            "Removido  {44%} suciedad vehiculo => Vehiculo-6 \n",
            "Vehiculo [Vehiculo-6] lavado a las 26.00.\n",
            "Entra vehiculo a lavarse: Vehiculo-9 a la hora 26.00.\n",
            "Removido  {77%} suciedad vehiculo => Vehiculo-5 \n",
            "Vehiculo [Vehiculo-5] lavado a las 28.00.\n",
            "Entra vehiculo a lavarse: Vehiculo-10 a la hora 28.00.\n",
            "Removido  {90%} suciedad vehiculo => Vehiculo-8 \n",
            "Vehiculo [Vehiculo-8] lavado a las 29.00.\n",
            "Entra vehiculo a lavarse: Vehiculo-11 a la hora 29.00.\n",
            "Removido  {70%} suciedad vehiculo => Vehiculo-7 \n",
            "Vehiculo [Vehiculo-7] lavado a las 31.00.\n",
            "Entra vehiculo a lavarse: Vehiculo-12 a la hora 31.00.\n",
            "Removido  {33%} suciedad vehiculo => Vehiculo-9 \n",
            "Vehiculo [Vehiculo-9] lavado a las 36.00.\n",
            "Entra vehiculo a lavarse: Vehiculo-13 a la hora 36.00.\n",
            "Removido  {88%} suciedad vehiculo => Vehiculo-10 \n",
            "Vehiculo [Vehiculo-10] lavado a las 43.00.\n",
            "Entra vehiculo a lavarse: Vehiculo-14 a la hora 43.00.\n",
            "Removido  {30%} suciedad vehiculo => Vehiculo-11 \n",
            "Vehiculo [Vehiculo-11] lavado a las 44.00.\n",
            "Entra vehiculo a lavarse: Vehiculo-15 a la hora 44.00.\n",
            "Removido  {78%} suciedad vehiculo => Vehiculo-12 \n",
            "Removido  {83%} suciedad vehiculo => Vehiculo-13 \n",
            "Vehiculo [Vehiculo-12] lavado a las 46.00.\n",
            "Vehiculo [Vehiculo-13] lavado a las 46.00.\n",
            "Entra vehiculo a lavarse: Vehiculo-16 a la hora 46.00.\n",
            "Entra vehiculo a lavarse: Vehiculo-17 a la hora 46.00.\n",
            "Removido  {66%} suciedad vehiculo => Vehiculo-17 \n",
            "Vehiculo [Vehiculo-17] lavado a las 58.00.\n",
            "Entra vehiculo a lavarse: Vehiculo-18 a la hora 58.00.\n",
            "Removido  {76%} suciedad vehiculo => Vehiculo-15 \n",
            "Vehiculo [Vehiculo-15] lavado a las 59.00.\n",
            "Entra vehiculo a lavarse: Vehiculo-19 a la hora 59.00.\n"
          ]
        }
      ]
    },
    {
      "cell_type": "markdown",
      "source": [
        "### Graficas"
      ],
      "metadata": {
        "id": "pL-ENYYoECUn"
      }
    },
    {
      "cell_type": "code",
      "source": [
        "# Generamos una grafica en base al diccionario del tiempo con 3 maquinas\n",
        "etiqueta = list(tiempoCon3Maquinas.keys())\n",
        "valores = list(tiempoCon3Maquinas.values())\n",
        "plt.bar(range(len(tiempoCon3Maquinas)), valores, align=\"center\", tick_label=etiqueta)\n",
        "plt.title(\"Tiempo/Salida Vehiculos con 3 Maquinas\")\n",
        "plt.xlabel(\"Tiempo\")\n",
        "plt.ylabel(\"Nro. Vehiculos\")\n",
        "plt.show()\n",
        "\n"
      ],
      "metadata": {
        "colab": {
          "base_uri": "https://localhost:8080/",
          "height": 295
        },
        "id": "1PGAAabQEA56",
        "outputId": "6408000c-806c-4ee5-8b43-e56e6ee2eee5"
      },
      "execution_count": null,
      "outputs": [
        {
          "output_type": "display_data",
          "data": {
            "text/plain": [
              "<Figure size 432x288 with 1 Axes>"
            ],
            "image/png": "[encoded data removed]"
          },
          "metadata": {
            "needs_background": "light"
          }
        }
      ]
    },
    {
      "cell_type": "code",
      "source": [
        "# Generamos una grafica en base al diccionario del tiempo con 3 maquinas\n",
        "etiqueta = list(tiempoCon4Maquina.keys())\n",
        "valores = list(tiempoCon4Maquina.values())\n",
        "plt.bar(range(len(tiempoCon4Maquina)), valores, align=\"center\", tick_label=etiqueta)\n",
        "plt.title(\"Tiempo/Salida Vehiculos con 4 Maquinas\")\n",
        "plt.xlabel(\"Tiempo\")\n",
        "plt.ylabel(\"Nro. Vehiculos\")\n",
        "plt.show()\n"
      ],
      "metadata": {
        "colab": {
          "base_uri": "https://localhost:8080/",
          "height": 295
        },
        "id": "oVvcjXKUW3Hy",
        "outputId": "61185466-20b5-47ca-db3c-133b2994d5ea"
      },
      "execution_count": null,
      "outputs": [
        {
          "output_type": "display_data",
          "data": {
            "text/plain": [
              "<Figure size 432x288 with 1 Axes>"
            ],
            "image/png": "[encoded data removed]"
          },
          "metadata": {
            "needs_background": "light"
          }
        }
      ]
    }
  ]
}