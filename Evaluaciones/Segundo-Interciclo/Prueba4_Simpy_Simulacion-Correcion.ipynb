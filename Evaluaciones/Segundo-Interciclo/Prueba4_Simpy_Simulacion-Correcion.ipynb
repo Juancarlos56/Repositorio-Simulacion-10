{
  "nbformat": 4,
  "nbformat_minor": 0,
  "metadata": {
    "colab": {
      "name": "Prueba4_Simpy_Simulacion.ipynb",
      "provenance": [],
      "collapsed_sections": [],
      "authorship_tag": "ABX9TyOOKgXdgkY1pjaGKQqxaUQX",
      "include_colab_link": true
    },
    "kernelspec": {
      "name": "python3",
      "display_name": "Python 3"
    },
    "language_info": {
      "name": "python"
    }
  },
  "cells": [
    {
      "cell_type": "markdown",
      "metadata": {
        "id": "view-in-github",
        "colab_type": "text"
      },
      "source": [
        "<a href=\"https://colab.research.google.com/github/Juancarlos56/Repositorio-Simulacion-10/blob/main/Evaluaciones/Segundo-Interciclo/Prueba4_Simpy_Simulacion-Correcion.ipynb\" target=\"_parent\"><img src=\"https://colab.research.google.com/assets/colab-badge.svg\" alt=\"Open In Colab\"/></a>"
      ]
    },
    {
      "cell_type": "code",
      "source": [
        "!pip install simpy"
      ],
      "metadata": {
        "colab": {
          "base_uri": "https://localhost:8080/"
        },
        "id": "3X1jXbLyvExm",
        "outputId": "50cf14b3-5fbc-4ea6-d4b6-9478c4717a4f"
      },
      "execution_count": 2,
      "outputs": [
        {
          "output_type": "stream",
          "name": "stdout",
          "text": [
            "Looking in indexes: https://pypi.org/simple, https://us-python.pkg.dev/colab-wheels/public/simple/\n",
            "Collecting simpy\n",
            "  Downloading simpy-4.0.1-py2.py3-none-any.whl (29 kB)\n",
            "Installing collected packages: simpy\n",
            "Successfully installed simpy-4.0.1\n"
          ]
        }
      ]
    },
    {
      "cell_type": "markdown",
      "source": [
        "### Distribucion de Probabilidad"
      ],
      "metadata": {
        "id": "RKf2fyePER6_"
      }
    },
    {
      "cell_type": "code",
      "source": [
        "import simpy\n",
        "import random\n",
        "import matplotlib.pyplot as plt\n",
        "from numpy import random as nprandom\n",
        "\n",
        "#Distribucion Binomial\n",
        "def tipoVehiculo():\n",
        "    return nprandom.binomial(n=1, p=0.15, size=10)\n",
        "\n",
        "#Distribucion Binomial\n",
        "def tipoVehiculoParaRevision():\n",
        "    return nprandom.binomial(n=1, p=0.15, size=1)\n",
        "\n",
        "#Distribucion Binomial\n",
        "def pasoRevisionVehiculo():\n",
        "    return nprandom.binomial(n=1, p=0.6, size=1)\n",
        "\n",
        "#Distribucion normal\n",
        "def entrada_a_revision():\n",
        "    return abs(random.normalvariate(20, 10))"
      ],
      "metadata": {
        "id": "7ekOlHYduzke"
      },
      "execution_count": 3,
      "outputs": []
    },
    {
      "cell_type": "code",
      "source": [
        "nprandom.binomial(n=1, p=0.15, size=10)"
      ],
      "metadata": {
        "colab": {
          "base_uri": "https://localhost:8080/"
        },
        "id": "p2zL2yfVFnQv",
        "outputId": "b97a7160-3bca-423f-b4ad-877fe72354b1"
      },
      "execution_count": null,
      "outputs": [
        {
          "output_type": "execute_result",
          "data": {
            "text/plain": [
              "array([0, 0, 0, 1, 0, 0, 0, 0, 0, 0])"
            ]
          },
          "metadata": {},
          "execution_count": 52
        }
      ]
    },
    {
      "cell_type": "code",
      "source": [
        ""
      ],
      "metadata": {
        "id": "osd__Pxj3tEL"
      },
      "execution_count": null,
      "outputs": []
    },
    {
      "cell_type": "markdown",
      "source": [
        "### Simulación Eventos Discretos"
      ],
      "metadata": {
        "id": "ovlSJHdOEXNO"
      }
    },
    {
      "cell_type": "code",
      "execution_count": 35,
      "metadata": {
        "id": "c_MSZO1wtfDq"
      },
      "outputs": [],
      "source": [
        "import simpy\n",
        "import random\n",
        "import matplotlib.pyplot as plt\n",
        "import math\n",
        "\n",
        "# Maximo de vehiculos que puede recibir el negocio\n",
        "MAX_VEHICULOS = 57 \n",
        "# Total de maquinas de lavado con que cuenta el negocio\n",
        "NUM_Carriles = 3\n",
        "# Tiempo que tarda en en llegada del vehiculo(minutos)\n",
        "TIEMPO_Revision = 9 \n",
        "# Intervalo de tiempo en que llegan vehiculos (minutos)\n",
        "INTERVALO_LLEGADA = 3\n",
        "# Tiempo de simulación\n",
        "TIEMPO_SIMULACION = 1440*30\n",
        "#Tipos de Vehiculos\n",
        "TIPOS_VEHICULOS = ['BUS','BUSETAS', 'CAMIONES']\n",
        "\n",
        "# Creamos un diccionario para almacenar las horas en que se lavan los vehiculos\n",
        "# Esto permite graficar o generar los resultados\n",
        "tiempo={}\n",
        "tiempo={}\n",
        "listaAutosAprobados = {}\n",
        "listaAutosReparacion = {}\n",
        "listaAutosAprobadosGraficas = {}\n",
        "listaAutosReparacionGraficas = {}\n",
        "listadoAutosPorCarril1_Tonelaje = [] \n",
        "listadoAutosPorCarril2_normal = [] \n",
        "listadoAutosPorCarril3_normal = [] \n",
        "\n",
        "class EMOV(object):\n",
        "    \n",
        "    def __init__(self, environment, numeroCarrile):\n",
        "        # Guardamos como variable el entorno de ejecucion\n",
        "        self.env=environment\n",
        "        # Creamos el recurso que representa las carriles\n",
        "        self.carrilesLivianos = simpy.Resource(environment, numeroCarrile)\n",
        "        self.carrilesPesados = simpy.Resource(environment, numeroCarrile-2)\n",
        "    \n",
        "    def salidaEMOV(self):\n",
        "      yield self.env.timeout(random.randint(5,10))\n",
        "\n",
        "    def pegar_sello_revision(self):\n",
        "      yield self.env.timeout(random.randint(1,3))\n",
        "\n",
        "    def realizarReparacion(self):\n",
        "        yield self.env.timeout(1440*2)\n",
        "\n",
        "    def revision_vehiculo(self, nombre, tipoVehiculo):\n",
        "        yield self.env.timeout(entrada_a_revision())\n",
        "\n",
        "    def llegadaVehiculo_estacionamiento(self, nombre, tipoVehiculo):\n",
        "        yield self.env.timeout(random.randint(3,5))\n",
        "\n",
        "    def llegdaVehiculo_sacaTurno(self, nombre, tipoVehiculo):\n",
        "        yield self.env.timeout(random.randint(1,3))\n",
        "\n",
        "    def llegdaVehiculo_pagoMatricula(self, nombre, tipoVehiculo):\n",
        "        yield self.env.timeout(random.randint(5,10))\n",
        "\n",
        "def pasoRevision(env, nombre, tipoVehiculo):\n",
        "    global listaAutosAprobados\n",
        "    global listaAutosReparacion\n",
        "    global listaAutosAprobadosGraficas\n",
        "    global listaAutosReparacionGraficas\n",
        "    global listadoAutosPorCarril1_Tonelaje\n",
        "    global listadoAutosPorCarril2_normal\n",
        "    global listadoAutosPorCarril3_normal\n",
        "\n",
        "    revision = pasoRevisionVehiculo()\n",
        "    ## 0 pasa la revision y 1 no pasa\n",
        "    if(revision == 0):  \n",
        "      listaAutosAprobados[nombre]=[tipoVehiculo, math.trunc(round(env.now)/1440)]\n",
        "      listaAutosAprobadosGraficas[nombre]=[tipoVehiculo, math.trunc(round(env.now)/1440)]\n",
        "\n",
        "    elif(revision == 1): \n",
        "      listaAutosReparacion[nombre]=[tipoVehiculo, math.trunc(round(env.now)/1440)+2]\n",
        "      listaAutosReparacionGraficas[nombre]=[tipoVehiculo, math.trunc(round(env.now)/1440)+2]\n",
        "\n",
        "def llegada_vehiculo(env, nombre, emov, tipoVehiculo):\n",
        "    # Especificamos que vamos a usar un recurso (Resource) que representa el vehiculo\n",
        "    \n",
        "\n",
        "    if tipoVehiculo is not 'Normal':\n",
        "      with emov.carrilesPesados.request() as carrilesPesados:\n",
        "          yield carrilesPesados\n",
        "          #print(\"LLegada del vehiculo %s a las %.2f.\"%(nombre, env.now))\n",
        "          yield env.process(emov.llegadaVehiculo_estacionamiento(nombre,tipoVehiculo))\n",
        "          yield env.process(emov.llegdaVehiculo_sacaTurno(nombre,tipoVehiculo))\n",
        "          yield env.process(emov.llegdaVehiculo_pagoMatricula(nombre,tipoVehiculo))\n",
        "          #print(\"Termina proceso de llegada del vehiculo %s a la hora: %.2f.\" %(nombre, env.now))\n",
        "          \n",
        "          yield env.process(emov.revision_vehiculo(nombre, tipoVehiculo))\n",
        "          pasoRevision(env, nombre, tipoVehiculo)\n",
        "          yield env.process(emov.pegar_sello_revision())\n",
        "          yield env.process(emov.salidaEMOV())\n",
        "          listadoAutosPorCarril1_Tonelaje.append(1)\n",
        "          k=math.trunc(round(env.now)/1440) # Permite obtener el tiempo actual de la simulación para generar la clave del diccionario\n",
        "\n",
        "    else:\n",
        "       with emov.carrilesLivianos.request() as carrilesLivianos:\n",
        "          yield carrilesLivianos\n",
        "          #print(\"LLegada del vehiculo %s a las %.2f.\"%(nombre, env.now))\n",
        "          yield env.process(emov.llegadaVehiculo_estacionamiento(nombre,tipoVehiculo))\n",
        "          yield env.process(emov.llegdaVehiculo_sacaTurno(nombre,tipoVehiculo))\n",
        "          yield env.process(emov.llegdaVehiculo_pagoMatricula(nombre,tipoVehiculo))\n",
        "          #print(\"Termina proceso de llegada del vehiculo %s a la hora: %.2f.\" %(nombre, env.now))\n",
        "          yield env.process(emov.revision_vehiculo(nombre, tipoVehiculo))\n",
        "          pasoRevision(env, nombre, tipoVehiculo)\n",
        "          yield env.process(emov.pegar_sello_revision())\n",
        "          yield env.process(emov.salidaEMOV())\n",
        "          listadoAutosPorCarril2_normal.append(1)\n",
        "          k=math.trunc(round(env.now)/1440) # Permite obtener el tiempo actual de la simulación para generar la clave del diccionario\n",
        "\n",
        "    if k in tiempo:\n",
        "        tiempo[k]=tiempo[k]+1 # Aumento el numero de autos en el tiempo de salida\n",
        "    else:\n",
        "        tiempo[k]=1 # Por defecto empezamos con el primer vehiculo\n",
        "\n",
        "def ejecutar_simulacion(env, numeroCarriles, tiempoMinimoRevesion, intervaloLlegada):\n",
        "    global listaAutosReparacion\n",
        "\n",
        "    emov=EMOV(env, numeroCarriles)\n",
        "    # Creamos 5 llegadas de vehiculos iniciales\n",
        "    for i in range(5):\n",
        "        tipoVehiculo = tipoVehiculoParaRevision()\n",
        "        if(tipoVehiculo == 1):\n",
        "          vehiculo = TIPOS_VEHICULOS[random.randint(0,2)]\n",
        "        elif(tipoVehiculo == 0):\n",
        "          vehiculo = 'Normal' \n",
        "\n",
        "        env.process(llegada_vehiculo(env, 'Vehiculo-%d'%(i+1),emov, vehiculo))\n",
        "    \n",
        "    # Ejecutamos la simulacion\n",
        "    cont = 0\n",
        "    while True:\n",
        "      yield env.timeout(3)\n",
        "      dia = math.trunc(round(env.now)/1440)\n",
        "      \n",
        "      ##Verificar que sea para cada dos dias \n",
        "      for key in listaAutosReparacion.copy():\n",
        "        if(listaAutosReparacion[key][1] == dia):\n",
        "          env.process(llegada_vehiculo(env,key,emov, listaAutosReparacion[key]))\n",
        "          del listaAutosReparacion[key]\n",
        "          yield env.timeout(3)\n",
        "          break;\n",
        "      i+=1\n",
        "      # Mientras se REVISAN los vehiculos generamos mas vehiculos\n",
        "      tipoVehiculo = tipoVehiculoParaRevision()\n",
        "      if(tipoVehiculo == 1):\n",
        "        vehiculo = TIPOS_VEHICULOS[random.randint(0,2)]\n",
        "      elif(tipoVehiculo == 0):\n",
        "        vehiculo = 'Normal' \n",
        "      env.process(llegada_vehiculo(env,'Vehiculo-%d'%(i+1),emov, vehiculo))\n",
        "    "
      ]
    },
    {
      "cell_type": "code",
      "source": [
        "\n",
        "print('EMOV - Juan Barrera')\n",
        "# Inicializamos la semilla aleatoria\n",
        "random.seed(77)\n",
        "\n",
        "# Creamos el entorno de simulacion\n",
        "env=simpy.Environment()\n",
        "env.process(ejecutar_simulacion(env, NUM_Carriles, TIEMPO_Revision, INTERVALO_LLEGADA))\n",
        "\n",
        "# Ejecutamos el proceso durante el tiempo de simulacion\n",
        "env.run(until = TIEMPO_SIMULACION)\n",
        "\n",
        "tiempoCon3Maquinas = tiempo"
      ],
      "metadata": {
        "colab": {
          "base_uri": "https://localhost:8080/"
        },
        "id": "NXnSamO9uMEC",
        "outputId": "89b2aa13-31a7-44bc-d467-df1ffbfd5586"
      },
      "execution_count": 36,
      "outputs": [
        {
          "output_type": "stream",
          "name": "stdout",
          "text": [
            "EMOV - Juan Barrera\n"
          ]
        }
      ]
    },
    {
      "cell_type": "markdown",
      "source": [
        "### Generar un modelo de simulación por 30 dias y generar las siguientes graficas de resultados:\n"
      ],
      "metadata": {
        "id": "MUmZQZVMEbx9"
      }
    },
    {
      "cell_type": "markdown",
      "source": [
        "#### Numero de vehiculos atendidos por dia, y por carril"
      ],
      "metadata": {
        "id": "fyNQHsLZXz9k"
      }
    },
    {
      "cell_type": "code",
      "source": [
        "print(\"lista por carril 1: \", len(listadoAutosPorCarril1_Tonelaje))"
      ],
      "metadata": {
        "id": "PoahKEYlX1R7",
        "colab": {
          "base_uri": "https://localhost:8080/"
        },
        "outputId": "0d071f9e-2afd-4487-defc-e84d89e8ca6d"
      },
      "execution_count": 16,
      "outputs": [
        {
          "output_type": "stream",
          "name": "stdout",
          "text": [
            "lista por carril 1:  1006\n"
          ]
        }
      ]
    },
    {
      "cell_type": "code",
      "source": [
        "print(\"lista por carril 2-3: \", len(listadoAutosPorCarril2_normal))"
      ],
      "metadata": {
        "colab": {
          "base_uri": "https://localhost:8080/"
        },
        "id": "HncEI20uN-u4",
        "outputId": "daf51b10-b0c1-40dd-9ad3-93b7453f5bb4"
      },
      "execution_count": 17,
      "outputs": [
        {
          "output_type": "stream",
          "name": "stdout",
          "text": [
            "lista por carril 2-3:  3015\n"
          ]
        }
      ]
    },
    {
      "cell_type": "code",
      "source": [
        "\n",
        "nombres = [\"carril 1\",\"carril  2-3\"]\n",
        "plt.pie([1006, 3015], labels=nombres,autopct='%1.2f%%')\n",
        "plt.show()\n"
      ],
      "metadata": {
        "colab": {
          "base_uri": "https://localhost:8080/",
          "height": 248
        },
        "id": "G2k4mVswOSf9",
        "outputId": "7fa9633d-f588-425d-ff40-4c95f2dba9bc"
      },
      "execution_count": 26,
      "outputs": [
        {
          "output_type": "display_data",
          "data": {
            "text/plain": [
              "<Figure size 432x288 with 1 Axes>"
            ],
            "image/png": "[encoded data removed]"
          },
          "metadata": {}
        }
      ]
    },
    {
      "cell_type": "markdown",
      "source": [
        "#### Porcentaje total de vehiculos aprobados y no aprobados en cuenca aire por dia"
      ],
      "metadata": {
        "id": "wNWYwMJOX4Zt"
      }
    },
    {
      "cell_type": "code",
      "source": [
        "print(\"Autos Aprobados: \", len(listaAutosAprobadosGraficas))"
      ],
      "metadata": {
        "id": "67Nyu-8FX17b",
        "colab": {
          "base_uri": "https://localhost:8080/"
        },
        "outputId": "3260a62c-c844-4347-c28c-8ae30b39ffc5"
      },
      "execution_count": 18,
      "outputs": [
        {
          "output_type": "stream",
          "name": "stdout",
          "text": [
            "Autos Aprobados:  1587\n"
          ]
        }
      ]
    },
    {
      "cell_type": "code",
      "source": [
        "print(\"Autos Reparacion: \", len(listaAutosReparacionGraficas))"
      ],
      "metadata": {
        "colab": {
          "base_uri": "https://localhost:8080/"
        },
        "id": "OJEmDXVaMOQV",
        "outputId": "aad082aa-ede7-4010-9466-a536d088b552"
      },
      "execution_count": 19,
      "outputs": [
        {
          "output_type": "stream",
          "name": "stdout",
          "text": [
            "Autos Reparacion:  2130\n"
          ]
        }
      ]
    },
    {
      "cell_type": "code",
      "source": [
        "print(\"total: \",str(len(listaAutosAprobadosGraficas)+len(listaAutosReparacionGraficas)))"
      ],
      "metadata": {
        "colab": {
          "base_uri": "https://localhost:8080/"
        },
        "id": "yUykfIgBMbX0",
        "outputId": "1083d331-4008-4e7c-d651-477a81f61d5b"
      },
      "execution_count": 12,
      "outputs": [
        {
          "output_type": "stream",
          "name": "stdout",
          "text": [
            "total:  3716\n"
          ]
        }
      ]
    },
    {
      "cell_type": "code",
      "source": [
        "nombres = [\"Aprobados 1\",\"reparacion\"]\n",
        "plt.pie([1587, 2130], labels=nombres,autopct='%1.2f%%')\n",
        "plt.show()"
      ],
      "metadata": {
        "colab": {
          "base_uri": "https://localhost:8080/",
          "height": 248
        },
        "id": "kczoLnzAP4st",
        "outputId": "0105edf5-b9b9-4ece-c263-b3cdf66f3453"
      },
      "execution_count": 27,
      "outputs": [
        {
          "output_type": "display_data",
          "data": {
            "text/plain": [
              "<Figure size 432x288 with 1 Axes>"
            ],
            "image/png": "[encoded data removed]"
          },
          "metadata": {}
        }
      ]
    },
    {
      "cell_type": "markdown",
      "source": [
        "#### Tiempos del proceso de matriculación, por dia."
      ],
      "metadata": {
        "id": "O05oggoRX7nd"
      }
    },
    {
      "cell_type": "code",
      "source": [
        "\n",
        "etiqueta = list(tiempo.keys())\n",
        "valores = list(tiempo.values())\n",
        "plt.figure(figsize=(17,6), )\n",
        "plt.bar(range(len(tiempo)), valores, align=\"center\", tick_label=etiqueta)\n",
        "plt.title(\"Tiempo total de atencion Vehiculos en total por dia\")\n",
        "plt.xlabel(\"Dia\")\n",
        "plt.ylabel(\"Tiempo en minutos\")\n",
        "plt.show()"
      ],
      "metadata": {
        "colab": {
          "base_uri": "https://localhost:8080/",
          "height": 404
        },
        "id": "unqnhiXoDrjG",
        "outputId": "fc94bd7f-7b4c-42fa-9371-eb3541737d55"
      },
      "execution_count": 34,
      "outputs": [
        {
          "output_type": "display_data",
          "data": {
            "text/plain": [
              "<Figure size 1224x432 with 1 Axes>"
            ],
            "image/png": "[encoded data removed]"
          },
          "metadata": {
            "needs_background": "light"
          }
        }
      ]
    }
  ]
}