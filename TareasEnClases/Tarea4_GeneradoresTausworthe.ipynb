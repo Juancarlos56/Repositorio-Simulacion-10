{
  "nbformat": 4,
  "nbformat_minor": 0,
  "metadata": {
    "colab": {
      "name": "Tarea4_GeneradoresTausworthe.ipynb",
      "provenance": [],
      "collapsed_sections": [],
      "authorship_tag": "ABX9TyNzchJTOROd+812abLU5ldO",
      "include_colab_link": true
    },
    "kernelspec": {
      "name": "python3",
      "display_name": "Python 3"
    },
    "language_info": {
      "name": "python"
    }
  },
  "cells": [
    {
      "cell_type": "markdown",
      "metadata": {
        "id": "view-in-github",
        "colab_type": "text"
      },
      "source": [
        "<a href=\"https://colab.research.google.com/github/Juancarlos56/Repositorio-Simulacion-10/blob/main/TareasEnClases/Tarea4_GeneradoresTausworthe.ipynb\" target=\"_parent\"><img src=\"https://colab.research.google.com/assets/colab-badge.svg\" alt=\"Open In Colab\"/></a>"
      ]
    },
    {
      "cell_type": "markdown",
      "source": [
        "# Generadores Tausworthe \n",
        "\n",
        "### Desarrollado por: Juan Carlos Barrera Barrera\n",
        "\n",
        "- Implementación en Python"
      ],
      "metadata": {
        "id": "h5yvd64krbFR"
      }
    },
    {
      "cell_type": "code",
      "execution_count": 41,
      "metadata": {
        "colab": {
          "base_uri": "https://localhost:8080/"
        },
        "id": "clR2J5DJbEXi",
        "outputId": "85165618-7092-41d3-b2b0-509bdf073897"
      },
      "outputs": [
        {
          "output_type": "stream",
          "name": "stdout",
          "text": [
            "Por favor ingrese su el valor de r: \n",
            "3\n",
            "Por favor ingrese su el valor de q: \n",
            "2\n",
            "\n",
            " Condicion: r y q deben cumplir 0 < r < q. \n",
            "\n",
            "Por favor ingrese su el valor de r: \n",
            "3\n",
            "Por favor ingrese su el valor de q: \n",
            "5\n",
            "Cuantos numeros aleatorios desea: \n",
            "32\n",
            "\n",
            "Matriz de Numeros Binarios\n",
            "[1, 1, 1, 1, 1, 0, 0, 0, 1, 1, 0, 1, 1, 1, 0, 1, 0, 1, 0, 0, 0, 0, 1, 0, 0, 1, 0, 1, 1, 0, 0, 1]\n",
            "\n",
            "Por favor ingrese su el valor de l: \n",
            "4\n",
            "\n",
            "Numero de agrupaciones:  8\n",
            "[0.94, 0.5, 0.81, 0.81, 0.25, 0.12, 0.31, 0.56]\n"
          ]
        }
      ],
      "source": [
        "\n",
        "\n",
        "## Condicion \n",
        "condicion = False\n",
        "while(condicion == False): \n",
        "  print(\"Por favor ingrese su el valor de r: \")\n",
        "  valor_r = int(input())\n",
        "  print(\"Por favor ingrese su el valor de q: \")\n",
        "  valor_q = int(input())\n",
        "\n",
        "  if (0 < valor_r) and (valor_r < valor_q) :\n",
        "    condicion = True\n",
        "  else:\n",
        "    print(\"\\n Condicion: r y q deben cumplir 0 < r < q. \\n\")  \n",
        "\n",
        "\n",
        "\n",
        "print(\"Cuantos numeros aleatorios desea: \")\n",
        "valor_nm = int(input()) \n",
        "\n",
        "listaNumerosBinarios = []\n",
        "\n",
        "##Creacion de valores binarios con formula bi = (bi-r + bi-q) mod 2\n",
        "for i in range(0,valor_nm):\n",
        "  if(i<valor_q):\n",
        "    listaNumerosBinarios.append(1)\n",
        "  else: \n",
        "    listaNumerosBinarios.append((listaNumerosBinarios[i-valor_r]+listaNumerosBinarios[i-valor_q]) % 2)\n",
        "print(\"\\nMatriz de Numeros Binarios\")\n",
        "print(listaNumerosBinarios)\n",
        "\n",
        "\n",
        "##Agrupar para conversion \n",
        "print(\"\\nPor favor ingrese su el valor de l: \")\n",
        "valor_l = int(input())\n",
        "valor_agrupaciones = int(valor_nm/valor_l)\n",
        "print(\"\\nNumero de agrupaciones: \",valor_agrupaciones)\n",
        "\n",
        "posicion = 0 \n",
        "aux = valor_l\n",
        "cont = 0\n",
        "listaValoresNumericos = []\n",
        "\n",
        "for j in range(0,valor_agrupaciones):\n",
        "  sublista =listaNumerosBinarios[cont:aux] \n",
        "  binario_To_Decimal = 0\n",
        "  cont2 = 0\n",
        "  for k in range(len(sublista)-1,-1,-1):\n",
        "    if(sublista[cont2]==1): \n",
        "      binario_To_Decimal = 2**(k) + binario_To_Decimal\n",
        "    cont2 = cont2 + 1\n",
        "  listaValoresNumericos.append(round((binario_To_Decimal / (2**valor_l)),2))\n",
        "  cont = cont + valor_l\n",
        "  aux = aux + valor_l\n",
        "\n",
        "3\n",
        "print(listaValoresNumericos)"
      ]
    }
  ]
}