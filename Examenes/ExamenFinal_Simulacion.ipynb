{
  "nbformat": 4,
  "nbformat_minor": 0,
  "metadata": {
    "colab": {
      "name": "ExamenFinal-Simulacion.ipynb",
      "provenance": [],
      "collapsed_sections": [],
      "authorship_tag": "ABX9TyPyP/9K8AzLlT3NMlaJMC3v",
      "include_colab_link": true
    },
    "kernelspec": {
      "name": "python3",
      "display_name": "Python 3"
    },
    "language_info": {
      "name": "python"
    }
  },
  "cells": [
    {
      "cell_type": "markdown",
      "metadata": {
        "id": "view-in-github",
        "colab_type": "text"
      },
      "source": [
        "<a href=\"https://colab.research.google.com/github/Juancarlos56/Repositorio-Simulacion-10/blob/main/Examenes/ExamenFinal_Simulacion.ipynb\" target=\"_parent\"><img src=\"https://colab.research.google.com/assets/colab-badge.svg\" alt=\"Open In Colab\"/></a>"
      ]
    },
    {
      "cell_type": "markdown",
      "source": [
        "## Examen Simulación\n",
        "### Realizado por: Juan Carlos Barrera Barrera"
      ],
      "metadata": {
        "id": "J1sYBzOgDQAd"
      }
    },
    {
      "cell_type": "markdown",
      "source": [
        "- Investigar los lugares de mayor afluencia dentro del Ecuador minimo 6.\n",
        "- El número de la flota de buses son 5, con una capacidad de 40 pasajeros cada uno.\n",
        "- Generar personas, un nombre, el género(Bernoulli), y la edad adultos (Poison)\n",
        "aleatoriamente.\n",
        "- Un usuario realiza la compra de un boleto desde un lugar de origen a un destino y\n",
        "puede comprar de 1 a 6 tickets.\n",
        "- Es escoge aleatoriamente el origen y el destino con mayores pesos de selección lo\n",
        "de mayor afluencia.\n",
        "- Se agrega el tiempo de la compra la misma que tiene una distribución de\n",
        "probabilidad normal con media de 10 minutos y desviación estándar de 2 minutos.\n",
        "- El bus sale cada hora, este o no lleno, una vez que el bus sale no pueden subir, hasta\n",
        "que llegue a la parada, regresa el bus el mismo tiempo que se demora en llegar al\n",
        "destino, generar el tiempo de viaje utilizando una distribución de 6 horas y\n",
        "desviacion estandar de 4 horas.\n",
        "#### Agregar graficas/reportes\n",
        "- Venta de tickets.\n",
        "- Personas que se quedaron sin comprar tickets\n",
        "- Lugares de origen y destino más visitados.\n",
        "- Numero de buses y el uso del mismo diarios"
      ],
      "metadata": {
        "id": "24TxukE4Envp"
      }
    },
    {
      "cell_type": "markdown",
      "source": [
        "## Investigar los lugares de mayor afluencia dentro del Ecuador minimo 6."
      ],
      "metadata": {
        "id": "y3dL_ra2E1Yw"
      }
    },
    {
      "cell_type": "markdown",
      "source": [
        "1. Quito\n",
        "2. Guayaquil\n",
        "3. Playas de Montañita\n",
        "4. Baños de Agua Santa\n",
        "5. Islas Galapagos\n",
        "6. Cuenca\n"
      ],
      "metadata": {
        "id": "B2dU2pPNFIiu"
      }
    },
    {
      "cell_type": "code",
      "execution_count": null,
      "metadata": {
        "id": "Jny5F5LMEgTc"
      },
      "outputs": [],
      "source": [
        "listaLugaresTuristicos = [\"Quito\",\"Guayaquil\",\"Montañita\",\"Baños de Agua Santa\",\"Cuenca\", \"Puyo\"]"
      ]
    },
    {
      "cell_type": "code",
      "source": [
        "listaOrigen = [\"Quito\",\"Guayaquil\",\"Cuenca\",\"Ambato\",\"Manta\",\"Machala\"]"
      ],
      "metadata": {
        "id": "pRFr7GPLLo8v"
      },
      "execution_count": null,
      "outputs": []
    },
    {
      "cell_type": "code",
      "source": [
        "from scipy.stats import bernoulli\n",
        "p = 0.5\n",
        "r = bernoulli.rvs(p, size=10)\n",
        "print(r)"
      ],
      "metadata": {
        "colab": {
          "base_uri": "https://localhost:8080/"
        },
        "id": "aA9jNDpJHFtV",
        "outputId": "257193b7-7133-4aa4-d9f8-44537c5e9cf5"
      },
      "execution_count": null,
      "outputs": [
        {
          "output_type": "stream",
          "name": "stdout",
          "text": [
            "[1 1 0 1 0 0 1 1 0 1]\n"
          ]
        }
      ]
    },
    {
      "cell_type": "code",
      "source": [
        "from scipy.stats import poisson\n",
        "mu = 25\n",
        "r = poisson.rvs(mu, size=10)\n",
        "print(r)"
      ],
      "metadata": {
        "colab": {
          "base_uri": "https://localhost:8080/"
        },
        "id": "MuV1iwAoHxCc",
        "outputId": "a049a9d7-e203-4392-b17f-d278eb337cfa"
      },
      "execution_count": null,
      "outputs": [
        {
          "output_type": "stream",
          "name": "stdout",
          "text": [
            "[22 18 21 26 22 26 23 23 34 15]\n"
          ]
        }
      ]
    },
    {
      "cell_type": "code",
      "source": [
        "!pip install simpy"
      ],
      "metadata": {
        "colab": {
          "base_uri": "https://localhost:8080/"
        },
        "id": "e_Gk_fDZIuIr",
        "outputId": "1bebc8b3-9407-4d80-a346-1b5fe1aa9f4f"
      },
      "execution_count": null,
      "outputs": [
        {
          "output_type": "stream",
          "name": "stdout",
          "text": [
            "Looking in indexes: https://pypi.org/simple, https://us-python.pkg.dev/colab-wheels/public/simple/\n",
            "Collecting simpy\n",
            "  Downloading simpy-4.0.1-py2.py3-none-any.whl (29 kB)\n",
            "Installing collected packages: simpy\n",
            "Successfully installed simpy-4.0.1\n"
          ]
        }
      ]
    },
    {
      "cell_type": "markdown",
      "source": [
        "### Codificación"
      ],
      "metadata": {
        "id": "L-kzi_1S-keW"
      }
    },
    {
      "cell_type": "code",
      "source": [
        "from scipy.stats import bernoulli\n",
        "from scipy.stats import poisson\n",
        "import random\n",
        "import math \n",
        "\n",
        "#Generar personas, un nombre, el género(Bernoulli), y la edad adultos (Poison) aleatoriamente.\n",
        "def obtenerGenero():\n",
        "  #1 Si es hombre, 0 es mujer\n",
        "  p = 0.5\n",
        "  return bernoulli.rvs(p, size=1)\n",
        "\n",
        "def edadAdultos():\n",
        "  mu = 25\n",
        "  return poisson.rvs(mu, size=1)\n",
        "\n",
        "def tiempoTransporteBus():\n",
        "  ## generar el tiempo de viaje utilizando una distribución de 6 horas y desviacion estandar de 4 horas.\n",
        "  ##Trabajando en Minutos\n",
        "  return abs(random.normalvariate(6*60, 4*60))\n",
        "\n",
        "def compraBoletos():\n",
        "  ##Un usuario realiza la compra de un boleto desde un lugar de origen a un destino y puede comprar de 1 a 6 tickets.\n",
        "  num_boletos = random.randint(1, 6)\n",
        "  return num_boletos\n",
        "\n",
        "def escogerDestino():\n",
        "  #Escoge aleatoriamente el origen y el destino con mayores pesos de selección lo de mayor afluencia.\n",
        "  probabilidadDestino=[0.3, 0.2, 0.2, 0.15, 0.10, 0.05]\n",
        "  lugar = random.choices(listaLugaresTuristicos, probabilidadDestino, k=1)\n",
        "  return ''.join(lugar)\n",
        "\n",
        "def escogerOrigen():\n",
        "  #Escoge aleatoriamente el origen y el destino con mayores pesos de selección lo de mayor afluencia.\n",
        "  probabilidadDestino=[0.3, 0.2, 0.2, 0.15, 0.10, 0.05]\n",
        "  lugar = random.choices(listaOrigen, probabilidadDestino, k=1)\n",
        "  return ''.join(lugar)\n",
        "\n",
        "def tiempocompraBoleto():\n",
        "  #Se agrega el tiempo de la compra la misma que tiene una distribución de\n",
        "  #probabilidad normal con media de 10 minutos y desviación estándar de 2 minutos.\n",
        "  return abs(random.normalvariate(10, 2))"
      ],
      "metadata": {
        "id": "SFMUJlSTGP1N"
      },
      "execution_count": null,
      "outputs": []
    },
    {
      "cell_type": "code",
      "source": [
        "##Tiempo de espera compra boletos\n",
        "def compraBoletosVieje(env):\n",
        "  yield env.timeout(tiempocompraBoleto())\n",
        "\n",
        "def ventaBoletos(env,  pasajero, terminal):\n",
        "  turista = listaPasajeros[pasajero]\n",
        "  with terminal.contador.request() as turno:\n",
        "    resultado = yield turno | terminal.sold_out[turista[2]]\n",
        "    \n",
        "    ##Comprobando existencia de boletos\n",
        "    if terminal.num_boletos[turista[2]] < turista[3]:\n",
        "      ##Se supero el limite de boletos, ya no hay la cantidad de boletos solicitados\n",
        "      yield env.timeout(0.5) \n",
        "      return\n",
        "    \n",
        "    ##Restando la cantidad de boletos solicitados\n",
        "    yield env.process(compraBoletosVieje(env))\n",
        "\n",
        "    terminal.num_boletos[turista[2]] -= turista[3]\n",
        "    terminal.cantidadBoletosVendidos[turista[2]] += turista[3]\n",
        "    if terminal.num_boletos[turista[2]] < 2:\n",
        "      ##Boletos agotados\n",
        "      terminal.sold_out[turista[2]].succeed()\n",
        "      terminal.num_boletos[turista[2]] = 0\n",
        "      terminal.tiempo_agotado_boletos[turista[2]] = env.now\n",
        "    yield env.timeout(1)\n",
        "\n",
        "def salidaBus_ida(env, terminal, bus):\n",
        "\n",
        "    with terminal.viaje.request() as viajeActual:\n",
        "      print(\"Hora de salida del bus -------- IDA: \", bus,\" == \", env.now)  \n",
        "      \n",
        "      yield viajeActual\n",
        "      busActual = bus \n",
        "      terminal.tiempo_de_viaje[busActual] =  tiempoTransporteBus()\n",
        "      terminal.destinoCompletado[busActual] = False\n",
        "      terminal.tiempollegada[busActual] = env.now\n",
        "      terminal.ida[busActual] = False\n",
        "      terminal.retorno[busActual] = True\n",
        "      yield env.timeout(terminal.tiempo_de_viaje[busActual])\n",
        "      \n",
        "      \n",
        "      print(\"Hora de llegada del bus ------- IDA: \", bus,\" == \", env.now)\n",
        "      terminal.destinoCompletado[busActual] = True\n",
        "      terminal.sold_out[busActual] = env.event()\n",
        "      terminal.num_boletos[busActual] = NUM_BOLETO\n",
        "      terminal.cantidadViajesBus[busActual] += 1 \n",
        "      terminal.viaje.release(viajeActual) #Libero el recurso despues de su uso.\n",
        "\n",
        "def salidaBus_retorno(env, terminal, bus):\n",
        "    with terminal.viaje.request() as viajeActual:\n",
        "      print(\"Hora de salida del bus .......... RETORNO: \", bus,\" == \", env.now)  \n",
        "      yield viajeActual\n",
        "      busActual = bus \n",
        "      terminal.destinoCompletado[busActual] = False\n",
        "      terminal.tiempollegada[busActual] = env.now\n",
        "      terminal.ida[busActual] = True\n",
        "      terminal.retorno[busActual] = False\n",
        "      yield env.timeout(terminal.tiempo_de_viaje[busActual])\n",
        "      terminal.destinoCompletado[busActual] = True\n",
        "      print(\"Hora de llegada del bus .......... RETORNO: \", bus,\" == \", env.now)\n",
        "      terminal.sold_out[busActual] = env.event()\n",
        "      terminal.num_boletos[busActual] = NUM_BOLETO\n",
        "      terminal.cantidadViajesBus[busActual] += 1\n",
        "      terminal.viaje.release(viajeActual) #Libero el recurso despues de su uso.\n",
        "      \n",
        "\n",
        "def subidaDePasajeros_ida(env, terminal):\n",
        "    # Ejecutamos la simulacion\n",
        "    cont = 1\n",
        "    dia = 0\n",
        "    tiempoEsperaBus = int(env.now/60)\n",
        "    while True:\n",
        "      #cada minuto llega un nuevo pasajero\n",
        "      yield env.timeout(1.5)\n",
        "      #dia = math.trunc(round(env.now)/1440)\n",
        "      \n",
        "      \n",
        "      ##Informacion de lugar de destino y origen del pasajero\n",
        "      ##Pasajero escoge el bus con el origen y destino que desea vacacionar\n",
        "      bus = random.choice(terminal.Buses)\n",
        "      ##Compra de voletos por pasajero\n",
        "      numeroBoletos = compraBoletos()\n",
        "      ##Comprobando que haya boletos disponibles\n",
        "      if terminal.num_boletos[bus] > 0:\n",
        "        # Generando pasajero\n",
        "        listaPasajeros[\"Persona \"+str(cont)] = [obtenerGenero(), edadAdultos(), bus, numeroBoletos]\n",
        "        yield env.process(ventaBoletos(env,  \"Persona \"+str(cont), terminal))\n",
        "      else:\n",
        "        terminal.tiempo_agotado_boletos[bus] = env.now\n",
        "        terminal.cantidadPersonasSinBoleto[bus] += 1\n",
        "        print(\"no hay boletos para: \", bus)\n",
        "      \n",
        "      cont+=1\n",
        "      tiempoActual = int(env.now/60)\n",
        "\n",
        "      ##Verificando una hora de espera PARA IDA\n",
        "      if((tiempoActual-tiempoEsperaBus) == 1):\n",
        "        print(\"********Nueva Salida de IDA - RETORNO***********\")\n",
        "        tiempoEsperaBus= int(env.now/60)\n",
        "        \n",
        "        for bus in terminal.Buses:\n",
        "          ##Hora de salida de bus - IDA\n",
        "          if((terminal.ida[bus] == True and terminal.retorno[bus] == False)and terminal.destinoCompletado[bus] == True):\n",
        "            env.process(salidaBus_ida(env, terminal, bus))\n",
        "          ##Hora de salida de bus - RETORNO\n",
        "          elif((terminal.ida[bus] == False and terminal.retorno[bus] == True) and terminal.destinoCompletado[bus] == True):\n",
        "            env.process(salidaBus_retorno(env, terminal, bus))\n",
        "      \n",
        "      ##Actualizacion de destinos turisticos pasando un dia         \n",
        "      diaActual = math.trunc(round(env.now)/1440)\n",
        "      if(diaActual - dia) == 1 :\n",
        "        ##Consulta grafica por dia.\n",
        "        for bus in terminal.Buses:\n",
        "          boletosVendidosPorDia[bus+' dia:'+str(dia)] = [bus, dia, terminal.cantidadBoletosVendidos[bus], terminal.cantidadPersonasSinBoleto[bus], terminal.cantidadViajesBus[bus], terminal.lugarOrigen[bus], terminal.lugaresTuristicos[bus]] \n",
        "          terminal.cantidadBoletosVendidos[bus] = 0\n",
        "          terminal.cantidadPersonasSinBoleto[bus] = 0\n",
        "          terminal.cantidadViajesBus[bus] = 0\n",
        "\n",
        "        dia = math.trunc(round(env.now)/1440)\n",
        "        destinosTuristicosBuses(env, terminal)\n",
        "        print(\"******************************Un Nuevo Dia********************************\")\n",
        "        print(\"----Destinos para dia: \",diaActual,'----') \n",
        "        for bus in terminal.Buses:\n",
        "          print(\"Origen:\", terminal.lugarOrigen[bus], \" destino: \",terminal.lugaresTuristicos[bus])\n",
        "    \n",
        "       \n",
        "\n"
      ],
      "metadata": {
        "id": "DC44pvOiEJZR"
      },
      "execution_count": 474,
      "outputs": []
    },
    {
      "cell_type": "code",
      "source": [
        "def destinosTuristicosBuses(env, terminal):\n",
        "  ##Definicion de origen y destino de buses para viaje\n",
        "  ##Controlando que destino y origen sean diferentes \n",
        "  for bus in terminal.Buses:\n",
        "    origenBus = escogerOrigen()\n",
        "    terminal.lugarOrigen[bus] = origenBus\n",
        "    destinoBus = escogerDestino()\n",
        "    \n",
        "    ##Origen no puede ser igual a destino\n",
        "    while(origenBus == destinoBus):\n",
        "      destinoBus = escogerDestino()\n",
        "\n",
        "    if(origenBus not in terminal.lugarOrigen[bus]):\n",
        "      terminal.lugarOrigen[bus] = origenBus\n",
        "    else:\n",
        "      while(origenBus in terminal.lugarOrigen[bus]):\n",
        "        origenBus = escogerOrigen()\n",
        "      terminal.lugarOrigen[bus] = origenBus\n",
        "    \n",
        "    \n",
        "    if(destinoBus not in terminal.lugaresTuristicos[bus] and (destinoBus != terminal.lugarOrigen[bus]) ): \n",
        "      terminal.lugaresTuristicos[bus] = destinoBus\n",
        "    else:\n",
        "      while(destinoBus in terminal.lugaresTuristicos[bus] or (destinoBus == terminal.lugarOrigen[bus]) ):\n",
        "        #aux = destinoBus\n",
        "        destinoBus = escogerDestino()\n",
        "        if((destinoBus != terminal.lugarOrigen[bus]) and (destinoBus not in terminal.lugaresTuristicos[bus])):\n",
        "          terminal.lugaresTuristicos[bus] = destinoBus\n",
        "          break\n"
      ],
      "metadata": {
        "id": "mD3Vp5sKmvu4"
      },
      "execution_count": 475,
      "outputs": []
    },
    {
      "cell_type": "code",
      "source": [
        "def ejecutar_simulacion(env, terminal):\n",
        "    destinosTuristicosBuses(env, terminal)\n",
        "    ##Serivicio de Buses para hoy:\n",
        "    print(\"----Destinos para primer dia----\") \n",
        "    for bus in terminal.Buses:\n",
        "        print(\"Origen:\", terminal.lugarOrigen[bus], \" destino: \",terminal.lugaresTuristicos[bus])\n",
        "    \n",
        "    yield env.timeout(1.5)\n",
        "    ##Pasajeros comienzan a subir al bus\n",
        "    env.process(subidaDePasajeros_ida(env, terminal))"
      ],
      "metadata": {
        "id": "xS8aTFDZIsGr"
      },
      "execution_count": 476,
      "outputs": []
    },
    {
      "cell_type": "code",
      "source": [
        "import collections\n",
        "import random\n",
        "import simpy\n",
        "\n",
        "##40 Pasajeros\n",
        "NUM_BOLETO = 40\n",
        "TIEMPO_SIMULACION = 1440*8\n",
        "TIEMPO_SALIDA = 60\n",
        "listaPasajeros = {}\n",
        "procesoSubidaBusesInterrupcion = ''\n",
        "random.seed(77)\n",
        "\n",
        "##Variables para graficas \n",
        "boletosVendidosPorDia = {}\n",
        "\n",
        "TerminalTerrestre = collections.namedtuple('Terminal', 'contador, Buses, lugarOrigen, lugaresTuristicos, num_boletos, sold_out, tiempo_salida, tiempollegada, ida, retorno, tiempo_agotado_boletos, viaje, tiempo_de_viaje, destinoCompletado, cantidadBoletosVendidos, cantidadPersonasSinBoleto, cantidadViajesBus')\n",
        "\n",
        "print('Terminal Terrestre - Cuenca - Juan Barrera')\n",
        "env = simpy.Environment()\n",
        "\n",
        "##Se tiene una unica agencia de turismo .\n",
        "contador = simpy.Resource(env,capacity=1)\n",
        "viaje = simpy.Resource(env,capacity=5)\n",
        "\n",
        "Buses = ['Bus 1', 'Bus 2', 'Bus 3', 'Bus 4', 'Bus 5']\n",
        "probabilidad=[0.3, 0.2, 0.2, 0.15, 0.10, 0.05]\n",
        "num_boletos = {bus: NUM_BOLETO for bus in Buses}\n",
        "cantidadBoletosVendidos = {bus: 0 for bus in Buses}\n",
        "cantidadPersonasSinBoleto = {bus: 0 for bus in Buses}\n",
        "cantidadViajesBus = {bus: 0 for bus in Buses}\n",
        "\n",
        "sold_out = {bus: env.event() for bus in Buses}\n",
        "\n",
        "destinoCompletado = {bus: True for bus in Buses}\n",
        "tiempo_de_viaje = {bus: None for bus in Buses}\n",
        "tiempo_salida = {bus: None for bus in Buses}\n",
        "tiempollegada = {bus: None for bus in Buses}\n",
        "ida = {bus: True for bus in Buses}\n",
        "retorno = {bus: False for bus in Buses}\n",
        "tiempo_agotado_boletos = {bus: None for bus in Buses}\n",
        "\n",
        "origen = {bus: '' for bus in Buses}\n",
        "destino = {bus: '' for bus in Buses}\n",
        "\n",
        "terminal = TerminalTerrestre(contador, Buses, origen, destino, num_boletos, sold_out, tiempo_salida, tiempollegada, ida, retorno, tiempo_agotado_boletos, viaje, tiempo_de_viaje, destinoCompletado, cantidadBoletosVendidos, cantidadPersonasSinBoleto, cantidadViajesBus)\n",
        "env.process(ejecutar_simulacion(env, terminal))\n",
        "\n",
        "env.run(until=TIEMPO_SIMULACION)\n",
        "\n"
      ],
      "metadata": {
        "colab": {
          "base_uri": "https://localhost:8080/"
        },
        "id": "mPIwFwL9-zjr",
        "outputId": "1a48094e-6ab7-47ab-e5c9-e4f0edf92b91"
      },
      "execution_count": 477,
      "outputs": [
        {
          "output_type": "stream",
          "name": "stdout",
          "text": [
            "Terminal Terrestre - Cuenca - Juan Barrera\n",
            "----Destinos para primer dia----\n",
            "Origen: Quito  destino:  Guayaquil\n",
            "Origen: Guayaquil  destino:  Quito\n",
            "Origen: Quito  destino:  Montañita\n",
            "Origen: Manta  destino:  Montañita\n",
            "Origen: Ambato  destino:  Puyo\n",
            "********Nueva Salida de IDA - RETORNO***********\n",
            "Hora de salida del bus -------- IDA:  Bus 1  ==  64.56716597392949\n",
            "Hora de salida del bus -------- IDA:  Bus 2  ==  64.56716597392949\n",
            "Hora de salida del bus -------- IDA:  Bus 3  ==  64.56716597392949\n",
            "Hora de salida del bus -------- IDA:  Bus 4  ==  64.56716597392949\n",
            "Hora de salida del bus -------- IDA:  Bus 5  ==  64.56716597392949\n",
            "********Nueva Salida de IDA - RETORNO***********\n",
            "********Nueva Salida de IDA - RETORNO***********\n",
            "********Nueva Salida de IDA - RETORNO***********\n",
            "********Nueva Salida de IDA - RETORNO***********\n",
            "Hora de llegada del bus ------- IDA:  Bus 1  ==  347.33234769199123\n",
            "********Nueva Salida de IDA - RETORNO***********\n",
            "Hora de salida del bus .......... RETORNO:  Bus 1  ==  367.30279883383906\n",
            "********Nueva Salida de IDA - RETORNO***********\n",
            "********Nueva Salida de IDA - RETORNO***********\n",
            "no hay boletos para:  Bus 5\n",
            "no hay boletos para:  Bus 5\n",
            "********Nueva Salida de IDA - RETORNO***********\n",
            "no hay boletos para:  Bus 5\n",
            "no hay boletos para:  Bus 5\n",
            "no hay boletos para:  Bus 5\n",
            "no hay boletos para:  Bus 5\n",
            "********Nueva Salida de IDA - RETORNO***********\n",
            "Hora de llegada del bus ------- IDA:  Bus 2  ==  607.9412272204894\n",
            "no hay boletos para:  Bus 5\n",
            "Hora de llegada del bus .......... RETORNO:  Bus 1  ==  650.0679805519007\n",
            "********Nueva Salida de IDA - RETORNO***********\n",
            "Hora de salida del bus -------- IDA:  Bus 1  ==  665.054626722462\n",
            "Hora de salida del bus .......... RETORNO:  Bus 2  ==  665.054626722462\n",
            "no hay boletos para:  Bus 3\n",
            "Hora de llegada del bus ------- IDA:  Bus 3  ==  692.1873636058821\n",
            "no hay boletos para:  Bus 5\n",
            "no hay boletos para:  Bus 5\n",
            "no hay boletos para:  Bus 5\n",
            "no hay boletos para:  Bus 5\n",
            "********Nueva Salida de IDA - RETORNO***********\n",
            "Hora de salida del bus .......... RETORNO:  Bus 3  ==  721.2000351207768\n",
            "Hora de llegada del bus ------- IDA:  Bus 5  ==  726.216706337312\n",
            "********Nueva Salida de IDA - RETORNO***********\n",
            "Hora de salida del bus .......... RETORNO:  Bus 5  ==  780.7284637210761\n",
            "Hora de llegada del bus ------- IDA:  Bus 1  ==  795.0830861876083\n",
            "********Nueva Salida de IDA - RETORNO***********\n",
            "Hora de salida del bus .......... RETORNO:  Bus 1  ==  849.2020132202291\n",
            "no hay boletos para:  Bus 4\n",
            "no hay boletos para:  Bus 4\n",
            "no hay boletos para:  Bus 4\n",
            "********Nueva Salida de IDA - RETORNO***********\n",
            "no hay boletos para:  Bus 4\n",
            "********Nueva Salida de IDA - RETORNO***********\n",
            "no hay boletos para:  Bus 4\n",
            "Hora de llegada del bus .......... RETORNO:  Bus 1  ==  979.2304726853754\n",
            "no hay boletos para:  Bus 4\n",
            "no hay boletos para:  Bus 4\n",
            "********Nueva Salida de IDA - RETORNO***********\n",
            "Hora de salida del bus -------- IDA:  Bus 1  ==  1027.7523561757696\n",
            "no hay boletos para:  Bus 4\n",
            "Hora de llegada del bus ------- IDA:  Bus 4  ==  1076.3339660215834\n",
            "********Nueva Salida de IDA - RETORNO***********\n",
            "Hora de salida del bus .......... RETORNO:  Bus 4  ==  1089.649652435526\n",
            "********Nueva Salida de IDA - RETORNO***********\n",
            "Hora de llegada del bus ------- IDA:  Bus 1  ==  1193.4073729680533\n",
            "********Nueva Salida de IDA - RETORNO***********\n",
            "Hora de salida del bus .......... RETORNO:  Bus 1  ==  1200.6390765134483\n",
            "Hora de llegada del bus .......... RETORNO:  Bus 2  ==  1208.428687969022\n",
            "********Nueva Salida de IDA - RETORNO***********\n",
            "Hora de salida del bus -------- IDA:  Bus 2  ==  1269.2604719176381\n",
            "********Nueva Salida de IDA - RETORNO***********\n",
            "Hora de llegada del bus .......... RETORNO:  Bus 3  ==  1348.8202327527292\n",
            "Hora de llegada del bus .......... RETORNO:  Bus 1  ==  1366.294093305732\n",
            "********Nueva Salida de IDA - RETORNO***********\n",
            "Hora de salida del bus -------- IDA:  Bus 1  ==  1387.2832601922203\n",
            "Hora de salida del bus -------- IDA:  Bus 3  ==  1387.2832601922203\n",
            "no hay boletos para:  Bus 5\n",
            "Hora de llegada del bus .......... RETORNO:  Bus 5  ==  1442.3780040844586\n",
            "********Nueva Salida de IDA - RETORNO***********\n",
            "******************************Un Nuevo Dia********************************\n",
            "----Destinos para dia:  1 ----\n",
            "Origen: Quito  destino:  Montañita\n",
            "Origen: Quito  destino:  Cuenca\n",
            "Origen: Quito  destino:  Puyo\n",
            "Origen: Cuenca  destino:  Guayaquil\n",
            "Origen: Quito  destino:  Guayaquil\n",
            "Hora de salida del bus -------- IDA:  Bus 5  ==  1451.8055238823688\n",
            "Hora de llegada del bus ------- IDA:  Bus 2  ==  1493.8515665050236\n",
            "no hay boletos para:  Bus 4\n",
            "********Nueva Salida de IDA - RETORNO***********\n",
            "Hora de salida del bus .......... RETORNO:  Bus 2  ==  1509.0606190477667\n",
            "Hora de llegada del bus ------- IDA:  Bus 1  ==  1510.1863446355776\n",
            "no hay boletos para:  Bus 4\n",
            "********Nueva Salida de IDA - RETORNO***********\n",
            "Hora de salida del bus .......... RETORNO:  Bus 1  ==  1563.800218499162\n",
            "no hay boletos para:  Bus 4\n",
            "no hay boletos para:  Bus 4\n",
            "no hay boletos para:  Bus 4\n",
            "********Nueva Salida de IDA - RETORNO***********\n",
            "no hay boletos para:  Bus 4\n",
            "Hora de llegada del bus .......... RETORNO:  Bus 1  ==  1686.7033029425193\n",
            "********Nueva Salida de IDA - RETORNO***********\n",
            "Hora de salida del bus -------- IDA:  Bus 1  ==  1688.6648112758496\n",
            "Hora de llegada del bus .......... RETORNO:  Bus 2  ==  1733.6517136351522\n",
            "********Nueva Salida de IDA - RETORNO***********\n",
            "Hora de salida del bus -------- IDA:  Bus 2  ==  1749.9073326045893\n",
            "no hay boletos para:  Bus 4\n",
            "no hay boletos para:  Bus 4\n",
            "Hora de llegada del bus ------- IDA:  Bus 5  ==  1770.2574371172188\n",
            "no hay boletos para:  Bus 4\n",
            "********Nueva Salida de IDA - RETORNO***********\n",
            "Hora de salida del bus .......... RETORNO:  Bus 5  ==  1807.7338024150495\n",
            "no hay boletos para:  Bus 4\n",
            "no hay boletos para:  Bus 4\n",
            "no hay boletos para:  Bus 4\n",
            "********Nueva Salida de IDA - RETORNO***********\n",
            "no hay boletos para:  Bus 4\n",
            "no hay boletos para:  Bus 4\n",
            "********Nueva Salida de IDA - RETORNO***********\n",
            "no hay boletos para:  Bus 4\n",
            "********Nueva Salida de IDA - RETORNO***********\n",
            "********Nueva Salida de IDA - RETORNO***********\n",
            "no hay boletos para:  Bus 4\n",
            "Hora de llegada del bus ------- IDA:  Bus 2  ==  2081.6919671553746\n",
            "Hora de llegada del bus .......... RETORNO:  Bus 4  ==  2101.4164524831795\n",
            "********Nueva Salida de IDA - RETORNO***********\n",
            "Hora de salida del bus .......... RETORNO:  Bus 2  ==  2112.606811721428\n",
            "Hora de salida del bus -------- IDA:  Bus 4  ==  2112.606811721428\n",
            "no hay boletos para:  Bus 3\n",
            "no hay boletos para:  Bus 3\n",
            "Hora de llegada del bus .......... RETORNO:  Bus 5  ==  2126.1857156498995\n",
            "no hay boletos para:  Bus 3\n",
            "no hay boletos para:  Bus 3\n",
            "********Nueva Salida de IDA - RETORNO***********\n",
            "Hora de salida del bus -------- IDA:  Bus 5  ==  2166.595216668092\n",
            "no hay boletos para:  Bus 3\n",
            "********Nueva Salida de IDA - RETORNO***********\n",
            "Hora de llegada del bus ------- IDA:  Bus 3  ==  2261.050276705213\n",
            "********Nueva Salida de IDA - RETORNO***********\n",
            "Hora de salida del bus .......... RETORNO:  Bus 3  ==  2289.286931107343\n",
            "Hora de llegada del bus ------- IDA:  Bus 5  ==  2324.814462159922\n",
            "********Nueva Salida de IDA - RETORNO***********\n",
            "Hora de salida del bus .......... RETORNO:  Bus 5  ==  2353.5621575876635\n",
            "Hora de llegada del bus ------- IDA:  Bus 1  ==  2357.0611690799733\n",
            "Hora de llegada del bus ------- IDA:  Bus 4  ==  2390.16778604462\n",
            "********Nueva Salida de IDA - RETORNO***********\n",
            "Hora de salida del bus .......... RETORNO:  Bus 1  ==  2404.7132120374745\n",
            "Hora de salida del bus .......... RETORNO:  Bus 4  ==  2404.7132120374745\n",
            "Hora de llegada del bus .......... RETORNO:  Bus 2  ==  2444.391446272213\n",
            "********Nueva Salida de IDA - RETORNO***********\n",
            "Hora de salida del bus -------- IDA:  Bus 2  ==  2470.875932733226\n",
            "Hora de llegada del bus .......... RETORNO:  Bus 5  ==  2511.781403079494\n",
            "********Nueva Salida de IDA - RETORNO***********\n",
            "Hora de salida del bus -------- IDA:  Bus 5  ==  2522.3160976575105\n",
            "********Nueva Salida de IDA - RETORNO***********\n",
            "********Nueva Salida de IDA - RETORNO***********\n",
            "Hora de llegada del bus .......... RETORNO:  Bus 4  ==  2682.274186360666\n",
            "********Nueva Salida de IDA - RETORNO***********\n",
            "Hora de salida del bus -------- IDA:  Bus 4  ==  2701.857730498178\n",
            "********Nueva Salida de IDA - RETORNO***********\n",
            "Hora de llegada del bus ------- IDA:  Bus 2  ==  2781.0111410330856\n",
            "********Nueva Salida de IDA - RETORNO***********\n",
            "Hora de salida del bus .......... RETORNO:  Bus 2  ==  2823.5517969120324\n",
            "********Nueva Salida de IDA - RETORNO***********\n",
            "******************************Un Nuevo Dia********************************\n",
            "----Destinos para dia:  2 ----\n",
            "Origen: Cuenca  destino:  Baños de Agua Santa\n",
            "Origen: Ambato  destino:  Quito\n",
            "Origen: Manta  destino:  Quito\n",
            "Origen: Machala  destino:  Baños de Agua Santa\n",
            "Origen: Cuenca  destino:  Quito\n",
            "********Nueva Salida de IDA - RETORNO***********\n",
            "Hora de llegada del bus ------- IDA:  Bus 5  ==  2961.53433823536\n",
            "********Nueva Salida de IDA - RETORNO***********\n",
            "Hora de salida del bus .......... RETORNO:  Bus 5  ==  3005.4986652305465\n",
            "********Nueva Salida de IDA - RETORNO***********\n",
            "Hora de llegada del bus .......... RETORNO:  Bus 1  ==  3073.109569841598\n",
            "no hay boletos para:  Bus 3\n",
            "no hay boletos para:  Bus 3\n",
            "no hay boletos para:  Bus 3\n",
            "no hay boletos para:  Bus 3\n",
            "********Nueva Salida de IDA - RETORNO***********\n",
            "Hora de salida del bus -------- IDA:  Bus 1  ==  3121.2258950841397\n",
            "Hora de llegada del bus .......... RETORNO:  Bus 2  ==  3133.687005211892\n",
            "Hora de llegada del bus ------- IDA:  Bus 1  ==  3157.388066145279\n",
            "Hora de llegada del bus .......... RETORNO:  Bus 3  ==  3163.053947620336\n",
            "********Nueva Salida de IDA - RETORNO***********\n",
            "Hora de salida del bus .......... RETORNO:  Bus 1  ==  3194.188056031968\n",
            "Hora de salida del bus -------- IDA:  Bus 2  ==  3194.188056031968\n",
            "Hora de salida del bus -------- IDA:  Bus 3  ==  3194.188056031968\n",
            "Hora de llegada del bus .......... RETORNO:  Bus 1  ==  3230.350227093107\n",
            "********Nueva Salida de IDA - RETORNO***********\n",
            "Hora de salida del bus -------- IDA:  Bus 1  ==  3242.4399573194496\n",
            "********Nueva Salida de IDA - RETORNO***********\n",
            "Hora de llegada del bus ------- IDA:  Bus 4  ==  3319.4369001854475\n",
            "********Nueva Salida de IDA - RETORNO***********\n",
            "Hora de salida del bus .......... RETORNO:  Bus 4  ==  3366.6286978568833\n",
            "********Nueva Salida de IDA - RETORNO***********\n",
            "Hora de llegada del bus ------- IDA:  Bus 3  ==  3444.1838564174122\n",
            "Hora de llegada del bus .......... RETORNO:  Bus 5  ==  3444.716905808396\n",
            "Hora de llegada del bus ------- IDA:  Bus 1  ==  3448.551422676662\n",
            "********Nueva Salida de IDA - RETORNO***********\n",
            "Hora de salida del bus .......... RETORNO:  Bus 1  ==  3480.6211379820816\n",
            "Hora de salida del bus .......... RETORNO:  Bus 3  ==  3480.6211379820816\n",
            "Hora de salida del bus -------- IDA:  Bus 5  ==  3480.6211379820816\n",
            "Hora de llegada del bus ------- IDA:  Bus 2  ==  3517.6197168936096\n",
            "********Nueva Salida de IDA - RETORNO***********\n",
            "Hora de salida del bus .......... RETORNO:  Bus 2  ==  3545.776113094578\n",
            "********Nueva Salida de IDA - RETORNO***********\n",
            "********Nueva Salida de IDA - RETORNO***********\n",
            "Hora de llegada del bus .......... RETORNO:  Bus 1  ==  3686.7326033392937\n",
            "********Nueva Salida de IDA - RETORNO***********\n",
            "Hora de salida del bus -------- IDA:  Bus 1  ==  3723.174767203172\n",
            "Hora de llegada del bus .......... RETORNO:  Bus 3  ==  3730.616938367526\n",
            "********Nueva Salida de IDA - RETORNO***********\n",
            "Hora de salida del bus -------- IDA:  Bus 3  ==  3790.1811038885894\n",
            "********Nueva Salida de IDA - RETORNO***********\n",
            "Hora de llegada del bus .......... RETORNO:  Bus 2  ==  3869.2077739562196\n",
            "********Nueva Salida de IDA - RETORNO***********\n",
            "Hora de salida del bus -------- IDA:  Bus 2  ==  3900.320759789793\n",
            "********Nueva Salida de IDA - RETORNO***********\n",
            "Hora de llegada del bus .......... RETORNO:  Bus 4  ==  3984.2078675441526\n",
            "********Nueva Salida de IDA - RETORNO***********\n",
            "Hora de salida del bus -------- IDA:  Bus 4  ==  4020.180513530304\n",
            "Hora de llegada del bus ------- IDA:  Bus 3  ==  4083.14470650781\n",
            "********Nueva Salida de IDA - RETORNO***********\n",
            "Hora de salida del bus .......... RETORNO:  Bus 3  ==  4086.802385657179\n",
            "********Nueva Salida de IDA - RETORNO***********\n",
            "Hora de llegada del bus ------- IDA:  Bus 5  ==  4171.42330138297\n",
            "********Nueva Salida de IDA - RETORNO***********\n",
            "Hora de salida del bus .......... RETORNO:  Bus 5  ==  4204.166319676657\n",
            "********Nueva Salida de IDA - RETORNO***********\n",
            "********Nueva Salida de IDA - RETORNO***********\n",
            "******************************Un Nuevo Dia********************************\n",
            "----Destinos para dia:  3 ----\n",
            "Origen: Ambato  destino:  Cuenca\n",
            "Origen: Quito  destino:  Montañita\n",
            "Origen: Quito  destino:  Montañita\n",
            "Origen: Guayaquil  destino:  Quito\n",
            "Origen: Guayaquil  destino:  Baños de Agua Santa\n",
            "Hora de llegada del bus .......... RETORNO:  Bus 3  ==  4379.7659882764\n",
            "********Nueva Salida de IDA - RETORNO***********\n",
            "Hora de salida del bus -------- IDA:  Bus 3  ==  4382.770600281072\n",
            "Hora de llegada del bus ------- IDA:  Bus 1  ==  4393.667380563822\n",
            "********Nueva Salida de IDA - RETORNO***********\n",
            "Hora de salida del bus .......... RETORNO:  Bus 1  ==  4444.870973475874\n",
            "Hora de llegada del bus ------- IDA:  Bus 2  ==  4453.695425236514\n",
            "********Nueva Salida de IDA - RETORNO***********\n",
            "Hora de salida del bus .......... RETORNO:  Bus 2  ==  4502.785491939846\n",
            "Hora de llegada del bus ------- IDA:  Bus 4  ==  4548.5519583909645\n",
            "********Nueva Salida de IDA - RETORNO***********\n",
            "Hora de salida del bus .......... RETORNO:  Bus 4  ==  4567.495786847522\n",
            "********Nueva Salida de IDA - RETORNO***********\n",
            "********Nueva Salida de IDA - RETORNO***********\n",
            "no hay boletos para:  Bus 5\n",
            "********Nueva Salida de IDA - RETORNO***********\n",
            "Hora de llegada del bus ------- IDA:  Bus 3  ==  4780.590705362089\n",
            "no hay boletos para:  Bus 5\n",
            "no hay boletos para:  Bus 5\n",
            "********Nueva Salida de IDA - RETORNO***********\n",
            "Hora de salida del bus .......... RETORNO:  Bus 3  ==  4803.4897527977\n",
            "no hay boletos para:  Bus 5\n",
            "********Nueva Salida de IDA - RETORNO***********\n",
            "Hora de llegada del bus .......... RETORNO:  Bus 5  ==  4894.968483077545\n",
            "********Nueva Salida de IDA - RETORNO***********\n",
            "Hora de salida del bus -------- IDA:  Bus 5  ==  4923.774141248537\n",
            "********Nueva Salida de IDA - RETORNO***********\n",
            "********Nueva Salida de IDA - RETORNO***********\n",
            "Hora de llegada del bus .......... RETORNO:  Bus 2  ==  5056.160157386566\n",
            "Hora de llegada del bus .......... RETORNO:  Bus 4  ==  5095.867231708183\n",
            "********Nueva Salida de IDA - RETORNO***********\n",
            "Hora de salida del bus -------- IDA:  Bus 2  ==  5102.510969018351\n",
            "Hora de salida del bus -------- IDA:  Bus 4  ==  5102.510969018351\n",
            "Hora de llegada del bus .......... RETORNO:  Bus 1  ==  5115.363586836524\n",
            "********Nueva Salida de IDA - RETORNO***********\n",
            "Hora de salida del bus -------- IDA:  Bus 1  ==  5161.694317387779\n",
            "Hora de llegada del bus .......... RETORNO:  Bus 3  ==  5201.309857878717\n",
            "********Nueva Salida de IDA - RETORNO***********\n",
            "Hora de salida del bus -------- IDA:  Bus 3  ==  5226.4485703357295\n",
            "********Nueva Salida de IDA - RETORNO***********\n",
            "********Nueva Salida de IDA - RETORNO***********\n",
            "Hora de llegada del bus ------- IDA:  Bus 4  ==  5411.063360259343\n",
            "********Nueva Salida de IDA - RETORNO***********\n",
            "Hora de salida del bus .......... RETORNO:  Bus 4  ==  5414.545348348037\n",
            "Hora de llegada del bus ------- IDA:  Bus 3  ==  5455.231242212894\n",
            "********Nueva Salida de IDA - RETORNO***********\n",
            "Hora de salida del bus .......... RETORNO:  Bus 3  ==  5464.942729856078\n",
            "no hay boletos para:  Bus 2\n",
            "Hora de llegada del bus ------- IDA:  Bus 2  ==  5494.888781370374\n",
            "********Nueva Salida de IDA - RETORNO***********\n",
            "Hora de salida del bus .......... RETORNO:  Bus 2  ==  5526.929251098939\n",
            "********Nueva Salida de IDA - RETORNO***********\n",
            "Hora de llegada del bus ------- IDA:  Bus 5  ==  5592.830770516545\n",
            "********Nueva Salida de IDA - RETORNO***********\n",
            "Hora de salida del bus .......... RETORNO:  Bus 5  ==  5645.900651028616\n",
            "Hora de llegada del bus .......... RETORNO:  Bus 3  ==  5693.7254017332425\n",
            "********Nueva Salida de IDA - RETORNO***********\n",
            "Hora de salida del bus -------- IDA:  Bus 3  ==  5709.416773136959\n",
            "Hora de llegada del bus .......... RETORNO:  Bus 4  ==  5723.0977395890295\n",
            "********Nueva Salida de IDA - RETORNO***********\n",
            "******************************Un Nuevo Dia********************************\n",
            "----Destinos para dia:  4 ----\n",
            "Origen: Quito  destino:  Puyo\n",
            "Origen: Manta  destino:  Quito\n",
            "Origen: Quito  destino:  Cuenca\n",
            "Origen: Cuenca  destino:  Montañita\n",
            "Origen: Quito  destino:  Guayaquil\n",
            "Hora de salida del bus -------- IDA:  Bus 4  ==  5764.078982509445\n",
            "Hora de llegada del bus ------- IDA:  Bus 3  ==  5828.895684512968\n",
            "********Nueva Salida de IDA - RETORNO***********\n",
            "Hora de salida del bus .......... RETORNO:  Bus 3  ==  5831.168141682506\n",
            "no hay boletos para:  Bus 1\n",
            "no hay boletos para:  Bus 1\n",
            "no hay boletos para:  Bus 1\n",
            "no hay boletos para:  Bus 1\n",
            "no hay boletos para:  Bus 1\n",
            "Hora de llegada del bus ------- IDA:  Bus 1  ==  5875.054823171298\n",
            "********Nueva Salida de IDA - RETORNO***********\n",
            "Hora de salida del bus .......... RETORNO:  Bus 1  ==  5885.131196984676\n",
            "Hora de llegada del bus ------- IDA:  Bus 4  ==  5889.751883266369\n",
            "Hora de llegada del bus .......... RETORNO:  Bus 2  ==  5919.307063450962\n",
            "********Nueva Salida de IDA - RETORNO***********\n",
            "Hora de salida del bus -------- IDA:  Bus 2  ==  5948.461154338123\n",
            "Hora de salida del bus .......... RETORNO:  Bus 4  ==  5948.461154338123\n",
            "Hora de llegada del bus .......... RETORNO:  Bus 3  ==  5950.647053058515\n",
            "********Nueva Salida de IDA - RETORNO***********\n",
            "Hora de salida del bus -------- IDA:  Bus 3  ==  6005.993146135062\n",
            "********Nueva Salida de IDA - RETORNO***********\n",
            "Hora de llegada del bus .......... RETORNO:  Bus 4  ==  6074.134055095047\n",
            "no hay boletos para:  Bus 5\n",
            "********Nueva Salida de IDA - RETORNO***********\n",
            "Hora de salida del bus -------- IDA:  Bus 4  ==  6132.847029377779\n",
            "no hay boletos para:  Bus 5\n",
            "********Nueva Salida de IDA - RETORNO***********\n",
            "no hay boletos para:  Bus 5\n",
            "********Nueva Salida de IDA - RETORNO***********\n",
            "no hay boletos para:  Bus 5\n",
            "********Nueva Salida de IDA - RETORNO***********\n",
            "Hora de llegada del bus .......... RETORNO:  Bus 5  ==  6314.957280296625\n",
            "Hora de llegada del bus ------- IDA:  Bus 4  ==  6346.644259827308\n",
            "********Nueva Salida de IDA - RETORNO***********\n",
            "Hora de salida del bus .......... RETORNO:  Bus 4  ==  6366.493814253074\n",
            "Hora de salida del bus -------- IDA:  Bus 5  ==  6366.493814253074\n",
            "********Nueva Salida de IDA - RETORNO***********\n",
            "********Nueva Salida de IDA - RETORNO***********\n",
            "Hora de llegada del bus ------- IDA:  Bus 3  ==  6511.090980630127\n",
            "Hora de llegada del bus ------- IDA:  Bus 5  ==  6524.954081784013\n",
            "********Nueva Salida de IDA - RETORNO***********\n",
            "Hora de salida del bus .......... RETORNO:  Bus 3  ==  6546.22439857364\n",
            "Hora de salida del bus .......... RETORNO:  Bus 5  ==  6546.22439857364\n",
            "Hora de llegada del bus .......... RETORNO:  Bus 4  ==  6580.291044702602\n",
            "Hora de llegada del bus .......... RETORNO:  Bus 1  ==  6598.491702768195\n",
            "********Nueva Salida de IDA - RETORNO***********\n",
            "Hora de salida del bus -------- IDA:  Bus 1  ==  6606.041792185773\n",
            "Hora de salida del bus -------- IDA:  Bus 4  ==  6606.041792185773\n",
            "Hora de llegada del bus ------- IDA:  Bus 2  ==  6660.05395079164\n",
            "********Nueva Salida de IDA - RETORNO***********\n",
            "Hora de salida del bus .......... RETORNO:  Bus 2  ==  6664.95368851312\n",
            "Hora de llegada del bus .......... RETORNO:  Bus 5  ==  6704.68466610458\n",
            "Hora de llegada del bus ------- IDA:  Bus 1  ==  6712.919780402959\n",
            "********Nueva Salida de IDA - RETORNO***********\n",
            "Hora de salida del bus .......... RETORNO:  Bus 1  ==  6726.871292204046\n",
            "Hora de salida del bus -------- IDA:  Bus 5  ==  6726.871292204046\n",
            "Hora de llegada del bus ------- IDA:  Bus 5  ==  6734.32874470522\n",
            "********Nueva Salida de IDA - RETORNO***********\n",
            "Hora de salida del bus .......... RETORNO:  Bus 5  ==  6787.999473073165\n",
            "Hora de llegada del bus .......... RETORNO:  Bus 5  ==  6795.456925574339\n",
            "Hora de llegada del bus .......... RETORNO:  Bus 1  ==  6833.749280421232\n",
            "********Nueva Salida de IDA - RETORNO***********\n",
            "Hora de salida del bus -------- IDA:  Bus 1  ==  6847.327191367112\n",
            "Hora de salida del bus -------- IDA:  Bus 5  ==  6847.327191367112\n",
            "********Nueva Salida de IDA - RETORNO***********\n",
            "********Nueva Salida de IDA - RETORNO***********\n",
            "********Nueva Salida de IDA - RETORNO***********\n",
            "Hora de llegada del bus .......... RETORNO:  Bus 3  ==  7051.322233068706\n",
            "********Nueva Salida de IDA - RETORNO***********\n",
            "Hora de salida del bus -------- IDA:  Bus 3  ==  7090.085660828462\n",
            "********Nueva Salida de IDA - RETORNO***********\n",
            "********Nueva Salida de IDA - RETORNO***********\n",
            "******************************Un Nuevo Dia********************************\n",
            "----Destinos para dia:  5 ----\n",
            "Origen: Quito  destino:  Guayaquil\n",
            "Origen: Guayaquil  destino:  Puyo\n",
            "Origen: Manta  destino:  Baños de Agua Santa\n",
            "Origen: Quito  destino:  Guayaquil\n",
            "Origen: Cuenca  destino:  Baños de Agua Santa\n",
            "********Nueva Salida de IDA - RETORNO***********\n",
            "********Nueva Salida de IDA - RETORNO***********\n",
            "Hora de llegada del bus ------- IDA:  Bus 1  ==  7334.833746820731\n",
            "Hora de llegada del bus .......... RETORNO:  Bus 2  ==  7376.546484966637\n",
            "********Nueva Salida de IDA - RETORNO***********\n",
            "Hora de salida del bus .......... RETORNO:  Bus 1  ==  7387.463165570358\n",
            "Hora de salida del bus -------- IDA:  Bus 2  ==  7387.463165570358\n",
            "********Nueva Salida de IDA - RETORNO***********\n",
            "no hay boletos para:  Bus 5\n",
            "no hay boletos para:  Bus 4\n",
            "no hay boletos para:  Bus 5\n",
            "no hay boletos para:  Bus 5\n",
            "no hay boletos para:  Bus 3\n",
            "Hora de llegada del bus ------- IDA:  Bus 3  ==  7498.552795634866\n",
            "Hora de llegada del bus ------- IDA:  Bus 5  ==  7505.774630385804\n",
            "Hora de llegada del bus ------- IDA:  Bus 4  ==  7507.899983221282\n",
            "********Nueva Salida de IDA - RETORNO***********\n",
            "Hora de salida del bus .......... RETORNO:  Bus 3  ==  7511.73020397448\n",
            "Hora de salida del bus .......... RETORNO:  Bus 4  ==  7511.73020397448\n",
            "Hora de salida del bus .......... RETORNO:  Bus 5  ==  7511.73020397448\n",
            "********Nueva Salida de IDA - RETORNO***********\n",
            "********Nueva Salida de IDA - RETORNO***********\n",
            "********Nueva Salida de IDA - RETORNO***********\n",
            "********Nueva Salida de IDA - RETORNO***********\n",
            "********Nueva Salida de IDA - RETORNO***********\n",
            "********Nueva Salida de IDA - RETORNO***********\n",
            "Hora de llegada del bus .......... RETORNO:  Bus 1  ==  7874.9697210239765\n",
            "Hora de llegada del bus .......... RETORNO:  Bus 3  ==  7920.197338780884\n",
            "********Nueva Salida de IDA - RETORNO***********\n",
            "Hora de salida del bus -------- IDA:  Bus 1  ==  7923.335281046445\n",
            "Hora de salida del bus -------- IDA:  Bus 3  ==  7923.335281046445\n",
            "********Nueva Salida de IDA - RETORNO***********\n",
            "Hora de llegada del bus ------- IDA:  Bus 3  ==  7997.049025381368\n",
            "********Nueva Salida de IDA - RETORNO***********\n",
            "Hora de salida del bus .......... RETORNO:  Bus 3  ==  8051.219510662585\n",
            "********Nueva Salida de IDA - RETORNO***********\n",
            "Hora de llegada del bus ------- IDA:  Bus 2  ==  8119.94985561937\n",
            "Hora de llegada del bus .......... RETORNO:  Bus 3  ==  8124.933254997508\n",
            "Hora de llegada del bus ------- IDA:  Bus 1  ==  8131.096309450866\n",
            "Hora de llegada del bus .......... RETORNO:  Bus 5  ==  8170.1776429931715\n",
            "********Nueva Salida de IDA - RETORNO***********\n",
            "Hora de salida del bus .......... RETORNO:  Bus 1  ==  8172.493500858886\n",
            "Hora de salida del bus .......... RETORNO:  Bus 2  ==  8172.493500858886\n",
            "Hora de salida del bus -------- IDA:  Bus 3  ==  8172.493500858886\n",
            "Hora de salida del bus -------- IDA:  Bus 5  ==  8172.493500858886\n",
            "Hora de llegada del bus ------- IDA:  Bus 5  ==  8209.214420042223\n",
            "********Nueva Salida de IDA - RETORNO***********\n",
            "Hora de salida del bus .......... RETORNO:  Bus 5  ==  8223.823768412916\n",
            "Hora de llegada del bus ------- IDA:  Bus 3  ==  8229.161973617456\n",
            "Hora de llegada del bus .......... RETORNO:  Bus 5  ==  8260.544687596252\n",
            "********Nueva Salida de IDA - RETORNO***********\n",
            "Hora de salida del bus .......... RETORNO:  Bus 3  ==  8286.14116217404\n",
            "Hora de salida del bus -------- IDA:  Bus 5  ==  8286.14116217404\n",
            "Hora de llegada del bus .......... RETORNO:  Bus 3  ==  8342.80963493261\n",
            "********Nueva Salida de IDA - RETORNO***********\n",
            "Hora de salida del bus -------- IDA:  Bus 3  ==  8347.852893319261\n",
            "Hora de llegada del bus .......... RETORNO:  Bus 1  ==  8380.254529263308\n",
            "no hay boletos para:  Bus 4\n",
            "Hora de llegada del bus .......... RETORNO:  Bus 4  ==  8413.588395009989\n",
            "********Nueva Salida de IDA - RETORNO***********\n",
            "Hora de salida del bus -------- IDA:  Bus 1  ==  8414.769962767343\n",
            "Hora de salida del bus -------- IDA:  Bus 4  ==  8414.769962767343\n",
            "********Nueva Salida de IDA - RETORNO***********\n",
            "********Nueva Salida de IDA - RETORNO***********\n",
            "********Nueva Salida de IDA - RETORNO***********\n",
            "Hora de llegada del bus ------- IDA:  Bus 5  ==  8590.584515949577\n",
            "Hora de llegada del bus ------- IDA:  Bus 3  ==  8645.432681465574\n",
            "********Nueva Salida de IDA - RETORNO***********\n",
            "******************************Un Nuevo Dia********************************\n",
            "----Destinos para dia:  6 ----\n",
            "Origen: Cuenca  destino:  Puyo\n",
            "Origen: Machala  destino:  Quito\n",
            "Origen: Machala  destino:  Montañita\n",
            "Origen: Ambato  destino:  Quito\n",
            "Origen: Machala  destino:  Quito\n",
            "Hora de salida del bus .......... RETORNO:  Bus 3  ==  8649.336567747852\n",
            "Hora de salida del bus .......... RETORNO:  Bus 5  ==  8649.336567747852\n",
            "Hora de llegada del bus ------- IDA:  Bus 4  ==  8704.4587029496\n",
            "********Nueva Salida de IDA - RETORNO***********\n",
            "Hora de salida del bus .......... RETORNO:  Bus 4  ==  8707.114321723102\n",
            "Hora de llegada del bus ------- IDA:  Bus 1  ==  8718.994213254158\n",
            "********Nueva Salida de IDA - RETORNO***********\n",
            "Hora de salida del bus .......... RETORNO:  Bus 1  ==  8765.378075728231\n",
            "********Nueva Salida de IDA - RETORNO***********\n",
            "********Nueva Salida de IDA - RETORNO***********\n",
            "no hay boletos para:  Bus 2\n",
            "Hora de llegada del bus .......... RETORNO:  Bus 2  ==  8904.9801909079\n",
            "********Nueva Salida de IDA - RETORNO***********\n",
            "Hora de salida del bus -------- IDA:  Bus 2  ==  8943.829301849266\n",
            "Hora de llegada del bus .......... RETORNO:  Bus 3  ==  8946.916355894165\n",
            "Hora de llegada del bus .......... RETORNO:  Bus 5  ==  8953.779921523388\n",
            "Hora de llegada del bus .......... RETORNO:  Bus 4  ==  8996.803061905359\n",
            "********Nueva Salida de IDA - RETORNO***********\n",
            "Hora de salida del bus -------- IDA:  Bus 3  ==  9002.852066307976\n",
            "Hora de salida del bus -------- IDA:  Bus 4  ==  9002.852066307976\n",
            "Hora de salida del bus -------- IDA:  Bus 5  ==  9002.852066307976\n",
            "Hora de llegada del bus .......... RETORNO:  Bus 1  ==  9069.602326215045\n",
            "********Nueva Salida de IDA - RETORNO***********\n",
            "Hora de salida del bus -------- IDA:  Bus 1  ==  9074.413745372403\n",
            "********Nueva Salida de IDA - RETORNO***********\n",
            "Hora de llegada del bus ------- IDA:  Bus 2  ==  9162.09743541134\n",
            "********Nueva Salida de IDA - RETORNO***********\n",
            "Hora de salida del bus .......... RETORNO:  Bus 2  ==  9191.983589065776\n",
            "********Nueva Salida de IDA - RETORNO***********\n",
            "Hora de llegada del bus ------- IDA:  Bus 4  ==  9259.614413927478\n",
            "Hora de llegada del bus ------- IDA:  Bus 5  ==  9282.210712574179\n",
            "********Nueva Salida de IDA - RETORNO***********\n",
            "Hora de salida del bus .......... RETORNO:  Bus 4  ==  9309.665933765293\n",
            "Hora de salida del bus .......... RETORNO:  Bus 5  ==  9309.665933765293\n",
            "Hora de llegada del bus ------- IDA:  Bus 1  ==  9321.079318480422\n",
            "Hora de llegada del bus ------- IDA:  Bus 3  ==  9346.485761320886\n",
            "********Nueva Salida de IDA - RETORNO***********\n",
            "Hora de salida del bus .......... RETORNO:  Bus 1  ==  9367.159437104854\n",
            "Hora de salida del bus .......... RETORNO:  Bus 3  ==  9367.159437104854\n",
            "Hora de llegada del bus .......... RETORNO:  Bus 2  ==  9410.25172262785\n",
            "********Nueva Salida de IDA - RETORNO***********\n",
            "Hora de salida del bus -------- IDA:  Bus 2  ==  9428.81573221176\n",
            "********Nueva Salida de IDA - RETORNO***********\n",
            "********Nueva Salida de IDA - RETORNO***********\n",
            "Hora de llegada del bus .......... RETORNO:  Bus 4  ==  9566.428281384795\n",
            "Hora de llegada del bus .......... RETORNO:  Bus 5  ==  9589.024580031495\n",
            "********Nueva Salida de IDA - RETORNO***********\n",
            "Hora de salida del bus -------- IDA:  Bus 4  ==  9610.576583926337\n",
            "Hora de salida del bus -------- IDA:  Bus 5  ==  9610.576583926337\n",
            "Hora de llegada del bus .......... RETORNO:  Bus 1  ==  9613.825010212873\n",
            "********Nueva Salida de IDA - RETORNO***********\n",
            "Hora de salida del bus -------- IDA:  Bus 1  ==  9671.268131785326\n",
            "Hora de llegada del bus .......... RETORNO:  Bus 3  ==  9710.793132117764\n",
            "********Nueva Salida de IDA - RETORNO***********\n",
            "Hora de salida del bus -------- IDA:  Bus 3  ==  9720.93465709191\n",
            "********Nueva Salida de IDA - RETORNO***********\n",
            "Hora de llegada del bus ------- IDA:  Bus 1  ==  9823.150324095715\n",
            "********Nueva Salida de IDA - RETORNO***********\n",
            "Hora de salida del bus .......... RETORNO:  Bus 1  ==  9850.204654541469\n",
            "********Nueva Salida de IDA - RETORNO***********\n",
            "no hay boletos para:  Bus 2\n",
            "********Nueva Salida de IDA - RETORNO***********\n",
            "no hay boletos para:  Bus 2\n",
            "Hora de llegada del bus .......... RETORNO:  Bus 1  ==  10002.086846851858\n",
            "********Nueva Salida de IDA - RETORNO***********\n",
            "Hora de salida del bus -------- IDA:  Bus 1  ==  10028.03794603776\n",
            "********Nueva Salida de IDA - RETORNO***********\n",
            "******************************Un Nuevo Dia********************************\n",
            "----Destinos para dia:  7 ----\n",
            "Origen: Cuenca  destino:  Quito\n",
            "Origen: Cuenca  destino:  Guayaquil\n",
            "Origen: Quito  destino:  Baños de Agua Santa\n",
            "Origen: Guayaquil  destino:  Baños de Agua Santa\n",
            "Origen: Guayaquil  destino:  Baños de Agua Santa\n",
            "no hay boletos para:  Bus 2\n",
            "no hay boletos para:  Bus 2\n",
            "Hora de llegada del bus ------- IDA:  Bus 4  ==  10101.845471805264\n",
            "Hora de llegada del bus ------- IDA:  Bus 3  ==  10135.970659060018\n",
            "********Nueva Salida de IDA - RETORNO***********\n",
            "Hora de salida del bus .......... RETORNO:  Bus 3  ==  10152.465885090818\n",
            "Hora de salida del bus .......... RETORNO:  Bus 4  ==  10152.465885090818\n",
            "no hay boletos para:  Bus 2\n",
            "no hay boletos para:  Bus 2\n",
            "no hay boletos para:  Bus 2\n",
            "********Nueva Salida de IDA - RETORNO***********\n",
            "no hay boletos para:  Bus 2\n",
            "********Nueva Salida de IDA - RETORNO***********\n",
            "no hay boletos para:  Bus 2\n",
            "no hay boletos para:  Bus 2\n",
            "Hora de llegada del bus ------- IDA:  Bus 2  ==  10299.851203808461\n",
            "********Nueva Salida de IDA - RETORNO***********\n",
            "Hora de salida del bus .......... RETORNO:  Bus 2  ==  10321.773535768203\n",
            "********Nueva Salida de IDA - RETORNO***********\n",
            "********Nueva Salida de IDA - RETORNO***********\n",
            "********Nueva Salida de IDA - RETORNO***********\n",
            "no hay boletos para:  Bus 5\n",
            "no hay boletos para:  Bus 5\n",
            "no hay boletos para:  Bus 5\n",
            "Hora de llegada del bus ------- IDA:  Bus 5  ==  10538.58465702856\n",
            "Hora de llegada del bus .......... RETORNO:  Bus 3  ==  10567.501887058927\n",
            "********Nueva Salida de IDA - RETORNO***********\n",
            "Hora de salida del bus -------- IDA:  Bus 3  ==  10568.620838826402\n",
            "Hora de salida del bus .......... RETORNO:  Bus 5  ==  10568.620838826402\n",
            "Hora de llegada del bus ------- IDA:  Bus 1  ==  10611.265172171315\n",
            "********Nueva Salida de IDA - RETORNO***********\n",
            "Hora de salida del bus .......... RETORNO:  Bus 1  ==  10625.827358743802\n",
            "Hora de llegada del bus .......... RETORNO:  Bus 4  ==  10643.734772969747\n",
            "********Nueva Salida de IDA - RETORNO***********\n",
            "Hora de salida del bus -------- IDA:  Bus 4  ==  10692.101392084018\n",
            "Hora de llegada del bus ------- IDA:  Bus 4  ==  10720.147967144929\n",
            "********Nueva Salida de IDA - RETORNO***********\n",
            "Hora de salida del bus .......... RETORNO:  Bus 4  ==  10746.575515159566\n",
            "Hora de llegada del bus .......... RETORNO:  Bus 4  ==  10774.622090220477\n",
            "********Nueva Salida de IDA - RETORNO***********\n",
            "Hora de salida del bus -------- IDA:  Bus 4  ==  10800.750421903158\n",
            "********Nueva Salida de IDA - RETORNO***********\n",
            "Hora de llegada del bus ------- IDA:  Bus 3  ==  10878.002709698741\n",
            "Hora de llegada del bus ------- IDA:  Bus 4  ==  10891.1956209459\n",
            "********Nueva Salida de IDA - RETORNO***********\n",
            "Hora de salida del bus .......... RETORNO:  Bus 3  ==  10929.693611084753\n",
            "Hora de salida del bus .......... RETORNO:  Bus 4  ==  10929.693611084753\n",
            "no hay boletos para:  Bus 2\n",
            "********Nueva Salida de IDA - RETORNO***********\n",
            "no hay boletos para:  Bus 2\n",
            "no hay boletos para:  Bus 2\n",
            "Hora de llegada del bus .......... RETORNO:  Bus 4  ==  11020.138810127495\n",
            "********Nueva Salida de IDA - RETORNO***********\n",
            "Hora de salida del bus -------- IDA:  Bus 4  ==  11048.137078014835\n",
            "********Nueva Salida de IDA - RETORNO***********\n",
            "no hay boletos para:  Bus 2\n",
            "no hay boletos para:  Bus 5\n",
            "********Nueva Salida de IDA - RETORNO***********\n",
            "no hay boletos para:  Bus 5\n",
            "no hay boletos para:  Bus 5\n",
            "no hay boletos para:  Bus 2\n",
            "no hay boletos para:  Bus 5\n",
            "Hora de llegada del bus .......... RETORNO:  Bus 2  ==  11192.809007364904\n",
            "Hora de llegada del bus .......... RETORNO:  Bus 1  ==  11209.054584877356\n",
            "no hay boletos para:  Bus 5\n",
            "********Nueva Salida de IDA - RETORNO***********\n",
            "Hora de salida del bus -------- IDA:  Bus 1  ==  11222.233921625295\n",
            "Hora de salida del bus -------- IDA:  Bus 2  ==  11222.233921625295\n",
            "no hay boletos para:  Bus 5\n",
            "Hora de llegada del bus .......... RETORNO:  Bus 3  ==  11239.075481957092\n",
            "no hay boletos para:  Bus 5\n",
            "********Nueva Salida de IDA - RETORNO***********\n",
            "Hora de salida del bus -------- IDA:  Bus 3  ==  11284.034076808466\n",
            "no hay boletos para:  Bus 5\n",
            "Hora de llegada del bus ------- IDA:  Bus 2  ==  11340.192056627191\n",
            "********Nueva Salida de IDA - RETORNO***********\n",
            "Hora de salida del bus .......... RETORNO:  Bus 2  ==  11347.853946849562\n",
            "********Nueva Salida de IDA - RETORNO***********\n",
            "no hay boletos para:  Bus 5\n",
            "Hora de llegada del bus .......... RETORNO:  Bus 2  ==  11465.812081851458\n",
            "********Nueva Salida de IDA - RETORNO***********\n",
            "Hora de salida del bus -------- IDA:  Bus 2  ==  11467.911008095856\n",
            "Hora de llegada del bus ------- IDA:  Bus 1  ==  11475.58893952372\n",
            "Hora de llegada del bus ------- IDA:  Bus 2  ==  11479.040597915258\n",
            "Hora de llegada del bus .......... RETORNO:  Bus 5  ==  11496.628911928625\n"
          ]
        }
      ]
    },
    {
      "cell_type": "markdown",
      "source": [
        "### Agregar graficas/reportes\n",
        " #### Venta de tickets.\n"
      ],
      "metadata": {
        "id": "M3G2B90yA2IC"
      }
    },
    {
      "cell_type": "markdown",
      "source": [
        "- Venta de Tickets por Bus en cada dia "
      ],
      "metadata": {
        "id": "wiExkJ0YwwYw"
      }
    },
    {
      "cell_type": "code",
      "source": [
        "import matplotlib.pyplot as plt\n",
        "import numpy as np\n",
        "\n",
        "plt.figure(figsize=(17,8), )\n",
        "indice_barras = np.arange(5)\n",
        "ancho_barras = 0.125\n",
        "\n",
        "contDia = 0\n",
        "listaValorDia0 = []\n",
        "listaValorDia1 = []\n",
        "listaValorDia2 = []\n",
        "listaValorDia3 = []\n",
        "listaValorDia4 = []\n",
        "listaValorDia5 = []\n",
        "listaValorDia6 = []\n",
        "for key in boletosVendidosPorDia:\n",
        "  if(boletosVendidosPorDia[key][1] == 0):\n",
        "    listaValorDia0.append(boletosVendidosPorDia[key][2])\n",
        "  if(boletosVendidosPorDia[key][1] == 1):\n",
        "      listaValorDia1.append(boletosVendidosPorDia[key][2])\n",
        "  if(boletosVendidosPorDia[key][1] == 2):\n",
        "      listaValorDia2.append(boletosVendidosPorDia[key][2])\n",
        "  if(boletosVendidosPorDia[key][1] == 3):\n",
        "      listaValorDia3.append(boletosVendidosPorDia[key][2])\n",
        "  if(boletosVendidosPorDia[key][1] == 4):\n",
        "      listaValorDia4.append(boletosVendidosPorDia[key][2])\n",
        "  if(boletosVendidosPorDia[key][1] == 5):\n",
        "      listaValorDia5.append(boletosVendidosPorDia[key][2])\n",
        "  if(boletosVendidosPorDia[key][1] == 6):\n",
        "      listaValorDia6.append(boletosVendidosPorDia[key][2])\n",
        "\n",
        "\n",
        "print(\"listaValorDia0: \",listaValorDia0)\n",
        "plt.bar(indice_barras, listaValorDia0, width=ancho_barras, label='Primer Dia')\n",
        "plt.bar(indice_barras+ 1*ancho_barras, listaValorDia1, width=ancho_barras, label='Segundo Dia')\n",
        "plt.bar(indice_barras+ 2*ancho_barras, listaValorDia2, width=ancho_barras, label='Tercer Dia')\n",
        "plt.bar(indice_barras+ 3*ancho_barras, listaValorDia3, width=ancho_barras, label='Cuarto Dia')\n",
        "plt.bar(indice_barras+ 4*ancho_barras, listaValorDia4, width=ancho_barras, label='Quinto Dia')\n",
        "plt.bar(indice_barras+ 5*ancho_barras, listaValorDia5, width=ancho_barras, label='Sexto Dia')\n",
        "plt.bar(indice_barras+ 6*ancho_barras, listaValorDia6, width=ancho_barras, label='Septimo Dia')\n",
        "\n",
        "plt.xticks(indice_barras + 2*ancho_barras, (Buses))\n",
        "plt.legend(loc='best')\n",
        "plt.ylabel('CANTIDAD AUTOS')"
      ],
      "metadata": {
        "colab": {
          "base_uri": "https://localhost:8080/",
          "height": 518
        },
        "id": "znNd0B6_rb6W",
        "outputId": "3121fe0d-bb5c-41f3-8783-4c3a93eb9b77"
      },
      "execution_count": 449,
      "outputs": [
        {
          "output_type": "stream",
          "name": "stdout",
          "text": [
            "listaValorDia0:  [129, 102, 113, 116, 118]\n"
          ]
        },
        {
          "output_type": "execute_result",
          "data": {
            "text/plain": [
              "Text(0, 0.5, 'CANTIDAD AUTOS')"
            ]
          },
          "metadata": {},
          "execution_count": 449
        },
        {
          "output_type": "display_data",
          "data": {
            "text/plain": [
              "<Figure size 1224x576 with 1 Axes>"
            ],
            "image/png": "[encoded data removed]"
          },
          "metadata": {
            "needs_background": "light"
          }
        }
      ]
    },
    {
      "cell_type": "markdown",
      "source": [
        "#### Personas que se quedaron sin comprar tickets\n",
        "- Personas sin Tickets por Bus en cada dia "
      ],
      "metadata": {
        "id": "ullktvxJrYIZ"
      }
    },
    {
      "cell_type": "code",
      "source": [
        "plt.figure(figsize=(17,8), )\n",
        "indice_barras = np.arange(5)\n",
        "ancho_barras = 0.125\n",
        "\n",
        "contDia = 0\n",
        "listaValorDia0 = []\n",
        "listaValorDia1 = []\n",
        "listaValorDia2 = []\n",
        "listaValorDia3 = []\n",
        "listaValorDia4 = []\n",
        "listaValorDia5 = []\n",
        "listaValorDia6 = []\n",
        "for key in boletosVendidosPorDia:\n",
        "  if(boletosVendidosPorDia[key][1] == 0):\n",
        "    listaValorDia0.append(boletosVendidosPorDia[key][3])\n",
        "  if(boletosVendidosPorDia[key][1] == 1):\n",
        "      listaValorDia1.append(boletosVendidosPorDia[key][3])\n",
        "  if(boletosVendidosPorDia[key][1] == 2):\n",
        "      listaValorDia2.append(boletosVendidosPorDia[key][3])\n",
        "  if(boletosVendidosPorDia[key][1] == 3):\n",
        "      listaValorDia3.append(boletosVendidosPorDia[key][3])\n",
        "  if(boletosVendidosPorDia[key][1] == 4):\n",
        "      listaValorDia4.append(boletosVendidosPorDia[key][3])\n",
        "  if(boletosVendidosPorDia[key][1] == 5):\n",
        "      listaValorDia5.append(boletosVendidosPorDia[key][3])\n",
        "  if(boletosVendidosPorDia[key][1] == 6):\n",
        "      listaValorDia6.append(boletosVendidosPorDia[key][3])\n",
        "\n",
        "\n",
        "print(\"listaValorDia0: \",listaValorDia0)\n",
        "plt.bar(indice_barras, listaValorDia0, width=ancho_barras, label='Primer Dia')\n",
        "plt.bar(indice_barras+ 1*ancho_barras, listaValorDia1, width=ancho_barras, label='Segundo Dia')\n",
        "plt.bar(indice_barras+ 2*ancho_barras, listaValorDia2, width=ancho_barras, label='Tercer Dia')\n",
        "plt.bar(indice_barras+ 3*ancho_barras, listaValorDia3, width=ancho_barras, label='Cuarto Dia')\n",
        "plt.bar(indice_barras+ 4*ancho_barras, listaValorDia4, width=ancho_barras, label='Quinto Dia')\n",
        "plt.bar(indice_barras+ 5*ancho_barras, listaValorDia5, width=ancho_barras, label='Sexto Dia')\n",
        "plt.bar(indice_barras+ 6*ancho_barras, listaValorDia6, width=ancho_barras, label='Septimo Dia')\n",
        "\n",
        "plt.xticks(indice_barras + 2*ancho_barras, (Buses))\n",
        "plt.legend(loc='best')\n",
        "plt.ylabel('CANTIDAD Personas que perdieron no compraron ticket')"
      ],
      "metadata": {
        "id": "ph2UNM-7rkG3",
        "colab": {
          "base_uri": "https://localhost:8080/",
          "height": 518
        },
        "outputId": "56e943e0-7f21-42bc-ed5d-27c1e7866bf5"
      },
      "execution_count": 462,
      "outputs": [
        {
          "output_type": "stream",
          "name": "stdout",
          "text": [
            "listaValorDia0:  [0, 0, 1, 8, 12]\n"
          ]
        },
        {
          "output_type": "execute_result",
          "data": {
            "text/plain": [
              "Text(0, 0.5, 'CANTIDAD Personas que perdieron no compraron ticket')"
            ]
          },
          "metadata": {},
          "execution_count": 462
        },
        {
          "output_type": "display_data",
          "data": {
            "text/plain": [
              "<Figure size 1224x576 with 1 Axes>"
            ],
            "image/png": "[encoded data removed]"
          },
          "metadata": {
            "needs_background": "light"
          }
        }
      ]
    },
    {
      "cell_type": "markdown",
      "source": [
        "#### Lugares de origen y destino más visitados.\n"
      ],
      "metadata": {
        "id": "lPA0VdqorZZG"
      }
    },
    {
      "cell_type": "markdown",
      "source": [
        "- Lugares de Origen mas visitados "
      ],
      "metadata": {
        "id": "un0P9eiyA6uu"
      }
    },
    {
      "cell_type": "code",
      "source": [
        "listaOrigen = [\"Quito\",\"Guayaquil\",\"Cuenca\",\"Ambato\",\"Manta\",\"Machala\"]"
      ],
      "metadata": {
        "id": "sVsRbSy6-5bI"
      },
      "execution_count": 464,
      "outputs": []
    },
    {
      "cell_type": "code",
      "source": [
        "plt.figure(figsize=(10,8), )\n",
        "indice_barras = np.arange(5)\n",
        "ancho_barras = 0.125\n",
        "\n",
        "contDia = 0\n",
        "listaValorCiudad0 = 0\n",
        "listaValorCiudad1 = 0\n",
        "listaValorCiudad2 = 0\n",
        "listaValorCiudad3 = 0\n",
        "listaValorCiudad4 = 0\n",
        "listaValorCiudad5 = 0\n",
        "for key in boletosVendidosPorDia:\n",
        "  if(boletosVendidosPorDia[key][4] == 'Quito'):\n",
        "    listaValorCiudad0 += 1\n",
        "  if(boletosVendidosPorDia[key][4] == 'Guayaquil'):\n",
        "    listaValorCiudad1 += 1\n",
        "  if(boletosVendidosPorDia[key][4] == 'Cuenca'):\n",
        "    listaValorCiudad2 += 1\n",
        "  if(boletosVendidosPorDia[key][4] == 'Ambato'):\n",
        "    listaValorCiudad3 += 1\n",
        "  if(boletosVendidosPorDia[key][4] == 'Manta'):\n",
        "    listaValorCiudad4 += 1\n",
        "  if(boletosVendidosPorDia[key][4] == 'Machala'):\n",
        "    listaValorCiudad5 += 1\n",
        "\n",
        "listaValores = [listaValorCiudad0,\n",
        "                listaValorCiudad1,\n",
        "                listaValorCiudad2,\n",
        "                listaValorCiudad3,\n",
        "                listaValorCiudad4,\n",
        "                listaValorCiudad5\n",
        "                ]\n",
        "\n",
        "print(\"listaValorDia0: \",listaValorDia0)\n",
        "plt.bar(listaOrigen, listaValores)\n",
        "plt.legend(loc='best')\n",
        "plt.ylabel('numero de apariciones de origen entre semana')"
      ],
      "metadata": {
        "colab": {
          "base_uri": "https://localhost:8080/",
          "height": 535
        },
        "id": "9UcKZF95-Vgo",
        "outputId": "3b1d7e79-70d0-409a-efc0-cb5c6d1c761c"
      },
      "execution_count": 471,
      "outputs": [
        {
          "output_type": "stream",
          "name": "stderr",
          "text": [
            "WARNING:matplotlib.legend:No handles with labels found to put in legend.\n"
          ]
        },
        {
          "output_type": "stream",
          "name": "stdout",
          "text": [
            "listaValorDia0:  [0, 0, 1, 8, 12]\n"
          ]
        },
        {
          "output_type": "execute_result",
          "data": {
            "text/plain": [
              "Text(0, 0.5, 'numero de apariciones de origen entre semana')"
            ]
          },
          "metadata": {},
          "execution_count": 471
        },
        {
          "output_type": "display_data",
          "data": {
            "text/plain": [
              "<Figure size 720x576 with 1 Axes>"
            ],
            "image/png": "[encoded data removed]"
          },
          "metadata": {
            "needs_background": "light"
          }
        }
      ]
    },
    {
      "cell_type": "markdown",
      "source": [
        "- Lugares de Destinos mas visitados "
      ],
      "metadata": {
        "id": "Kp5kkjhZBhRG"
      }
    },
    {
      "cell_type": "code",
      "source": [
        "listaLugaresTuristicos = [\"Quito\",\"Guayaquil\",\"Montañita\",\"Baños de Agua Santa\",\"Cuenca\", \"Puyo\"]"
      ],
      "metadata": {
        "id": "X-QINUYyBIoF"
      },
      "execution_count": null,
      "outputs": []
    },
    {
      "cell_type": "code",
      "source": [
        "plt.figure(figsize=(10,8), )\n",
        "indice_barras = np.arange(5)\n",
        "ancho_barras = 0.125\n",
        "\n",
        "contDia = 0\n",
        "listaValorCiudad0 = 0\n",
        "listaValorCiudad1 = 0\n",
        "listaValorCiudad2 = 0\n",
        "listaValorCiudad3 = 0\n",
        "listaValorCiudad4 = 0\n",
        "listaValorCiudad5 = 0\n",
        "for key in boletosVendidosPorDia:\n",
        "  if(boletosVendidosPorDia[key][5] == 'Quito'):\n",
        "    listaValorCiudad0 += 1\n",
        "  if(boletosVendidosPorDia[key][5] == 'Guayaquil'):\n",
        "    listaValorCiudad1 += 1\n",
        "  if(boletosVendidosPorDia[key][5] == 'Montañita'):\n",
        "    listaValorCiudad2 += 1\n",
        "  if(boletosVendidosPorDia[key][5] == 'Baños de Agua Santa'):\n",
        "    listaValorCiudad3 += 1\n",
        "  if(boletosVendidosPorDia[key][5] == 'Cuenca'):\n",
        "    listaValorCiudad4 += 1\n",
        "  if(boletosVendidosPorDia[key][5] == 'Puyo'):\n",
        "    listaValorCiudad5 += 1\n",
        "\n",
        "listaValores = [listaValorCiudad0,\n",
        "                listaValorCiudad1,\n",
        "                listaValorCiudad2,\n",
        "                listaValorCiudad3,\n",
        "                listaValorCiudad4,\n",
        "                listaValorCiudad5\n",
        "                ]\n",
        "\n",
        "plt.bar(listaLugaresTuristicos, listaValores)\n",
        "plt.legend(loc='best')\n",
        "plt.ylabel('numero de apariciones de destino entre semana')"
      ],
      "metadata": {
        "colab": {
          "base_uri": "https://localhost:8080/",
          "height": 518
        },
        "id": "MNQ9PE5FBEhe",
        "outputId": "91285860-6aa8-4b4d-f3ba-73abed5aafde"
      },
      "execution_count": 473,
      "outputs": [
        {
          "output_type": "stream",
          "name": "stderr",
          "text": [
            "WARNING:matplotlib.legend:No handles with labels found to put in legend.\n"
          ]
        },
        {
          "output_type": "execute_result",
          "data": {
            "text/plain": [
              "Text(0, 0.5, 'numero de apariciones de destino entre semana')"
            ]
          },
          "metadata": {},
          "execution_count": 473
        },
        {
          "output_type": "display_data",
          "data": {
            "text/plain": [
              "<Figure size 720x576 with 1 Axes>"
            ],
            "image/png": "[encoded data removed]"
          },
          "metadata": {
            "needs_background": "light"
          }
        }
      ]
    },
    {
      "cell_type": "markdown",
      "source": [
        "#### Numero de buses y el uso del mismo diarios"
      ],
      "metadata": {
        "id": "QOCPBNEHragL"
      }
    },
    {
      "cell_type": "code",
      "source": [
        "boletosVendidosPorDia"
      ],
      "metadata": {
        "colab": {
          "base_uri": "https://localhost:8080/"
        },
        "id": "xXvnlVSRCqsG",
        "outputId": "e746cbae-86ac-47a7-9115-70975bf9f088"
      },
      "execution_count": 478,
      "outputs": [
        {
          "output_type": "execute_result",
          "data": {
            "text/plain": [
              "{'Bus 1 dia:0': ['Bus 1', 0, 89, 0, 6, 'Quito', 'Guayaquil'],\n",
              " 'Bus 1 dia:1': ['Bus 1', 1, 83, 0, 3, 'Quito', 'Montañita'],\n",
              " 'Bus 1 dia:2': ['Bus 1', 2, 78, 0, 5, 'Cuenca', 'Baños de Agua Santa'],\n",
              " 'Bus 1 dia:3': ['Bus 1', 3, 75, 0, 2, 'Ambato', 'Cuenca'],\n",
              " 'Bus 1 dia:4': ['Bus 1', 4, 57, 5, 4, 'Quito', 'Puyo'],\n",
              " 'Bus 1 dia:5': ['Bus 1', 5, 81, 0, 4, 'Quito', 'Guayaquil'],\n",
              " 'Bus 1 dia:6': ['Bus 1', 6, 70, 0, 6, 'Cuenca', 'Puyo'],\n",
              " 'Bus 2 dia:0': ['Bus 2', 0, 62, 0, 2, 'Guayaquil', 'Quito'],\n",
              " 'Bus 2 dia:1': ['Bus 2', 1, 85, 0, 5, 'Quito', 'Cuenca'],\n",
              " 'Bus 2 dia:2': ['Bus 2', 2, 103, 0, 3, 'Ambato', 'Quito'],\n",
              " 'Bus 2 dia:3': ['Bus 2', 3, 94, 1, 3, 'Quito', 'Montañita'],\n",
              " 'Bus 2 dia:4': ['Bus 2', 4, 61, 0, 2, 'Manta', 'Quito'],\n",
              " 'Bus 2 dia:5': ['Bus 2', 5, 81, 0, 2, 'Guayaquil', 'Puyo'],\n",
              " 'Bus 2 dia:6': ['Bus 2', 6, 69, 3, 3, 'Machala', 'Quito'],\n",
              " 'Bus 3 dia:0': ['Bus 3', 0, 73, 1, 2, 'Quito', 'Montañita'],\n",
              " 'Bus 3 dia:1': ['Bus 3', 1, 75, 5, 1, 'Quito', 'Puyo'],\n",
              " 'Bus 3 dia:2': ['Bus 3', 2, 88, 4, 4, 'Manta', 'Quito'],\n",
              " 'Bus 3 dia:3': ['Bus 3', 3, 79, 0, 5, 'Quito', 'Montañita'],\n",
              " 'Bus 3 dia:4': ['Bus 3', 4, 102, 0, 4, 'Quito', 'Cuenca'],\n",
              " 'Bus 3 dia:5': ['Bus 3', 5, 86, 1, 7, 'Manta', 'Baños de Agua Santa'],\n",
              " 'Bus 3 dia:6': ['Bus 3', 6, 101, 0, 3, 'Machala', 'Montañita'],\n",
              " 'Bus 4 dia:0': ['Bus 4', 0, 76, 8, 1, 'Manta', 'Montañita'],\n",
              " 'Bus 4 dia:1': ['Bus 4', 1, 56, 16, 3, 'Cuenca', 'Guayaquil'],\n",
              " 'Bus 4 dia:2': ['Bus 4', 2, 91, 0, 2, 'Machala', 'Baños de Agua Santa'],\n",
              " 'Bus 4 dia:3': ['Bus 4', 3, 75, 0, 4, 'Guayaquil', 'Quito'],\n",
              " 'Bus 4 dia:4': ['Bus 4', 4, 69, 0, 4, 'Cuenca', 'Montañita'],\n",
              " 'Bus 4 dia:5': ['Bus 4', 5, 49, 2, 2, 'Quito', 'Guayaquil'],\n",
              " 'Bus 4 dia:6': ['Bus 4', 6, 68, 0, 4, 'Ambato', 'Quito'],\n",
              " 'Bus 5 dia:0': ['Bus 5', 0, 78, 12, 2, 'Ambato', 'Puyo'],\n",
              " 'Bus 5 dia:1': ['Bus 5', 1, 102, 0, 4, 'Quito', 'Guayaquil'],\n",
              " 'Bus 5 dia:2': ['Bus 5', 2, 62, 0, 3, 'Cuenca', 'Quito'],\n",
              " 'Bus 5 dia:3': ['Bus 5', 3, 73, 4, 2, 'Guayaquil', 'Baños de Agua Santa'],\n",
              " 'Bus 5 dia:4': ['Bus 5', 4, 111, 4, 5, 'Quito', 'Guayaquil'],\n",
              " 'Bus 5 dia:5': ['Bus 5', 5, 58, 3, 5, 'Cuenca', 'Baños de Agua Santa'],\n",
              " 'Bus 5 dia:6': ['Bus 5', 6, 77, 0, 3, 'Machala', 'Quito']}"
            ]
          },
          "metadata": {},
          "execution_count": 478
        }
      ]
    },
    {
      "cell_type": "code",
      "source": [
        "plt.figure(figsize=(17,8), )\n",
        "indice_barras = np.arange(5)\n",
        "ancho_barras = 0.125\n",
        "\n",
        "contDia = 0\n",
        "listaValorDia0 = []\n",
        "listaValorDia1 = []\n",
        "listaValorDia2 = []\n",
        "listaValorDia3 = []\n",
        "listaValorDia4 = []\n",
        "listaValorDia5 = []\n",
        "listaValorDia6 = []\n",
        "for key in boletosVendidosPorDia:\n",
        "  if(boletosVendidosPorDia[key][1] == 0):\n",
        "    listaValorDia0.append(boletosVendidosPorDia[key][4])\n",
        "  if(boletosVendidosPorDia[key][1] == 1):\n",
        "      listaValorDia1.append(boletosVendidosPorDia[key][4])\n",
        "  if(boletosVendidosPorDia[key][1] == 2):\n",
        "      listaValorDia2.append(boletosVendidosPorDia[key][4])\n",
        "  if(boletosVendidosPorDia[key][1] == 3):\n",
        "      listaValorDia3.append(boletosVendidosPorDia[key][4])\n",
        "  if(boletosVendidosPorDia[key][1] == 4):\n",
        "      listaValorDia4.append(boletosVendidosPorDia[key][4])\n",
        "  if(boletosVendidosPorDia[key][1] == 5):\n",
        "      listaValorDia5.append(boletosVendidosPorDia[key][4])\n",
        "  if(boletosVendidosPorDia[key][1] == 6):\n",
        "      listaValorDia6.append(boletosVendidosPorDia[key][4])\n",
        "\n",
        "\n",
        "print(\"listaValorDia0: \",listaValorDia0)\n",
        "plt.bar(indice_barras, listaValorDia0, width=ancho_barras, label='Primer Dia')\n",
        "plt.bar(indice_barras+ 1*ancho_barras, listaValorDia1, width=ancho_barras, label='Segundo Dia')\n",
        "plt.bar(indice_barras+ 2*ancho_barras, listaValorDia2, width=ancho_barras, label='Tercer Dia')\n",
        "plt.bar(indice_barras+ 3*ancho_barras, listaValorDia3, width=ancho_barras, label='Cuarto Dia')\n",
        "plt.bar(indice_barras+ 4*ancho_barras, listaValorDia4, width=ancho_barras, label='Quinto Dia')\n",
        "plt.bar(indice_barras+ 5*ancho_barras, listaValorDia5, width=ancho_barras, label='Sexto Dia')\n",
        "plt.bar(indice_barras+ 6*ancho_barras, listaValorDia6, width=ancho_barras, label='Septimo Dia')\n",
        "\n",
        "plt.xticks(indice_barras + 2*ancho_barras, (Buses))\n",
        "plt.legend(loc='best')\n",
        "plt.ylabel('CANTIDAD VIAJES')"
      ],
      "metadata": {
        "id": "BIjtjOoXrlzu",
        "colab": {
          "base_uri": "https://localhost:8080/",
          "height": 518
        },
        "outputId": "ae079968-3837-4443-ca36-c031b14eb268"
      },
      "execution_count": 480,
      "outputs": [
        {
          "output_type": "stream",
          "name": "stdout",
          "text": [
            "listaValorDia0:  [6, 2, 2, 1, 2]\n"
          ]
        },
        {
          "output_type": "execute_result",
          "data": {
            "text/plain": [
              "Text(0, 0.5, 'CANTIDAD VIAJES')"
            ]
          },
          "metadata": {},
          "execution_count": 480
        },
        {
          "output_type": "display_data",
          "data": {
            "text/plain": [
              "<Figure size 1224x576 with 1 Axes>"
            ],
            "image/png": "[encoded data removed]"
          },
          "metadata": {
            "needs_background": "light"
          }
        }
      ]
    }
  ]
}