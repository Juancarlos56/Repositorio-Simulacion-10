{
  "nbformat": 4,
  "nbformat_minor": 0,
  "metadata": {
    "colab": {
      "name": "Examen-Simulacion-Interciclo-JB.ipynb",
      "provenance": [],
      "collapsed_sections": [],
      "include_colab_link": true
    },
    "kernelspec": {
      "name": "python3",
      "display_name": "Python 3"
    },
    "language_info": {
      "name": "python"
    }
  },
  "cells": [
    {
      "cell_type": "markdown",
      "metadata": {
        "id": "view-in-github",
        "colab_type": "text"
      },
      "source": [
        "<a href=\"https://colab.research.google.com/github/Juancarlos56/Repositorio-Simulacion-10/blob/main/Examenes/Examen_Simulacion_Interciclo_JB.ipynb\" target=\"_parent\"><img src=\"https://colab.research.google.com/assets/colab-badge.svg\" alt=\"Open In Colab\"/></a>"
      ]
    },
    {
      "cell_type": "code",
      "execution_count": null,
      "metadata": {
        "id": "hWCJAFd2dc4g"
      },
      "outputs": [],
      "source": [
        "cero con cinco digitos 0.12345\n",
        "1. todos desihguales\n",
        "2. 1 par = dos iguales \n",
        "3. tercia = tres iguales\n",
        "4 2 pares = 4 iguales -2 par -2 par\n",
        "5. full - tercia y par \n",
        "6. poker = 4 iguales\n",
        "7. Quintanilla = todas iguakes \n",
        "\n",
        "\n",
        "Diccionario \n",
        "numero = regla\n",
        "\n",
        "Contar por categoria cuantos hay Oi\n",
        "\n",
        "Ei = probabilidad * numeros total \n",
        "\n",
        "Formula = (EI - OI)^2/EI\n",
        "\n",
        "Sumamos los resultados\n",
        "\n",
        "Error = 5 gradoos = 0.05 \n",
        "Grados de libertad para 5 decimales = 12.59"
      ]
    },
    {
      "cell_type": "code",
      "source": [
        "# Importanmos las librerias\n",
        "import random\n",
        "import matplotlib.pyplot as plt\n",
        "import numpy as np"
      ],
      "metadata": {
        "id": "vahTZD2phERX"
      },
      "execution_count": null,
      "outputs": []
    },
    {
      "cell_type": "code",
      "source": [
        "def truncate(num, n):\n",
        "    integer = int(num * (10**n))/(10**n)\n",
        "    return float(integer)"
      ],
      "metadata": {
        "id": "nqemkLCJi8tQ"
      },
      "execution_count": 190,
      "outputs": []
    },
    {
      "cell_type": "code",
      "source": [
        "#Defino una funcion para generar los 100 numeros pseudoaletaroios, \n",
        "#en este caso estoy utilizando la libreria de Python random\n",
        "def random_python(semilla=\"01032022\",N=100):\n",
        "  numeros = []\n",
        "  random.seed(semilla)\n",
        "  [numeros.append(truncate(random.random(),5))for i in range(N)]\n",
        "  return numeros"
      ],
      "metadata": {
        "id": "0r7j_JUShmzN"
      },
      "execution_count": 189,
      "outputs": []
    },
    {
      "cell_type": "code",
      "source": [
        "print(truncate(0.006600,5))\n",
        "print(truncate(0.66000,5))\n",
        "print(truncate(0.06600,5))"
      ],
      "metadata": {
        "colab": {
          "base_uri": "https://localhost:8080/"
        },
        "id": "45ZplElYmTy-",
        "outputId": "51051d08-d368-480f-8a7e-1c5ccf10659c"
      },
      "execution_count": null,
      "outputs": [
        {
          "output_type": "stream",
          "name": "stdout",
          "text": [
            "0.0066\n",
            "0.66\n",
            "0.066\n"
          ]
        }
      ]
    },
    {
      "cell_type": "code",
      "source": [
        "cero con cinco digitos 0.12345\n",
        "1. todos desihguales\n",
        "2. 1 par = dos iguales \n",
        "3. tercia = tres iguales\n",
        "4 2 pares = 4 iguales -2 par -2 par\n",
        "5. full - tercia y par \n",
        "6. poker = 4 iguales\n",
        "7. Quintanilla = todas iguakes \n"
      ],
      "metadata": {
        "id": "QmjSeXiFmT4m"
      },
      "execution_count": null,
      "outputs": []
    },
    {
      "cell_type": "code",
      "source": [
        "from collections import Counter\n",
        "def prueba_poker(valoresGenerados):\n",
        "  contQuintanilla = contPoker = contTerciaPar = cont2Pares = cont1Tercia = cont1Par = contDesiguales = 0\n",
        "\n",
        "  for valor in valoresGenerados:\n",
        "    #valorString = str(valor).split(\".\")[1]\n",
        "    resultado={}\n",
        "    valorStringList = list(str(valor).split(\".\")[1].ljust(5,'0'))\n",
        "    #valorStringList = list(str(valor).split(\".\")[1])\n",
        "    conteo=Counter(valorStringList)\n",
        "    for clave in conteo:  \n",
        "      valor=conteo[clave]\n",
        "      if valor != 1:\n",
        "        resultado[clave] = valor\n",
        "    #print(resultado)\n",
        "        \n",
        "    if(resultado == {}):\n",
        "      contDesiguales = contDesiguales + 1\n",
        "      \n",
        "    else:\n",
        "\n",
        "      if len(resultado) > 1 :\n",
        "        contadorValoresTercia = contadorValoresPar = 0\n",
        "        for resul in resultado:\n",
        "          if resultado[resul] == 2:\n",
        "            contadorValoresPar = contadorValoresPar + 1 \n",
        "          if resultado[resul] == 3:\n",
        "            contadorValoresTercia = contadorValoresTercia + 1\n",
        "        \n",
        "        if contadorValoresTercia > 0 and contadorValoresPar > 0:\n",
        "          contTerciaPar = contTerciaPar + 1\n",
        "        else:\n",
        "          if contadorValoresTercia > 0 and contadorValoresPar < 1:\n",
        "            cont1Tercia = cont1Tercia + 1\n",
        "          if contadorValoresTercia < 1 and contadorValoresPar > 0:\n",
        "            cont2Pares = cont2Pares + 1\n",
        "            \n",
        "      else:\n",
        "        res = list(resultado.values())[0]\n",
        "        if(res == 3):\n",
        "          cont1Tercia = cont1Tercia + 1\n",
        "        if(res == 4):\n",
        "          contPoker = contPoker + 1\n",
        "        if(res == 5):\n",
        "          contQuintanilla = contQuintanilla + 1\n",
        "        if(res == 2):\n",
        "          cont1Par = cont1Par + 1\n",
        "\n",
        "  print(\"contQuintanilla contPoker contTerciaPar cont2Pares cont1Tercia cont1Par contDesiguales\", contQuintanilla, contPoker, contTerciaPar, cont2Pares, cont1Tercia, cont1Par, contDesiguales)\n",
        "  ##Caluclo de Ei\n",
        "  EiQuintanilla = 100 * 0.0001\n",
        "  EiPoker = 100 * 0.0045\n",
        "  EiTercia = 100 * 0.0720\n",
        "  EiTerciaPar = 100 * 0.0090\n",
        "  EiDosPares = 100 * 0.1080\n",
        "  EiUnPares = 100 * 0.5040\n",
        "  EiDiferentes = 100 * 0.3024\n",
        "  \n",
        "  \n",
        "  ##Aplicar formula\n",
        "  rq = ((EiQuintanilla - contQuintanilla)**2)/EiQuintanilla\n",
        "  rp = ((EiPoker - contPoker)**2)/EiPoker\n",
        "  rtp = ((EiTerciaPar - contTerciaPar)**2)/EiTerciaPar\n",
        "  r2p = ((EiDosPares - cont2Pares)**2)/EiDosPares\n",
        "  rt = ((EiTercia - cont1Tercia)**2)/EiTercia\n",
        "  rpar = ((EiUnPares - cont1Par)**2)/EiUnPares\n",
        "  rd = ((EiDiferentes - contDesiguales)**2)/EiDiferentes\n",
        "  respuesta = rq + rp + rtp + r2p + rt + rpar + rd\n",
        "  return respuesta"
      ],
      "metadata": {
        "id": "_LQOcKu6h0Fd"
      },
      "execution_count": 188,
      "outputs": []
    },
    {
      "cell_type": "markdown",
      "source": [
        "### Random"
      ],
      "metadata": {
        "id": "Fc5xOWdeDnf8"
      }
    },
    {
      "cell_type": "code",
      "source": [
        "import random\n",
        "numerosRandomLibreary = random_python(1032022, 100)\n",
        "print(\"Numeros Aleatorios generados: \",numerosRandomLibreary)\n",
        "print(prueba_poker(numerosRandomLibreary))"
      ],
      "metadata": {
        "colab": {
          "base_uri": "https://localhost:8080/"
        },
        "id": "v9k5p9othtTX",
        "outputId": "89cea5b4-52b2-4c4e-c7ac-56f4309f83a9"
      },
      "execution_count": 191,
      "outputs": [
        {
          "output_type": "stream",
          "name": "stdout",
          "text": [
            "Numeros Aleatorios generados:  [0.60096, 0.75448, 0.12043, 0.22381, 0.35544, 0.36493, 0.17405, 0.3225, 0.07365, 0.22328, 0.56576, 0.47192, 0.42029, 0.37108, 0.1065, 0.38331, 0.70498, 0.1369, 0.57169, 0.97893, 0.23678, 0.00672, 0.5139, 0.64386, 0.6777, 0.18065, 0.26003, 0.99901, 0.78192, 0.65281, 0.41158, 0.35032, 0.63215, 0.24128, 0.15876, 0.06886, 0.22031, 0.06359, 0.63595, 0.5954, 0.67986, 0.24934, 0.97015, 0.51759, 0.01464, 0.62785, 0.60439, 0.57345, 0.09193, 0.38857, 0.39098, 0.94565, 0.13011, 0.65062, 0.74547, 0.83429, 0.28925, 0.99047, 0.52202, 0.45849, 0.09767, 0.37267, 0.71644, 0.1592, 0.09577, 0.54991, 0.90418, 0.68507, 0.20019, 0.80839, 0.31619, 0.42123, 0.57313, 0.67765, 0.25347, 0.04977, 0.06577, 0.13836, 0.57308, 0.12501, 0.24218, 0.36667, 0.73774, 0.20541, 0.26456, 0.14637, 0.49109, 0.5183, 0.33457, 0.74858, 0.79547, 0.299, 0.49724, 0.82045, 0.41788, 0.024, 0.62875, 0.83702, 0.65463, 0.04217]\n",
            "contQuintanilla contPoker contTerciaPar cont2Pares cont1Tercia cont1Par contDesiguales 0 0 0 7 9 52 32\n",
            "3.3002645502645507\n"
          ]
        }
      ]
    },
    {
      "cell_type": "markdown",
      "source": [
        "### Cuadrados Medios\n"
      ],
      "metadata": {
        "id": "X6q9-wO3D1vu"
      }
    },
    {
      "cell_type": "code",
      "source": [
        "def cuadrados_medios(semilla=74731897457, num_digitos=7, N=100):\n",
        "  numeros = []\n",
        "  xo = semilla\n",
        "  digitos = num_digitos\n",
        "  iteraciones = N\n",
        "  xn = xo\n",
        "  for i in range(iteraciones):\n",
        "    xnn = xn**2\n",
        "    txnn = str(xnn).zfill(8)\n",
        "    tam = len(txnn)\n",
        "    ui = int(txnn[int(tam/2-digitos/2):int(tam/2+digitos/2)])\n",
        "    rn = ui / (int('9'*digitos)+1)\n",
        "\n",
        "    numeros.append(truncate(rn,5))\n",
        "    xn = ui\n",
        "  return numeros "
      ],
      "metadata": {
        "id": "wa675uzYD6i3"
      },
      "execution_count": 192,
      "outputs": []
    },
    {
      "cell_type": "code",
      "source": [
        "import pandas as pd\n",
        "numerosRandomCuadradosMedios = cuadrados_medios(74731897457, 7, 100)\n",
        "print(\"Numeros Aleatorios generados: \",numerosRandomCuadradosMedios)\n",
        "print(prueba_poker(numerosRandomCuadradosMedios))"
      ],
      "metadata": {
        "colab": {
          "base_uri": "https://localhost:8080/"
        },
        "id": "PYBQfcGDvF30",
        "outputId": "534cc561-1015-4365-a7d5-0b5c88eeb4c2"
      },
      "execution_count": 193,
      "outputs": [
        {
          "output_type": "stream",
          "name": "stdout",
          "text": [
            "Numeros Aleatorios generados:  [0.49752, 0.52963, 0.51111, 0.23813, 0.07944, 0.12032, 0.77792, 0.17166, 0.67842, 0.25695, 0.24741, 0.13786, 0.06372, 0.60493, 0.94369, 0.55553, 0.61858, 0.64195, 0.11084, 0.86414, 0.74658, 0.38318, 0.83419, 0.87779, 0.523, 0.53799, 0.43926, 0.95426, 0.62607, 0.97591, 0.41184, 0.61531, 0.61316, 0.9707, 0.26625, 0.92044, 0.21955, 0.0229, 0.45565, 0.6233, 0.50488, 0.90835, 0.1148, 0.79292, 0.731, 0.37138, 0.92325, 0.39591, 0.7505, 0.26285, 0.94538, 0.75185, 0.28263, 0.81299, 0.96298, 0.33779, 0.10816, 0.99537, 0.76979, 0.58896, 0.87482, 0.31685, 0.39772, 0.18493, 0.01656, 0.45582, 0.77843, 0.96291, 0.20991, 0.6607, 0.53136, 0.34483, 0.90848, 0.34953, 0.17653, 0.64182, 0.93984, 0.30674, 0.92065, 0.6071, 0.57283, 0.14383, 0.87788, 0.67417, 0.50815, 0.2217, 0.54082, 0.492, 0.06901, 0.63539, 0.72718, 0.80122, 0.95957, 0.78917, 0.78992, 0.97392, 0.52464, 0.25384, 0.37284, 0.00981]\n",
            "contQuintanilla contPoker contTerciaPar cont2Pares cont1Tercia cont1Par contDesiguales 0 2 1 14 3 57 23\n",
            "11.355820105820106\n"
          ]
        }
      ]
    },
    {
      "cell_type": "markdown",
      "source": [
        "### Congruencia Lineal"
      ],
      "metadata": {
        "id": "Ia2D9RxAEfmJ"
      }
    },
    {
      "cell_type": "code",
      "source": [
        "def congruencia_lineal(semilla=7, valor_a=74731897457, valor_b=37747318974, valor_m=19, N=100): \n",
        "  xo = semilla\n",
        "  a = valor_a\n",
        "  b = valor_b\n",
        "  m = valor_m\n",
        "  iteraciones = N\n",
        "  numeros = []\n",
        "  xn = xo\n",
        "  for i in range(iteraciones):\n",
        "    xnn = (a*xn+b) % m\n",
        "    ui = xnn/m\n",
        "    numeros.append(truncate(ui,5))\n",
        "    xn = xnn\n",
        "  return numeros"
      ],
      "metadata": {
        "id": "CPAPzH8AElkt"
      },
      "execution_count": 194,
      "outputs": []
    },
    {
      "cell_type": "code",
      "source": [
        "numerosRandomCongruenciaLineal = congruencia_lineal(7, 74731897457, 37747318974, 19, 100)\n",
        "print(\"Numeros Aleatorios generados: \",numerosRandomCongruenciaLineal)\n",
        "print(prueba_poker(numerosRandomCongruenciaLineal))"
      ],
      "metadata": {
        "colab": {
          "base_uri": "https://localhost:8080/"
        },
        "id": "y3B7zcGpEiKu",
        "outputId": "2be0b4bb-3fcd-4b57-cd3a-ed7086d5fdcd"
      },
      "execution_count": 195,
      "outputs": [
        {
          "output_type": "stream",
          "name": "stdout",
          "text": [
            "Numeros Aleatorios generados:  [0.89473, 0.8421, 0.94736, 0.73684, 0.15789, 0.31578, 0.0, 0.63157, 0.36842, 0.89473, 0.8421, 0.94736, 0.73684, 0.15789, 0.31578, 0.0, 0.63157, 0.36842, 0.89473, 0.8421, 0.94736, 0.73684, 0.15789, 0.31578, 0.0, 0.63157, 0.36842, 0.89473, 0.8421, 0.94736, 0.73684, 0.15789, 0.31578, 0.0, 0.63157, 0.36842, 0.89473, 0.8421, 0.94736, 0.73684, 0.15789, 0.31578, 0.0, 0.63157, 0.36842, 0.89473, 0.8421, 0.94736, 0.73684, 0.15789, 0.31578, 0.0, 0.63157, 0.36842, 0.89473, 0.8421, 0.94736, 0.73684, 0.15789, 0.31578, 0.0, 0.63157, 0.36842, 0.89473, 0.8421, 0.94736, 0.73684, 0.15789, 0.31578, 0.0, 0.63157, 0.36842, 0.89473, 0.8421, 0.94736, 0.73684, 0.15789, 0.31578, 0.0, 0.63157, 0.36842, 0.89473, 0.8421, 0.94736, 0.73684, 0.15789, 0.31578, 0.0, 0.63157, 0.36842, 0.89473, 0.8421, 0.94736, 0.73684, 0.15789, 0.31578, 0.0, 0.63157, 0.36842, 0.89473]\n",
            "contQuintanilla contPoker contTerciaPar cont2Pares cont1Tercia cont1Par contDesiguales 11 0 0 0 0 0 89\n",
            "12261.937830687832\n"
          ]
        }
      ]
    },
    {
      "cell_type": "markdown",
      "source": [
        "### Calculo de Independencia de Generador de Tauswoth"
      ],
      "metadata": {
        "id": "vCg2hmjMFQ5O"
      }
    },
    {
      "cell_type": "code",
      "source": [
        "def generador_tauswoth(r=7, q=15, l=7, N=100):\n",
        "\n",
        "  valor_r = r\n",
        "  valor_q = q\n",
        "\n",
        "  if (0 < valor_r) and (valor_r < valor_q) :\n",
        "    condicion = True\n",
        "  else:\n",
        "    print(\"\\n Condicion: r y q deben cumplir 0 < r < q. \\n\")  \n",
        "    return\n",
        "\n",
        "  valor_nm = N*l\n",
        "  listaNumerosBinarios = []\n",
        "\n",
        "  ##Creacion de valores binarios con formula bi = (bi-r + bi-q) mod 2\n",
        "  for i in range(0,valor_nm):\n",
        "    if(i<valor_q):\n",
        "      listaNumerosBinarios.append(1)\n",
        "    else: \n",
        "      listaNumerosBinarios.append((listaNumerosBinarios[i-valor_r]+listaNumerosBinarios[i-valor_q]) % 2)\n",
        "\n",
        "  ##Agrupar para conversion \n",
        "  valor_l = l\n",
        "  valor_agrupaciones = int(valor_nm/valor_l)\n",
        "  posicion = 0 \n",
        "  aux = valor_l\n",
        "  cont = 0\n",
        "  listaValoresNumericos = []\n",
        "\n",
        "  for j in range(0,valor_agrupaciones):\n",
        "    sublista =listaNumerosBinarios[cont:aux] \n",
        "    binario_To_Decimal = 0\n",
        "    cont2 = 0\n",
        "    for k in range(len(sublista)-1,-1,-1):\n",
        "      if(sublista[cont2]==1): \n",
        "        binario_To_Decimal = 2**(k) + binario_To_Decimal\n",
        "      cont2 = cont2 + 1\n",
        "    listaValoresNumericos.append(truncate((binario_To_Decimal / (2**valor_l) ), 5))\n",
        "    cont = cont + valor_l\n",
        "    aux = aux + valor_l\n",
        "    \n",
        "  return listaValoresNumericos"
      ],
      "metadata": {
        "id": "vEx4JJEyFQQu"
      },
      "execution_count": 196,
      "outputs": []
    },
    {
      "cell_type": "code",
      "source": [
        "numerosRandomtauswoth = generador_tauswoth(7, 15, 7, 100)\n",
        "print(\"Numeros Aleatorios generados: \",numerosRandomtauswoth)\n",
        "print(prueba_poker(numerosRandomtauswoth))"
      ],
      "metadata": {
        "colab": {
          "base_uri": "https://localhost:8080/"
        },
        "id": "umWKIb3rFUJV",
        "outputId": "6110b917-da80-47a8-91d1-393ba602cc97"
      },
      "execution_count": 197,
      "outputs": [
        {
          "output_type": "stream",
          "name": "stdout",
          "text": [
            "Numeros Aleatorios generados:  [0.99218, 0.99218, 0.5, 0.49218, 0.74218, 0.5, 0.36718, 0.61718, 0.6875, 0.49218, 0.64843, 0.59375, 0.28906, 0.52343, 0.63281, 0.375, 0.6875, 0.0, 0.34375, 0.34375, 0.45312, 0.34375, 0.38281, 0.30468, 0.49218, 0.84375, 0.39843, 0.53906, 0.71875, 0.48437, 0.625, 0.61718, 0.80468, 0.5, 0.39843, 0.64843, 0.57812, 0.27343, 0.54687, 0.67968, 0.40625, 0.24218, 0.53906, 0.57812, 0.3125, 0.60156, 0.69531, 0.99218, 0.14843, 0.84375, 0.28906, 0.64843, 0.50781, 0.3125, 0.5625, 0.21875, 0.4375, 0.42187, 0.32812, 0.38281, 0.28125, 0.46875, 0.85937, 0.875, 0.55468, 0.99218, 0.71875, 0.27343, 0.60156, 0.71875, 0.45312, 0.65625, 0.57031, 0.77343, 0.55468, 0.42187, 0.66406, 0.10937, 0.28125, 0.77343, 0.88281, 0.5, 0.4375, 0.6875, 0.53125, 0.8125, 0.57812, 0.98437, 0.71093, 0.78125, 0.57031, 0.46093, 0.24218, 0.51562, 0.10156, 0.84375, 0.82812, 0.21875, 0.32031, 0.30468]\n",
            "contQuintanilla contPoker contTerciaPar cont2Pares cont1Tercia cont1Par contDesiguales 1 4 0 4 2 44 45\n",
            "142.9695767195767\n"
          ]
        }
      ]
    }
  ]
}