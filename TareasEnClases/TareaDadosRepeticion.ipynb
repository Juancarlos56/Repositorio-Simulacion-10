{
  "nbformat": 4,
  "nbformat_minor": 0,
  "metadata": {
    "colab": {
      "name": "TareaDadosRepeticion.ipynb",
      "provenance": [],
      "collapsed_sections": [],
      "authorship_tag": "ABX9TyNfwBpH2pvE6eh/2NTLic5K",
      "include_colab_link": true
    },
    "kernelspec": {
      "name": "python3",
      "display_name": "Python 3"
    },
    "language_info": {
      "name": "python"
    }
  },
  "cells": [
    {
      "cell_type": "markdown",
      "metadata": {
        "id": "view-in-github",
        "colab_type": "text"
      },
      "source": [
        "<a href=\"https://colab.research.google.com/github/Juancarlos56/Repositorio-Simulacion-10/blob/main/TareasEnClases/TareaDadosRepeticion.ipynb\" target=\"_parent\"><img src=\"https://colab.research.google.com/assets/colab-badge.svg\" alt=\"Open In Colab\"/></a>"
      ]
    },
    {
      "cell_type": "markdown",
      "source": [
        "### Tarea: \n",
        "* generar dos numeros aleatorios 1-6\n",
        "* sumar estos numeros\n",
        "* iteraciones 100 1000 1000\n",
        "* cuantas veces sale el 2 al 12\n",
        "* barra de histogramas\n",
        "\n",
        "### Realizado por: Juan Carlos Barrera Barrera"
      ],
      "metadata": {
        "id": "sE6dVTqUiner"
      }
    },
    {
      "cell_type": "code",
      "execution_count": 7,
      "metadata": {
        "colab": {
          "base_uri": "https://localhost:8080/",
          "height": 917
        },
        "id": "8Be35K6QijJU",
        "outputId": "827c22fd-94d6-4658-c49f-f99b3f280cfd"
      },
      "outputs": [
        {
          "output_type": "stream",
          "name": "stdout",
          "text": [
            "Grafica con 100 iteraciones: \n"
          ]
        },
        {
          "output_type": "display_data",
          "data": {
            "text/plain": [
              "<Figure size 432x288 with 1 Axes>"
            ],
            "image/png": "[encoded data removed]"
          },
          "metadata": {
            "needs_background": "light"
          }
        },
        {
          "output_type": "stream",
          "name": "stdout",
          "text": [
            "\n",
            "\n",
            "Grafica con 1000 iteraciones: \n"
          ]
        },
        {
          "output_type": "display_data",
          "data": {
            "text/plain": [
              "<Figure size 432x288 with 1 Axes>"
            ],
            "image/png": "[encoded data removed]"
          },
          "metadata": {
            "needs_background": "light"
          }
        },
        {
          "output_type": "stream",
          "name": "stdout",
          "text": [
            "\n",
            "\n",
            "Grafica con 10000 iteraciones: \n"
          ]
        },
        {
          "output_type": "display_data",
          "data": {
            "text/plain": [
              "<Figure size 432x288 with 1 Axes>"
            ],
            "image/png": "[encoded data removed]"
          },
          "metadata": {
            "needs_background": "light"
          }
        },
        {
          "output_type": "stream",
          "name": "stdout",
          "text": [
            "\n",
            "\n"
          ]
        }
      ],
      "source": [
        "import random\n",
        "import matplotlib.pyplot as plt\n",
        "\n",
        "#random.seed(0)\n",
        "def funcionDatos(valorIteraciones): \n",
        "  lista = []\n",
        "  for iteraciones in range(0, valorIteraciones): \n",
        "    numero1 =random.randint(1,6) \n",
        "    numero2 =random.randint(1,6)\n",
        "    sumaNumero = numero1+numero2\n",
        "    lista.append(sumaNumero)\n",
        "\n",
        "  #print(\"lista: \", lista)\n",
        "  lista.count(9)\n",
        "\n",
        "  diccionarioRepeticiones = {}\n",
        "  for repeticiones in range(2,13):\n",
        "    diccionarioRepeticiones[repeticiones] = lista.count(repeticiones)\n",
        "\n",
        "  #print(diccionarioRepeticiones)\n",
        "\n",
        "  plt.bar(list(diccionarioRepeticiones.keys()), diccionarioRepeticiones.values(), color='g')\n",
        "  plt.show()\n",
        "\n",
        "\n",
        "print(\"Grafica con 100 iteraciones: \")\n",
        "funcionDatos(100)\n",
        "print(\"\\n\")\n",
        "print(\"Grafica con 1000 iteraciones: \")\n",
        "funcionDatos(1000)\n",
        "print(\"\\n\")\n",
        "print(\"Grafica con 10000 iteraciones: \")\n",
        "funcionDatos(10000)\n",
        "print(\"\\n\")"
      ]
    }
  ]
}